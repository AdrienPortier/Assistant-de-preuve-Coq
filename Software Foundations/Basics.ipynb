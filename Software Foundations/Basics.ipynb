{
 "cells": [
  {
   "cell_type": "markdown",
   "id": "64cad4fc-3da4-4ed3-8758-cea437c2ac9e",
   "metadata": {},
   "source": [
    "## Adrien Portier\n",
    "<h1><center>  Software Foundations - Logical Foundations (1) <br>\n",
    " Basics </center></h1>\n"
   ]
  },
  {
   "cell_type": "markdown",
   "id": "bd2fd4d4-d624-4ccb-8fdb-3728f7ece9b8",
   "metadata": {},
   "source": [
    "***\n",
    "# Manipulation d'un type inductive de base (jours)"
   ]
  },
  {
   "cell_type": "markdown",
   "id": "113d5535-36ad-4f96-8a89-5c6d73053ea2",
   "metadata": {},
   "source": [
    "Nous pouvons créer le type jour en énumérant tous ses éléments : "
   ]
  },
  {
   "cell_type": "code",
   "execution_count": 1,
   "id": "0b66570b-22e6-45a6-bd56-0d16fbe8abfc",
   "metadata": {},
   "outputs": [
    {
     "data": {
      "text/html": [
       "\n",
       "<div class=\"coq_kernel_output_area\">\n",
       "    <pre></pre>\n",
       "</div>\n",
       "\n",
       "<div class=\"coq_kernel_rich_cell_output coq_kernel_status_message_area\" style=\"padding: 5px 0px;\">\n",
       "    <i class=\"fa-check fa text-success\"></i>\n",
       "    <span>Cell evaluated.</span>\n",
       "</div>\n",
       "\n",
       "<div class=\"coq_kernel_rich_cell_output coq_kernel_status_message_area coq_kernel_rolled_back_status_message\" style=\"padding: 5px 0px; display: none;\">\n",
       "    <i class=\"fa-exclamation-circle fa text-info\"></i>\n",
       "    <span>Cell rolled back.</span>\n",
       "</div>\n",
       "\n",
       "<div class=\"coq_kernel_rich_cell_output coq_kernel_roll_back_controls_area\" style=\"display: none; position: relative;\">\n",
       "    <button class=\"btn btn-default btn-xs coq_kernel_roll_back_button\" onclick=\"CoqKernel.roll_back(this)\">\n",
       "        <i class=\"fa-step-backward fa\"></i>\n",
       "        <span class=\"toolbar-btn-label\">Rollback cell</span>\n",
       "    </button>\n",
       "\n",
       "    <div style=\"display: inline-block; vertical-align: middle; padding-left: 0; padding-right: 0;\">\n",
       "      <input class=\"coq_kernel_auto_roll_back_checkbox\" type=\"checkbox\" value=\"\" onchange=\"CoqKernel.toggle_auto_roll_back(this)\" checked>\n",
       "      <label\">Auto rollback</label>\n",
       "    </div>\n",
       "</div>\n"
      ],
      "text/plain": []
     },
     "execution_count": 2,
     "metadata": {
      "coq_kernel_evaluated": true,
      "coq_kernel_execution_id": "c78adeef-8525-4820-99c0-04b58761b57c",
      "coq_kernel_rolled_back": false
     },
     "output_type": "execute_result"
    }
   ],
   "source": [
    "Inductive jour : Type :=\n",
    "| Lundi\n",
    "| Mardi\n",
    "| Mercredi\n",
    "| Jeudi\n",
    "| Vendredi\n",
    "| Samedi\n",
    "| Dimanche."
   ]
  },
  {
   "cell_type": "markdown",
   "id": "5bcd86b5-eaac-4f84-b697-acaae44ff7f3",
   "metadata": {},
   "source": [
    "Avec ce type \"jour\", nous pouvons construire une fonction qui associe à un jour, le prochain jour :"
   ]
  },
  {
   "cell_type": "code",
   "execution_count": 2,
   "id": "b0da7a39-eba9-47ee-91a2-ef921e3f389a",
   "metadata": {},
   "outputs": [
    {
     "data": {
      "text/html": [
       "\n",
       "<div class=\"coq_kernel_output_area\">\n",
       "    <pre></pre>\n",
       "</div>\n",
       "\n",
       "<div class=\"coq_kernel_rich_cell_output coq_kernel_status_message_area\" style=\"padding: 5px 0px;\">\n",
       "    <i class=\"fa-check fa text-success\"></i>\n",
       "    <span>Cell evaluated.</span>\n",
       "</div>\n",
       "\n",
       "<div class=\"coq_kernel_rich_cell_output coq_kernel_status_message_area coq_kernel_rolled_back_status_message\" style=\"padding: 5px 0px; display: none;\">\n",
       "    <i class=\"fa-exclamation-circle fa text-info\"></i>\n",
       "    <span>Cell rolled back.</span>\n",
       "</div>\n",
       "\n",
       "<div class=\"coq_kernel_rich_cell_output coq_kernel_roll_back_controls_area\" style=\"display: none; position: relative;\">\n",
       "    <button class=\"btn btn-default btn-xs coq_kernel_roll_back_button\" onclick=\"CoqKernel.roll_back(this)\">\n",
       "        <i class=\"fa-step-backward fa\"></i>\n",
       "        <span class=\"toolbar-btn-label\">Rollback cell</span>\n",
       "    </button>\n",
       "\n",
       "    <div style=\"display: inline-block; vertical-align: middle; padding-left: 0; padding-right: 0;\">\n",
       "      <input class=\"coq_kernel_auto_roll_back_checkbox\" type=\"checkbox\" value=\"\" onchange=\"CoqKernel.toggle_auto_roll_back(this)\" checked>\n",
       "      <label\">Auto rollback</label>\n",
       "    </div>\n",
       "</div>\n"
      ],
      "text/plain": []
     },
     "execution_count": 3,
     "metadata": {
      "coq_kernel_evaluated": true,
      "coq_kernel_execution_id": "be0d8da1-4565-403b-8677-45dcd56a0578",
      "coq_kernel_rolled_back": false
     },
     "output_type": "execute_result"
    }
   ],
   "source": [
    "Definition prochain(d : jour) : jour :=\n",
    "match d with \n",
    "| Lundi => Mardi\n",
    "| Mardi => Mercredi\n",
    "| Mercredi => Jeudi\n",
    "| Jeudi => Vendredi\n",
    "| Vendredi => Samedi\n",
    "| Samedi => Dimanche\n",
    "| Dimanche => Lundi\n",
    "end."
   ]
  },
  {
   "cell_type": "markdown",
   "id": "739139c9-8d57-4656-a8a2-04ff8e1511f8",
   "metadata": {},
   "source": [
    "Quel est le jour qui vient après Lundi ?"
   ]
  },
  {
   "cell_type": "code",
   "execution_count": 3,
   "id": "3a4d51ad-5dc3-4c8a-8142-ea111bb98329",
   "metadata": {},
   "outputs": [
    {
     "data": {
      "text/html": [
       "\n",
       "<div class=\"coq_kernel_output_area\">\n",
       "    <pre>     = Mardi\n",
       "     : jour</pre>\n",
       "</div>\n",
       "\n",
       "<div class=\"coq_kernel_rich_cell_output coq_kernel_status_message_area\" style=\"padding: 5px 0px;\">\n",
       "    <i class=\"fa-check fa text-success\"></i>\n",
       "    <span>Cell evaluated.</span>\n",
       "</div>\n",
       "\n",
       "<div class=\"coq_kernel_rich_cell_output coq_kernel_status_message_area coq_kernel_rolled_back_status_message\" style=\"padding: 5px 0px; display: none;\">\n",
       "    <i class=\"fa-exclamation-circle fa text-info\"></i>\n",
       "    <span>Cell rolled back.</span>\n",
       "</div>\n",
       "\n",
       "<div class=\"coq_kernel_rich_cell_output coq_kernel_roll_back_controls_area\" style=\"display: none; position: relative;\">\n",
       "    <button class=\"btn btn-default btn-xs coq_kernel_roll_back_button\" onclick=\"CoqKernel.roll_back(this)\">\n",
       "        <i class=\"fa-step-backward fa\"></i>\n",
       "        <span class=\"toolbar-btn-label\">Rollback cell</span>\n",
       "    </button>\n",
       "\n",
       "    <div style=\"display: inline-block; vertical-align: middle; padding-left: 0; padding-right: 0;\">\n",
       "      <input class=\"coq_kernel_auto_roll_back_checkbox\" type=\"checkbox\" value=\"\" onchange=\"CoqKernel.toggle_auto_roll_back(this)\" checked>\n",
       "      <label\">Auto rollback</label>\n",
       "    </div>\n",
       "</div>\n"
      ],
      "text/plain": [
       "     = Mardi\n",
       "     : jour"
      ]
     },
     "execution_count": 4,
     "metadata": {
      "coq_kernel_evaluated": true,
      "coq_kernel_execution_id": "0afd6e7f-5af0-4ce5-a8f0-7f36d2232596",
      "coq_kernel_rolled_back": false
     },
     "output_type": "execute_result"
    }
   ],
   "source": [
    "Compute(prochain Lundi)."
   ]
  },
  {
   "cell_type": "markdown",
   "id": "217bf94d-9a5c-470d-b575-e2a716bc0e05",
   "metadata": {},
   "source": [
    "Quel est le jour après celui qui vient après Mercredi ?"
   ]
  },
  {
   "cell_type": "code",
   "execution_count": 4,
   "id": "4f21e0c9-13d0-45a0-ae8f-4e562fed4fb8",
   "metadata": {},
   "outputs": [
    {
     "data": {
      "text/html": [
       "\n",
       "<div class=\"coq_kernel_output_area\">\n",
       "    <pre>     = Vendredi\n",
       "     : jour</pre>\n",
       "</div>\n",
       "\n",
       "<div class=\"coq_kernel_rich_cell_output coq_kernel_status_message_area\" style=\"padding: 5px 0px;\">\n",
       "    <i class=\"fa-check fa text-success\"></i>\n",
       "    <span>Cell evaluated.</span>\n",
       "</div>\n",
       "\n",
       "<div class=\"coq_kernel_rich_cell_output coq_kernel_status_message_area coq_kernel_rolled_back_status_message\" style=\"padding: 5px 0px; display: none;\">\n",
       "    <i class=\"fa-exclamation-circle fa text-info\"></i>\n",
       "    <span>Cell rolled back.</span>\n",
       "</div>\n",
       "\n",
       "<div class=\"coq_kernel_rich_cell_output coq_kernel_roll_back_controls_area\" style=\"display: none; position: relative;\">\n",
       "    <button class=\"btn btn-default btn-xs coq_kernel_roll_back_button\" onclick=\"CoqKernel.roll_back(this)\">\n",
       "        <i class=\"fa-step-backward fa\"></i>\n",
       "        <span class=\"toolbar-btn-label\">Rollback cell</span>\n",
       "    </button>\n",
       "\n",
       "    <div style=\"display: inline-block; vertical-align: middle; padding-left: 0; padding-right: 0;\">\n",
       "      <input class=\"coq_kernel_auto_roll_back_checkbox\" type=\"checkbox\" value=\"\" onchange=\"CoqKernel.toggle_auto_roll_back(this)\" checked>\n",
       "      <label\">Auto rollback</label>\n",
       "    </div>\n",
       "</div>\n"
      ],
      "text/plain": [
       "     = Vendredi\n",
       "     : jour"
      ]
     },
     "execution_count": 5,
     "metadata": {
      "coq_kernel_evaluated": true,
      "coq_kernel_execution_id": "ebb7f9dc-d50a-4a12-bfe7-e150fdeb53ad",
      "coq_kernel_rolled_back": false
     },
     "output_type": "execute_result"
    }
   ],
   "source": [
    "Compute(prochain(prochain(Mercredi)))."
   ]
  },
  {
   "cell_type": "markdown",
   "id": "79261d83-f394-4056-a3f8-28378056e7b6",
   "metadata": {},
   "source": [
    "Quel est le jour après celui qui vient après celui qui vient après Samedi ?"
   ]
  },
  {
   "cell_type": "code",
   "execution_count": 5,
   "id": "162eff47-a8cf-4fe5-801b-f048df230ea6",
   "metadata": {},
   "outputs": [
    {
     "data": {
      "text/html": [
       "\n",
       "<div class=\"coq_kernel_output_area\">\n",
       "    <pre>     = Mardi\n",
       "     : jour</pre>\n",
       "</div>\n",
       "\n",
       "<div class=\"coq_kernel_rich_cell_output coq_kernel_status_message_area\" style=\"padding: 5px 0px;\">\n",
       "    <i class=\"fa-check fa text-success\"></i>\n",
       "    <span>Cell evaluated.</span>\n",
       "</div>\n",
       "\n",
       "<div class=\"coq_kernel_rich_cell_output coq_kernel_status_message_area coq_kernel_rolled_back_status_message\" style=\"padding: 5px 0px; display: none;\">\n",
       "    <i class=\"fa-exclamation-circle fa text-info\"></i>\n",
       "    <span>Cell rolled back.</span>\n",
       "</div>\n",
       "\n",
       "<div class=\"coq_kernel_rich_cell_output coq_kernel_roll_back_controls_area\" style=\"display: none; position: relative;\">\n",
       "    <button class=\"btn btn-default btn-xs coq_kernel_roll_back_button\" onclick=\"CoqKernel.roll_back(this)\">\n",
       "        <i class=\"fa-step-backward fa\"></i>\n",
       "        <span class=\"toolbar-btn-label\">Rollback cell</span>\n",
       "    </button>\n",
       "\n",
       "    <div style=\"display: inline-block; vertical-align: middle; padding-left: 0; padding-right: 0;\">\n",
       "      <input class=\"coq_kernel_auto_roll_back_checkbox\" type=\"checkbox\" value=\"\" onchange=\"CoqKernel.toggle_auto_roll_back(this)\" checked>\n",
       "      <label\">Auto rollback</label>\n",
       "    </div>\n",
       "</div>\n"
      ],
      "text/plain": [
       "     = Mardi\n",
       "     : jour"
      ]
     },
     "execution_count": 6,
     "metadata": {
      "coq_kernel_evaluated": true,
      "coq_kernel_execution_id": "0a475393-8790-4f86-b4fe-dec30d470984",
      "coq_kernel_rolled_back": false
     },
     "output_type": "execute_result"
    }
   ],
   "source": [
    "Compute(prochain(prochain(prochain(Samedi))))."
   ]
  },
  {
   "cell_type": "markdown",
   "id": "87390fc3-ad37-49bc-8632-c76665482d11",
   "metadata": {},
   "source": [
    "Nous voulons vérifier que si nous sommes Samedi, alors après-demain est Lundi : "
   ]
  },
  {
   "cell_type": "code",
   "execution_count": 6,
   "id": "6b3b28c9-dad9-4716-bee6-2c86d1ce4c36",
   "metadata": {},
   "outputs": [
    {
     "data": {
      "text/html": [
       "\n",
       "<div class=\"coq_kernel_output_area\">\n",
       "    <pre>Proving: test_prochain_jour\n",
       "\n",
       "1 subgoal\n",
       "\n",
       "-------------- (1/1)\n",
       "prochain (prochain Samedi) = Lundi</pre>\n",
       "</div>\n",
       "\n",
       "<div class=\"coq_kernel_rich_cell_output coq_kernel_status_message_area\" style=\"padding: 5px 0px;\">\n",
       "    <i class=\"fa-check fa text-success\"></i>\n",
       "    <span>Cell evaluated.</span>\n",
       "</div>\n",
       "\n",
       "<div class=\"coq_kernel_rich_cell_output coq_kernel_status_message_area coq_kernel_rolled_back_status_message\" style=\"padding: 5px 0px; display: none;\">\n",
       "    <i class=\"fa-exclamation-circle fa text-info\"></i>\n",
       "    <span>Cell rolled back.</span>\n",
       "</div>\n",
       "\n",
       "<div class=\"coq_kernel_rich_cell_output coq_kernel_roll_back_controls_area\" style=\"display: none; position: relative;\">\n",
       "    <button class=\"btn btn-default btn-xs coq_kernel_roll_back_button\" onclick=\"CoqKernel.roll_back(this)\">\n",
       "        <i class=\"fa-step-backward fa\"></i>\n",
       "        <span class=\"toolbar-btn-label\">Rollback cell</span>\n",
       "    </button>\n",
       "\n",
       "    <div style=\"display: inline-block; vertical-align: middle; padding-left: 0; padding-right: 0;\">\n",
       "      <input class=\"coq_kernel_auto_roll_back_checkbox\" type=\"checkbox\" value=\"\" onchange=\"CoqKernel.toggle_auto_roll_back(this)\" checked>\n",
       "      <label\">Auto rollback</label>\n",
       "    </div>\n",
       "</div>\n"
      ],
      "text/plain": [
       "Proving: test_prochain_jour\n",
       "\n",
       "1 subgoal\n",
       "\n",
       "-------------- (1/1)\n",
       "prochain (prochain Samedi) = Lundi"
      ]
     },
     "execution_count": 7,
     "metadata": {
      "coq_kernel_evaluated": true,
      "coq_kernel_execution_id": "5930896f-70a2-4492-b0fc-7b3bcb6cd88f",
      "coq_kernel_rolled_back": false
     },
     "output_type": "execute_result"
    }
   ],
   "source": [
    "Example test_prochain_jour:\n",
    "  (prochain (prochain Samedi)) = Lundi."
   ]
  },
  {
   "cell_type": "markdown",
   "id": "92fecca9-776d-424c-9923-1b4dd037be1b",
   "metadata": {},
   "source": [
    "Nous simplifions l'expression (prochain (prochain _ ) ) et par réflexivité, nous avons que Lundi = Lundi : "
   ]
  },
  {
   "cell_type": "code",
   "execution_count": 7,
   "id": "4272329c-355a-4ada-996b-6f94f2c1f06b",
   "metadata": {},
   "outputs": [
    {
     "data": {
      "text/html": [
       "\n",
       "<div class=\"coq_kernel_output_area\">\n",
       "    <pre></pre>\n",
       "</div>\n",
       "\n",
       "<div class=\"coq_kernel_rich_cell_output coq_kernel_status_message_area\" style=\"padding: 5px 0px;\">\n",
       "    <i class=\"fa-check fa text-success\"></i>\n",
       "    <span>Cell evaluated.</span>\n",
       "</div>\n",
       "\n",
       "<div class=\"coq_kernel_rich_cell_output coq_kernel_status_message_area coq_kernel_rolled_back_status_message\" style=\"padding: 5px 0px; display: none;\">\n",
       "    <i class=\"fa-exclamation-circle fa text-info\"></i>\n",
       "    <span>Cell rolled back.</span>\n",
       "</div>\n",
       "\n",
       "<div class=\"coq_kernel_rich_cell_output coq_kernel_roll_back_controls_area\" style=\"display: none; position: relative;\">\n",
       "    <button class=\"btn btn-default btn-xs coq_kernel_roll_back_button\" onclick=\"CoqKernel.roll_back(this)\">\n",
       "        <i class=\"fa-step-backward fa\"></i>\n",
       "        <span class=\"toolbar-btn-label\">Rollback cell</span>\n",
       "    </button>\n",
       "\n",
       "    <div style=\"display: inline-block; vertical-align: middle; padding-left: 0; padding-right: 0;\">\n",
       "      <input class=\"coq_kernel_auto_roll_back_checkbox\" type=\"checkbox\" value=\"\" onchange=\"CoqKernel.toggle_auto_roll_back(this)\" checked>\n",
       "      <label\">Auto rollback</label>\n",
       "    </div>\n",
       "</div>\n"
      ],
      "text/plain": []
     },
     "execution_count": 11,
     "metadata": {
      "coq_kernel_evaluated": true,
      "coq_kernel_execution_id": "9ad140af-30ad-45be-8d5b-4b03a89cb7d2",
      "coq_kernel_rolled_back": false
     },
     "output_type": "execute_result"
    }
   ],
   "source": [
    "Proof. simpl. reflexivity. Qed."
   ]
  },
  {
   "cell_type": "markdown",
   "id": "5bb8d489-9932-4651-b1fa-9d8484f28e9a",
   "metadata": {},
   "source": [
    "***\n",
    "# Booléens"
   ]
  },
  {
   "cell_type": "markdown",
   "id": "37dae24e-6a72-49a5-93c2-a7e6619d3707",
   "metadata": {},
   "source": [
    "Créons le type booléen bien qu'il soit déjà implémenté dans certaines librairies,"
   ]
  },
  {
   "cell_type": "code",
   "execution_count": 11,
   "id": "2eec00de-8d84-4032-abd3-cc32202d8e88",
   "metadata": {},
   "outputs": [
    {
     "data": {
      "text/html": [
       "\n",
       "<div class=\"coq_kernel_output_area\">\n",
       "    <pre></pre>\n",
       "</div>\n",
       "\n",
       "<div class=\"coq_kernel_rich_cell_output coq_kernel_status_message_area\" style=\"padding: 5px 0px;\">\n",
       "    <i class=\"fa-check fa text-success\"></i>\n",
       "    <span>Cell evaluated.</span>\n",
       "</div>\n",
       "\n",
       "<div class=\"coq_kernel_rich_cell_output coq_kernel_status_message_area coq_kernel_rolled_back_status_message\" style=\"padding: 5px 0px; display: none;\">\n",
       "    <i class=\"fa-exclamation-circle fa text-info\"></i>\n",
       "    <span>Cell rolled back.</span>\n",
       "</div>\n",
       "\n",
       "<div class=\"coq_kernel_rich_cell_output coq_kernel_roll_back_controls_area\" style=\"display: none; position: relative;\">\n",
       "    <button class=\"btn btn-default btn-xs coq_kernel_roll_back_button\" onclick=\"CoqKernel.roll_back(this)\">\n",
       "        <i class=\"fa-step-backward fa\"></i>\n",
       "        <span class=\"toolbar-btn-label\">Rollback cell</span>\n",
       "    </button>\n",
       "\n",
       "    <div style=\"display: inline-block; vertical-align: middle; padding-left: 0; padding-right: 0;\">\n",
       "      <input class=\"coq_kernel_auto_roll_back_checkbox\" type=\"checkbox\" value=\"\" onchange=\"CoqKernel.toggle_auto_roll_back(this)\" checked>\n",
       "      <label\">Auto rollback</label>\n",
       "    </div>\n",
       "</div>\n"
      ],
      "text/plain": []
     },
     "execution_count": 12,
     "metadata": {
      "coq_kernel_evaluated": true,
      "coq_kernel_execution_id": "b2b476ac-f830-4a8d-bd89-baa572eb4764",
      "coq_kernel_rolled_back": false
     },
     "output_type": "execute_result"
    }
   ],
   "source": [
    "Inductive bool : Type := \n",
    "| true\n",
    "| false."
   ]
  },
  {
   "cell_type": "markdown",
   "id": "029c277d-f99a-4f40-8d79-7a9c592c8d9f",
   "metadata": {},
   "source": [
    "et nous définissons la négation $\\neg$ par : "
   ]
  },
  {
   "cell_type": "code",
   "execution_count": 12,
   "id": "79192c3b-0619-4386-9569-92ef6e19e04e",
   "metadata": {},
   "outputs": [
    {
     "data": {
      "text/html": [
       "\n",
       "<div class=\"coq_kernel_output_area\">\n",
       "    <pre></pre>\n",
       "</div>\n",
       "\n",
       "<div class=\"coq_kernel_rich_cell_output coq_kernel_status_message_area\" style=\"padding: 5px 0px;\">\n",
       "    <i class=\"fa-check fa text-success\"></i>\n",
       "    <span>Cell evaluated.</span>\n",
       "</div>\n",
       "\n",
       "<div class=\"coq_kernel_rich_cell_output coq_kernel_status_message_area coq_kernel_rolled_back_status_message\" style=\"padding: 5px 0px; display: none;\">\n",
       "    <i class=\"fa-exclamation-circle fa text-info\"></i>\n",
       "    <span>Cell rolled back.</span>\n",
       "</div>\n",
       "\n",
       "<div class=\"coq_kernel_rich_cell_output coq_kernel_roll_back_controls_area\" style=\"display: none; position: relative;\">\n",
       "    <button class=\"btn btn-default btn-xs coq_kernel_roll_back_button\" onclick=\"CoqKernel.roll_back(this)\">\n",
       "        <i class=\"fa-step-backward fa\"></i>\n",
       "        <span class=\"toolbar-btn-label\">Rollback cell</span>\n",
       "    </button>\n",
       "\n",
       "    <div style=\"display: inline-block; vertical-align: middle; padding-left: 0; padding-right: 0;\">\n",
       "      <input class=\"coq_kernel_auto_roll_back_checkbox\" type=\"checkbox\" value=\"\" onchange=\"CoqKernel.toggle_auto_roll_back(this)\" checked>\n",
       "      <label\">Auto rollback</label>\n",
       "    </div>\n",
       "</div>\n"
      ],
      "text/plain": []
     },
     "execution_count": 13,
     "metadata": {
      "coq_kernel_evaluated": true,
      "coq_kernel_execution_id": "3036b215-182b-410a-9283-f1c9d3196733",
      "coq_kernel_rolled_back": false
     },
     "output_type": "execute_result"
    }
   ],
   "source": [
    "Definition negb(b : bool) : bool :=\n",
    "match b with\n",
    "| true => false\n",
    "| false => true\n",
    "end."
   ]
  },
  {
   "cell_type": "markdown",
   "id": "b526e32e-16c7-415d-9bd6-5255b8c52296",
   "metadata": {},
   "source": [
    "que nous pouvons vérifier comme précédemment, "
   ]
  },
  {
   "cell_type": "code",
   "execution_count": 13,
   "id": "91e1f011-f66a-4b67-a9cb-0b59d5381c1f",
   "metadata": {},
   "outputs": [
    {
     "data": {
      "text/html": [
       "\n",
       "<div class=\"coq_kernel_output_area\">\n",
       "    <pre></pre>\n",
       "</div>\n",
       "\n",
       "<div class=\"coq_kernel_rich_cell_output coq_kernel_status_message_area\" style=\"padding: 5px 0px;\">\n",
       "    <i class=\"fa-check fa text-success\"></i>\n",
       "    <span>Cell evaluated.</span>\n",
       "</div>\n",
       "\n",
       "<div class=\"coq_kernel_rich_cell_output coq_kernel_status_message_area coq_kernel_rolled_back_status_message\" style=\"padding: 5px 0px; display: none;\">\n",
       "    <i class=\"fa-exclamation-circle fa text-info\"></i>\n",
       "    <span>Cell rolled back.</span>\n",
       "</div>\n",
       "\n",
       "<div class=\"coq_kernel_rich_cell_output coq_kernel_roll_back_controls_area\" style=\"display: none; position: relative;\">\n",
       "    <button class=\"btn btn-default btn-xs coq_kernel_roll_back_button\" onclick=\"CoqKernel.roll_back(this)\">\n",
       "        <i class=\"fa-step-backward fa\"></i>\n",
       "        <span class=\"toolbar-btn-label\">Rollback cell</span>\n",
       "    </button>\n",
       "\n",
       "    <div style=\"display: inline-block; vertical-align: middle; padding-left: 0; padding-right: 0;\">\n",
       "      <input class=\"coq_kernel_auto_roll_back_checkbox\" type=\"checkbox\" value=\"\" onchange=\"CoqKernel.toggle_auto_roll_back(this)\" checked>\n",
       "      <label\">Auto rollback</label>\n",
       "    </div>\n",
       "</div>\n"
      ],
      "text/plain": []
     },
     "execution_count": 18,
     "metadata": {
      "coq_kernel_evaluated": true,
      "coq_kernel_execution_id": "4cc9160a-fe82-4cba-bcd5-8d93fda0bb29",
      "coq_kernel_rolled_back": false
     },
     "output_type": "execute_result"
    }
   ],
   "source": [
    "Example test_negf:\n",
    " negb(false) = true.\n",
    "Proof. simpl. reflexivity. Qed."
   ]
  },
  {
   "cell_type": "markdown",
   "id": "ea62d3af-a978-4841-ae61-a06ef2991f56",
   "metadata": {},
   "source": [
    "En regardant la table de vérité pour \"ou\", $\\lor$, nous arrivons facilement à définir"
   ]
  },
  {
   "cell_type": "code",
   "execution_count": 18,
   "id": "e7a598eb-3c47-4437-bf1a-c768a6be6876",
   "metadata": {},
   "outputs": [
    {
     "data": {
      "text/html": [
       "\n",
       "<div class=\"coq_kernel_output_area\">\n",
       "    <pre></pre>\n",
       "</div>\n",
       "\n",
       "<div class=\"coq_kernel_rich_cell_output coq_kernel_status_message_area\" style=\"padding: 5px 0px;\">\n",
       "    <i class=\"fa-check fa text-success\"></i>\n",
       "    <span>Cell evaluated.</span>\n",
       "</div>\n",
       "\n",
       "<div class=\"coq_kernel_rich_cell_output coq_kernel_status_message_area coq_kernel_rolled_back_status_message\" style=\"padding: 5px 0px; display: none;\">\n",
       "    <i class=\"fa-exclamation-circle fa text-info\"></i>\n",
       "    <span>Cell rolled back.</span>\n",
       "</div>\n",
       "\n",
       "<div class=\"coq_kernel_rich_cell_output coq_kernel_roll_back_controls_area\" style=\"display: none; position: relative;\">\n",
       "    <button class=\"btn btn-default btn-xs coq_kernel_roll_back_button\" onclick=\"CoqKernel.roll_back(this)\">\n",
       "        <i class=\"fa-step-backward fa\"></i>\n",
       "        <span class=\"toolbar-btn-label\">Rollback cell</span>\n",
       "    </button>\n",
       "\n",
       "    <div style=\"display: inline-block; vertical-align: middle; padding-left: 0; padding-right: 0;\">\n",
       "      <input class=\"coq_kernel_auto_roll_back_checkbox\" type=\"checkbox\" value=\"\" onchange=\"CoqKernel.toggle_auto_roll_back(this)\" checked>\n",
       "      <label\">Auto rollback</label>\n",
       "    </div>\n",
       "</div>\n"
      ],
      "text/plain": []
     },
     "execution_count": 19,
     "metadata": {
      "coq_kernel_evaluated": true,
      "coq_kernel_execution_id": "435fc14e-ccd7-4d0a-ba98-3f2f744c9baa",
      "coq_kernel_rolled_back": false
     },
     "output_type": "execute_result"
    }
   ],
   "source": [
    "Definition orb(b1 : bool) (b2 : bool) : bool :=\n",
    "match b1 with\n",
    "| true => true\n",
    "| false => b2\n",
    "end."
   ]
  },
  {
   "cell_type": "markdown",
   "id": "87e834d5-712b-4a12-9586-6b4b0ec7106e",
   "metadata": {},
   "source": [
    "que nous pouvons vérifier par la table complète :"
   ]
  },
  {
   "cell_type": "code",
   "execution_count": 19,
   "id": "2d586310-9dca-4aa9-9cb1-1a00fa715140",
   "metadata": {},
   "outputs": [
    {
     "data": {
      "text/html": [
       "\n",
       "<div class=\"coq_kernel_output_area\">\n",
       "    <pre></pre>\n",
       "</div>\n",
       "\n",
       "<div class=\"coq_kernel_rich_cell_output coq_kernel_status_message_area\" style=\"padding: 5px 0px;\">\n",
       "    <i class=\"fa-check fa text-success\"></i>\n",
       "    <span>Cell evaluated.</span>\n",
       "</div>\n",
       "\n",
       "<div class=\"coq_kernel_rich_cell_output coq_kernel_status_message_area coq_kernel_rolled_back_status_message\" style=\"padding: 5px 0px; display: none;\">\n",
       "    <i class=\"fa-exclamation-circle fa text-info\"></i>\n",
       "    <span>Cell rolled back.</span>\n",
       "</div>\n",
       "\n",
       "<div class=\"coq_kernel_rich_cell_output coq_kernel_roll_back_controls_area\" style=\"display: none; position: relative;\">\n",
       "    <button class=\"btn btn-default btn-xs coq_kernel_roll_back_button\" onclick=\"CoqKernel.roll_back(this)\">\n",
       "        <i class=\"fa-step-backward fa\"></i>\n",
       "        <span class=\"toolbar-btn-label\">Rollback cell</span>\n",
       "    </button>\n",
       "\n",
       "    <div style=\"display: inline-block; vertical-align: middle; padding-left: 0; padding-right: 0;\">\n",
       "      <input class=\"coq_kernel_auto_roll_back_checkbox\" type=\"checkbox\" value=\"\" onchange=\"CoqKernel.toggle_auto_roll_back(this)\" checked>\n",
       "      <label\">Auto rollback</label>\n",
       "    </div>\n",
       "</div>\n"
      ],
      "text/plain": []
     },
     "execution_count": 39,
     "metadata": {
      "coq_kernel_evaluated": true,
      "coq_kernel_execution_id": "69001ec9-a426-4e0d-8161-d79bcbedd996",
      "coq_kernel_rolled_back": false
     },
     "output_type": "execute_result"
    }
   ],
   "source": [
    "Example TrueOrFalse:\n",
    "  orb(true)(false) = true.\n",
    "Proof. simpl. reflexivity. Qed.\n",
    "\n",
    "Example TrueOrTrue:\n",
    "  orb(true)(true) = true.\n",
    "Proof. simpl. reflexivity. Qed.\n",
    "\n",
    "Example FalseOrFalse:\n",
    "  orb(false)(false) = false.\n",
    "Proof. simpl. reflexivity. Qed.\n",
    "\n",
    "Example FalseOrTrue:\n",
    "  orb(false)(true) = true.\n",
    "Proof. simpl. reflexivity. Qed."
   ]
  },
  {
   "cell_type": "markdown",
   "id": "35a85936-e2a1-4d99-8e90-198852a95b7c",
   "metadata": {},
   "source": [
    "Nous faisons de même pour \"et\", $\\land$, que nous définissons par "
   ]
  },
  {
   "cell_type": "code",
   "execution_count": 39,
   "id": "ca1dead2-4fd5-44e3-9b1b-2e9e5461fce7",
   "metadata": {},
   "outputs": [
    {
     "data": {
      "text/html": [
       "\n",
       "<div class=\"coq_kernel_output_area\">\n",
       "    <pre></pre>\n",
       "</div>\n",
       "\n",
       "<div class=\"coq_kernel_rich_cell_output coq_kernel_status_message_area\" style=\"padding: 5px 0px;\">\n",
       "    <i class=\"fa-check fa text-success\"></i>\n",
       "    <span>Cell evaluated.</span>\n",
       "</div>\n",
       "\n",
       "<div class=\"coq_kernel_rich_cell_output coq_kernel_status_message_area coq_kernel_rolled_back_status_message\" style=\"padding: 5px 0px; display: none;\">\n",
       "    <i class=\"fa-exclamation-circle fa text-info\"></i>\n",
       "    <span>Cell rolled back.</span>\n",
       "</div>\n",
       "\n",
       "<div class=\"coq_kernel_rich_cell_output coq_kernel_roll_back_controls_area\" style=\"display: none; position: relative;\">\n",
       "    <button class=\"btn btn-default btn-xs coq_kernel_roll_back_button\" onclick=\"CoqKernel.roll_back(this)\">\n",
       "        <i class=\"fa-step-backward fa\"></i>\n",
       "        <span class=\"toolbar-btn-label\">Rollback cell</span>\n",
       "    </button>\n",
       "\n",
       "    <div style=\"display: inline-block; vertical-align: middle; padding-left: 0; padding-right: 0;\">\n",
       "      <input class=\"coq_kernel_auto_roll_back_checkbox\" type=\"checkbox\" value=\"\" onchange=\"CoqKernel.toggle_auto_roll_back(this)\" checked>\n",
       "      <label\">Auto rollback</label>\n",
       "    </div>\n",
       "</div>\n"
      ],
      "text/plain": []
     },
     "execution_count": 40,
     "metadata": {
      "coq_kernel_evaluated": true,
      "coq_kernel_execution_id": "54b346bf-5e31-4da7-9608-f0f177024ae6",
      "coq_kernel_rolled_back": false
     },
     "output_type": "execute_result"
    }
   ],
   "source": [
    "Definition andb(b1:bool)(b2:bool):bool:=\n",
    "match b1 with\n",
    "| true => b2\n",
    "| false => false\n",
    "end."
   ]
  },
  {
   "cell_type": "markdown",
   "id": "ea9755cb-06dd-43b1-a181-3d07c6b031d3",
   "metadata": {},
   "source": [
    "nous vérifions la table de vérité : "
   ]
  },
  {
   "cell_type": "code",
   "execution_count": 40,
   "id": "effb3402-6a0e-4ba1-b851-f0610677e2ac",
   "metadata": {},
   "outputs": [
    {
     "data": {
      "text/html": [
       "\n",
       "<div class=\"coq_kernel_output_area\">\n",
       "    <pre></pre>\n",
       "</div>\n",
       "\n",
       "<div class=\"coq_kernel_rich_cell_output coq_kernel_status_message_area\" style=\"padding: 5px 0px;\">\n",
       "    <i class=\"fa-check fa text-success\"></i>\n",
       "    <span>Cell evaluated.</span>\n",
       "</div>\n",
       "\n",
       "<div class=\"coq_kernel_rich_cell_output coq_kernel_status_message_area coq_kernel_rolled_back_status_message\" style=\"padding: 5px 0px; display: none;\">\n",
       "    <i class=\"fa-exclamation-circle fa text-info\"></i>\n",
       "    <span>Cell rolled back.</span>\n",
       "</div>\n",
       "\n",
       "<div class=\"coq_kernel_rich_cell_output coq_kernel_roll_back_controls_area\" style=\"display: none; position: relative;\">\n",
       "    <button class=\"btn btn-default btn-xs coq_kernel_roll_back_button\" onclick=\"CoqKernel.roll_back(this)\">\n",
       "        <i class=\"fa-step-backward fa\"></i>\n",
       "        <span class=\"toolbar-btn-label\">Rollback cell</span>\n",
       "    </button>\n",
       "\n",
       "    <div style=\"display: inline-block; vertical-align: middle; padding-left: 0; padding-right: 0;\">\n",
       "      <input class=\"coq_kernel_auto_roll_back_checkbox\" type=\"checkbox\" value=\"\" onchange=\"CoqKernel.toggle_auto_roll_back(this)\" checked>\n",
       "      <label\">Auto rollback</label>\n",
       "    </div>\n",
       "</div>\n"
      ],
      "text/plain": []
     },
     "execution_count": 60,
     "metadata": {
      "coq_kernel_evaluated": true,
      "coq_kernel_execution_id": "14ff56b9-7515-4e96-9231-a156f0bab2fa",
      "coq_kernel_rolled_back": false
     },
     "output_type": "execute_result"
    }
   ],
   "source": [
    "Example and1:\n",
    "  andb(true)(false) = false.\n",
    "Proof. simpl. reflexivity. Qed.\n",
    "\n",
    "Example and2:\n",
    "  andb(true)(true) = true.\n",
    "Proof. simpl. reflexivity. Qed.\n",
    "\n",
    "Example and3:\n",
    "  andb(false)(false) = false.\n",
    "Proof. simpl. reflexivity. Qed.\n",
    "\n",
    "Example and4:\n",
    "  andb(false)(true) = false.\n",
    "Proof. simpl. reflexivity. Qed."
   ]
  },
  {
   "cell_type": "markdown",
   "id": "7c45d226-92ff-4228-a7e0-be691e65f555",
   "metadata": {},
   "source": [
    "Au lieu de devoir utiliser ces définitions assez pénibles, peu pratiques, nous pouvons définir des notations pour utiliser orb ET andb ! "
   ]
  },
  {
   "cell_type": "code",
   "execution_count": 60,
   "id": "2cf9e455-3f69-4f15-beca-8111668db618",
   "metadata": {},
   "outputs": [
    {
     "data": {
      "text/html": [
       "\n",
       "<div class=\"coq_kernel_output_area\">\n",
       "    <pre></pre>\n",
       "</div>\n",
       "\n",
       "<div class=\"coq_kernel_rich_cell_output coq_kernel_status_message_area\" style=\"padding: 5px 0px;\">\n",
       "    <i class=\"fa-check fa text-success\"></i>\n",
       "    <span>Cell evaluated.</span>\n",
       "</div>\n",
       "\n",
       "<div class=\"coq_kernel_rich_cell_output coq_kernel_status_message_area coq_kernel_rolled_back_status_message\" style=\"padding: 5px 0px; display: none;\">\n",
       "    <i class=\"fa-exclamation-circle fa text-info\"></i>\n",
       "    <span>Cell rolled back.</span>\n",
       "</div>\n",
       "\n",
       "<div class=\"coq_kernel_rich_cell_output coq_kernel_roll_back_controls_area\" style=\"display: none; position: relative;\">\n",
       "    <button class=\"btn btn-default btn-xs coq_kernel_roll_back_button\" onclick=\"CoqKernel.roll_back(this)\">\n",
       "        <i class=\"fa-step-backward fa\"></i>\n",
       "        <span class=\"toolbar-btn-label\">Rollback cell</span>\n",
       "    </button>\n",
       "\n",
       "    <div style=\"display: inline-block; vertical-align: middle; padding-left: 0; padding-right: 0;\">\n",
       "      <input class=\"coq_kernel_auto_roll_back_checkbox\" type=\"checkbox\" value=\"\" onchange=\"CoqKernel.toggle_auto_roll_back(this)\" checked>\n",
       "      <label\">Auto rollback</label>\n",
       "    </div>\n",
       "</div>\n"
      ],
      "text/plain": []
     },
     "execution_count": 62,
     "metadata": {
      "coq_kernel_evaluated": true,
      "coq_kernel_execution_id": "f4107656-b65f-4575-b83e-9a7731238500",
      "coq_kernel_rolled_back": false
     },
     "output_type": "execute_result"
    }
   ],
   "source": [
    "Notation \"x && y\" := (andb x y).\n",
    "Notation \"x || y\" := (orb x y )."
   ]
  },
  {
   "cell_type": "markdown",
   "id": "6c1a50d1-6379-45e7-b70e-a836e7dd3dd1",
   "metadata": {},
   "source": [
    "Nous pouvons prendre quelques exemples : "
   ]
  },
  {
   "cell_type": "code",
   "execution_count": 62,
   "id": "06f9685f-3891-4ccb-b832-ffe9ba377965",
   "metadata": {},
   "outputs": [
    {
     "data": {
      "text/html": [
       "\n",
       "<div class=\"coq_kernel_output_area\">\n",
       "    <pre></pre>\n",
       "</div>\n",
       "\n",
       "<div class=\"coq_kernel_rich_cell_output coq_kernel_status_message_area\" style=\"padding: 5px 0px;\">\n",
       "    <i class=\"fa-check fa text-success\"></i>\n",
       "    <span>Cell evaluated.</span>\n",
       "</div>\n",
       "\n",
       "<div class=\"coq_kernel_rich_cell_output coq_kernel_status_message_area coq_kernel_rolled_back_status_message\" style=\"padding: 5px 0px; display: none;\">\n",
       "    <i class=\"fa-exclamation-circle fa text-info\"></i>\n",
       "    <span>Cell rolled back.</span>\n",
       "</div>\n",
       "\n",
       "<div class=\"coq_kernel_rich_cell_output coq_kernel_roll_back_controls_area\" style=\"display: none; position: relative;\">\n",
       "    <button class=\"btn btn-default btn-xs coq_kernel_roll_back_button\" onclick=\"CoqKernel.roll_back(this)\">\n",
       "        <i class=\"fa-step-backward fa\"></i>\n",
       "        <span class=\"toolbar-btn-label\">Rollback cell</span>\n",
       "    </button>\n",
       "\n",
       "    <div style=\"display: inline-block; vertical-align: middle; padding-left: 0; padding-right: 0;\">\n",
       "      <input class=\"coq_kernel_auto_roll_back_checkbox\" type=\"checkbox\" value=\"\" onchange=\"CoqKernel.toggle_auto_roll_back(this)\" checked>\n",
       "      <label\">Auto rollback</label>\n",
       "    </div>\n",
       "</div>\n"
      ],
      "text/plain": []
     },
     "execution_count": 77,
     "metadata": {
      "coq_kernel_evaluated": true,
      "coq_kernel_execution_id": "ed501202-bab2-453a-8fbd-17962217ca72",
      "coq_kernel_rolled_back": false
     },
     "output_type": "execute_result"
    }
   ],
   "source": [
    "Example FalseOrFalseOrFalseOrTrue:\n",
    "  false || false || false || true = true.\n",
    "Proof. simpl. reflexivity. Qed.\n",
    "\n",
    "Example TrueAndTrueAndTrueAndFalse:\n",
    "  true && true && true && false = false.\n",
    "Proof. simpl. reflexivity. Qed.\n",
    "\n",
    "Example TrueAndTrue_OrFalse:\n",
    "  (true && true) || false = true.\n",
    "Proof. simpl. reflexivity. Qed."
   ]
  },
  {
   "cell_type": "markdown",
   "id": "fc9ece8f-8154-4965-b623-bff366929aaa",
   "metadata": {},
   "source": [
    "Nous pouvons aussi définir une fonction nand, \"$\\neg \\land$\","
   ]
  },
  {
   "cell_type": "code",
   "execution_count": 77,
   "id": "7d9336d5-3a6a-4cee-a915-9f804e91ba2e",
   "metadata": {},
   "outputs": [
    {
     "data": {
      "text/html": [
       "\n",
       "<div class=\"coq_kernel_output_area\">\n",
       "    <pre></pre>\n",
       "</div>\n",
       "\n",
       "<div class=\"coq_kernel_rich_cell_output coq_kernel_status_message_area\" style=\"padding: 5px 0px;\">\n",
       "    <i class=\"fa-check fa text-success\"></i>\n",
       "    <span>Cell evaluated.</span>\n",
       "</div>\n",
       "\n",
       "<div class=\"coq_kernel_rich_cell_output coq_kernel_status_message_area coq_kernel_rolled_back_status_message\" style=\"padding: 5px 0px; display: none;\">\n",
       "    <i class=\"fa-exclamation-circle fa text-info\"></i>\n",
       "    <span>Cell rolled back.</span>\n",
       "</div>\n",
       "\n",
       "<div class=\"coq_kernel_rich_cell_output coq_kernel_roll_back_controls_area\" style=\"display: none; position: relative;\">\n",
       "    <button class=\"btn btn-default btn-xs coq_kernel_roll_back_button\" onclick=\"CoqKernel.roll_back(this)\">\n",
       "        <i class=\"fa-step-backward fa\"></i>\n",
       "        <span class=\"toolbar-btn-label\">Rollback cell</span>\n",
       "    </button>\n",
       "\n",
       "    <div style=\"display: inline-block; vertical-align: middle; padding-left: 0; padding-right: 0;\">\n",
       "      <input class=\"coq_kernel_auto_roll_back_checkbox\" type=\"checkbox\" value=\"\" onchange=\"CoqKernel.toggle_auto_roll_back(this)\" checked>\n",
       "      <label\">Auto rollback</label>\n",
       "    </div>\n",
       "</div>\n"
      ],
      "text/plain": []
     },
     "execution_count": 78,
     "metadata": {
      "coq_kernel_evaluated": true,
      "coq_kernel_execution_id": "5579d51b-863b-4c86-a2b9-5870a23e3334",
      "coq_kernel_rolled_back": false
     },
     "output_type": "execute_result"
    }
   ],
   "source": [
    "Definition nandb (b1:bool) (b2:bool) : bool :=\n",
    "match b1 with\n",
    "| true => negb(b2)\n",
    "| false => true\n",
    "end."
   ]
  },
  {
   "cell_type": "markdown",
   "id": "3c399b52-f770-41e5-8985-906dfe88bede",
   "metadata": {},
   "source": [
    "que nous vérifions facilement par un exemple,"
   ]
  },
  {
   "cell_type": "code",
   "execution_count": 78,
   "id": "02c2903b-f5d1-4e58-b9c9-f889aa4c649f",
   "metadata": {},
   "outputs": [
    {
     "data": {
      "text/html": [
       "\n",
       "<div class=\"coq_kernel_output_area\">\n",
       "    <pre></pre>\n",
       "</div>\n",
       "\n",
       "<div class=\"coq_kernel_rich_cell_output coq_kernel_status_message_area\" style=\"padding: 5px 0px;\">\n",
       "    <i class=\"fa-check fa text-success\"></i>\n",
       "    <span>Cell evaluated.</span>\n",
       "</div>\n",
       "\n",
       "<div class=\"coq_kernel_rich_cell_output coq_kernel_status_message_area coq_kernel_rolled_back_status_message\" style=\"padding: 5px 0px; display: none;\">\n",
       "    <i class=\"fa-exclamation-circle fa text-info\"></i>\n",
       "    <span>Cell rolled back.</span>\n",
       "</div>\n",
       "\n",
       "<div class=\"coq_kernel_rich_cell_output coq_kernel_roll_back_controls_area\" style=\"display: none; position: relative;\">\n",
       "    <button class=\"btn btn-default btn-xs coq_kernel_roll_back_button\" onclick=\"CoqKernel.roll_back(this)\">\n",
       "        <i class=\"fa-step-backward fa\"></i>\n",
       "        <span class=\"toolbar-btn-label\">Rollback cell</span>\n",
       "    </button>\n",
       "\n",
       "    <div style=\"display: inline-block; vertical-align: middle; padding-left: 0; padding-right: 0;\">\n",
       "      <input class=\"coq_kernel_auto_roll_back_checkbox\" type=\"checkbox\" value=\"\" onchange=\"CoqKernel.toggle_auto_roll_back(this)\" checked>\n",
       "      <label\">Auto rollback</label>\n",
       "    </div>\n",
       "</div>\n"
      ],
      "text/plain": []
     },
     "execution_count": 98,
     "metadata": {
      "coq_kernel_evaluated": true,
      "coq_kernel_execution_id": "0c2ba695-eb53-4970-be39-eb46bc1acf26",
      "coq_kernel_rolled_back": false
     },
     "output_type": "execute_result"
    }
   ],
   "source": [
    "Example NandbTrueFalse: (nandb true false) = negb (andb(true)(false)).\n",
    "Proof. simpl. reflexivity. Qed.\n",
    "Example NandbFalseFalse: (nandb false false) = negb (andb(false)(false)).\n",
    "Proof. simpl. reflexivity. Qed.\n",
    "Example NandbFalseTrue: (nandb false true) = negb (andb(false)(false)).\n",
    "Proof. simpl. reflexivity. Qed.\n",
    "Example NandbTrueTrue: (nandb true true) = negb (andb(true)(true)).\n",
    "Proof. simpl. reflexivity. Qed."
   ]
  },
  {
   "cell_type": "markdown",
   "id": "786d7610-82c6-4f10-a4d3-e5e25f8892cf",
   "metadata": {},
   "source": [
    "Bien évidemment, le choix des noms attirés aux exemples est libre, si nous remplacions \"NandbTrueTrue\" par \"Tomate\" cela fonctionnerait tout autant."
   ]
  },
  {
   "cell_type": "markdown",
   "id": "2bf5a36a-0cd1-4b44-b8c8-60310f4f982f",
   "metadata": {},
   "source": [
    "La commande Check nous permet de connaître le type d'une fonction, si nous nous intéressons à nandb, nous pouvons nous demander si c'est une formalisation plus mathématique (bool, bool) -> (bool) ou autre chose ?"
   ]
  },
  {
   "cell_type": "code",
   "execution_count": 98,
   "id": "15c77a71-55b8-43c4-873c-a9dc5a9c6af9",
   "metadata": {},
   "outputs": [
    {
     "data": {
      "text/html": [
       "\n",
       "<div class=\"coq_kernel_output_area\">\n",
       "    <pre>nandb\n",
       "     : bool -> bool -> bool</pre>\n",
       "</div>\n",
       "\n",
       "<div class=\"coq_kernel_rich_cell_output coq_kernel_status_message_area\" style=\"padding: 5px 0px;\">\n",
       "    <i class=\"fa-check fa text-success\"></i>\n",
       "    <span>Cell evaluated.</span>\n",
       "</div>\n",
       "\n",
       "<div class=\"coq_kernel_rich_cell_output coq_kernel_status_message_area coq_kernel_rolled_back_status_message\" style=\"padding: 5px 0px; display: none;\">\n",
       "    <i class=\"fa-exclamation-circle fa text-info\"></i>\n",
       "    <span>Cell rolled back.</span>\n",
       "</div>\n",
       "\n",
       "<div class=\"coq_kernel_rich_cell_output coq_kernel_roll_back_controls_area\" style=\"display: none; position: relative;\">\n",
       "    <button class=\"btn btn-default btn-xs coq_kernel_roll_back_button\" onclick=\"CoqKernel.roll_back(this)\">\n",
       "        <i class=\"fa-step-backward fa\"></i>\n",
       "        <span class=\"toolbar-btn-label\">Rollback cell</span>\n",
       "    </button>\n",
       "\n",
       "    <div style=\"display: inline-block; vertical-align: middle; padding-left: 0; padding-right: 0;\">\n",
       "      <input class=\"coq_kernel_auto_roll_back_checkbox\" type=\"checkbox\" value=\"\" onchange=\"CoqKernel.toggle_auto_roll_back(this)\" checked>\n",
       "      <label\">Auto rollback</label>\n",
       "    </div>\n",
       "</div>\n"
      ],
      "text/plain": [
       "nandb\n",
       "     : bool -> bool -> bool"
      ]
     },
     "execution_count": 99,
     "metadata": {
      "coq_kernel_evaluated": true,
      "coq_kernel_execution_id": "7c877823-518f-4dde-829c-9276f73580b2",
      "coq_kernel_rolled_back": false
     },
     "output_type": "execute_result"
    }
   ],
   "source": [
    "Check nandb."
   ]
  },
  {
   "cell_type": "markdown",
   "id": "6442d61a-20d2-413d-88be-ee5d4518d4c5",
   "metadata": {},
   "source": [
    "Et donc nous voyons qu'elle est de type bool -> bool -> bool, ce qui est sûrement moins intuitif."
   ]
  },
  {
   "cell_type": "markdown",
   "id": "de4063f5-c999-42a4-a06d-770bc171f970",
   "metadata": {},
   "source": [
    "Nous pouvons fournir une définition alternative aux définitions sur les booléens en utilisant des instructions conditionnelles : "
   ]
  },
  {
   "cell_type": "code",
   "execution_count": 99,
   "id": "f83ab2a2-9f81-4cc7-8c5b-bc0d8e344785",
   "metadata": {},
   "outputs": [
    {
     "data": {
      "text/html": [
       "\n",
       "<div class=\"coq_kernel_output_area\">\n",
       "    <pre></pre>\n",
       "</div>\n",
       "\n",
       "<div class=\"coq_kernel_rich_cell_output coq_kernel_status_message_area\" style=\"padding: 5px 0px;\">\n",
       "    <i class=\"fa-check fa text-success\"></i>\n",
       "    <span>Cell evaluated.</span>\n",
       "</div>\n",
       "\n",
       "<div class=\"coq_kernel_rich_cell_output coq_kernel_status_message_area coq_kernel_rolled_back_status_message\" style=\"padding: 5px 0px; display: none;\">\n",
       "    <i class=\"fa-exclamation-circle fa text-info\"></i>\n",
       "    <span>Cell rolled back.</span>\n",
       "</div>\n",
       "\n",
       "<div class=\"coq_kernel_rich_cell_output coq_kernel_roll_back_controls_area\" style=\"display: none; position: relative;\">\n",
       "    <button class=\"btn btn-default btn-xs coq_kernel_roll_back_button\" onclick=\"CoqKernel.roll_back(this)\">\n",
       "        <i class=\"fa-step-backward fa\"></i>\n",
       "        <span class=\"toolbar-btn-label\">Rollback cell</span>\n",
       "    </button>\n",
       "\n",
       "    <div style=\"display: inline-block; vertical-align: middle; padding-left: 0; padding-right: 0;\">\n",
       "      <input class=\"coq_kernel_auto_roll_back_checkbox\" type=\"checkbox\" value=\"\" onchange=\"CoqKernel.toggle_auto_roll_back(this)\" checked>\n",
       "      <label\">Auto rollback</label>\n",
       "    </div>\n",
       "</div>\n"
      ],
      "text/plain": []
     },
     "execution_count": 102,
     "metadata": {
      "coq_kernel_evaluated": true,
      "coq_kernel_execution_id": "ef7863ac-f857-441b-ba5a-cf350f5813c1",
      "coq_kernel_rolled_back": false
     },
     "output_type": "execute_result"
    }
   ],
   "source": [
    "Definition negb' (b : bool) : bool :=\n",
    "if b then false\n",
    "else true.\n",
    "\n",
    "Definition andb' (b1:bool)(b2:bool) : bool :=\n",
    "if b1 then b2\n",
    "else false.\n",
    "\n",
    "Definition orb' (b1:bool)(b2:bool) : bool :=\n",
    "if b1 then true\n",
    "else false."
   ]
  },
  {
   "cell_type": "markdown",
   "id": "1b454670-1b8a-48f8-8a4f-4bb1f21d6e43",
   "metadata": {},
   "source": [
    "> Plus compact, mais plus dur à comprendre dès la première lecture du code"
   ]
  },
  {
   "cell_type": "markdown",
   "id": "a4497b76-ebb3-4557-abd3-516f06b16cbf",
   "metadata": {},
   "source": [
    "***\n",
    "# Autres \"types\""
   ]
  },
  {
   "cell_type": "markdown",
   "id": "f822f8b3-147a-4d3f-98d9-b6c04532295f",
   "metadata": {},
   "source": [
    "De plus, à un type, nous pouvons lui associer un sous-type, c'est-à-dire créer une inclusion d'un type dans l'autre, voyons un exemple."
   ]
  },
  {
   "cell_type": "markdown",
   "id": "387521f6-9402-45b3-9886-2f72de93b7b1",
   "metadata": {},
   "source": [
    "Définissons le type de base, ici des adjectifs sur les couleurs,"
   ]
  },
  {
   "cell_type": "code",
   "execution_count": 102,
   "id": "3d96d643-6bd5-4dca-bf9e-90231ec8d0d7",
   "metadata": {},
   "outputs": [
    {
     "data": {
      "text/html": [
       "\n",
       "<div class=\"coq_kernel_output_area\">\n",
       "    <pre></pre>\n",
       "</div>\n",
       "\n",
       "<div class=\"coq_kernel_rich_cell_output coq_kernel_status_message_area\" style=\"padding: 5px 0px;\">\n",
       "    <i class=\"fa-check fa text-success\"></i>\n",
       "    <span>Cell evaluated.</span>\n",
       "</div>\n",
       "\n",
       "<div class=\"coq_kernel_rich_cell_output coq_kernel_status_message_area coq_kernel_rolled_back_status_message\" style=\"padding: 5px 0px; display: none;\">\n",
       "    <i class=\"fa-exclamation-circle fa text-info\"></i>\n",
       "    <span>Cell rolled back.</span>\n",
       "</div>\n",
       "\n",
       "<div class=\"coq_kernel_rich_cell_output coq_kernel_roll_back_controls_area\" style=\"display: none; position: relative;\">\n",
       "    <button class=\"btn btn-default btn-xs coq_kernel_roll_back_button\" onclick=\"CoqKernel.roll_back(this)\">\n",
       "        <i class=\"fa-step-backward fa\"></i>\n",
       "        <span class=\"toolbar-btn-label\">Rollback cell</span>\n",
       "    </button>\n",
       "\n",
       "    <div style=\"display: inline-block; vertical-align: middle; padding-left: 0; padding-right: 0;\">\n",
       "      <input class=\"coq_kernel_auto_roll_back_checkbox\" type=\"checkbox\" value=\"\" onchange=\"CoqKernel.toggle_auto_roll_back(this)\" checked>\n",
       "      <label\">Auto rollback</label>\n",
       "    </div>\n",
       "</div>\n"
      ],
      "text/plain": []
     },
     "execution_count": 103,
     "metadata": {
      "coq_kernel_evaluated": true,
      "coq_kernel_execution_id": "7007d079-149d-44aa-b96b-34b2e20745f4",
      "coq_kernel_rolled_back": false
     },
     "output_type": "execute_result"
    }
   ],
   "source": [
    "Inductive nuance : Type :=\n",
    "  | clair\n",
    "  | foncé\n",
    "  | primaire."
   ]
  },
  {
   "cell_type": "markdown",
   "id": "e4cbe464-b88b-4346-9aa1-32b650e3b3b5",
   "metadata": {},
   "source": [
    "et associons-leur les 3 couleurs de base,"
   ]
  },
  {
   "cell_type": "code",
   "execution_count": 103,
   "id": "a90ee99f-4841-4b59-898e-857ada67e08d",
   "metadata": {},
   "outputs": [
    {
     "data": {
      "text/html": [
       "\n",
       "<div class=\"coq_kernel_output_area\">\n",
       "    <pre></pre>\n",
       "</div>\n",
       "\n",
       "<div class=\"coq_kernel_rich_cell_output coq_kernel_status_message_area\" style=\"padding: 5px 0px;\">\n",
       "    <i class=\"fa-check fa text-success\"></i>\n",
       "    <span>Cell evaluated.</span>\n",
       "</div>\n",
       "\n",
       "<div class=\"coq_kernel_rich_cell_output coq_kernel_status_message_area coq_kernel_rolled_back_status_message\" style=\"padding: 5px 0px; display: none;\">\n",
       "    <i class=\"fa-exclamation-circle fa text-info\"></i>\n",
       "    <span>Cell rolled back.</span>\n",
       "</div>\n",
       "\n",
       "<div class=\"coq_kernel_rich_cell_output coq_kernel_roll_back_controls_area\" style=\"display: none; position: relative;\">\n",
       "    <button class=\"btn btn-default btn-xs coq_kernel_roll_back_button\" onclick=\"CoqKernel.roll_back(this)\">\n",
       "        <i class=\"fa-step-backward fa\"></i>\n",
       "        <span class=\"toolbar-btn-label\">Rollback cell</span>\n",
       "    </button>\n",
       "\n",
       "    <div style=\"display: inline-block; vertical-align: middle; padding-left: 0; padding-right: 0;\">\n",
       "      <input class=\"coq_kernel_auto_roll_back_checkbox\" type=\"checkbox\" value=\"\" onchange=\"CoqKernel.toggle_auto_roll_back(this)\" checked>\n",
       "      <label\">Auto rollback</label>\n",
       "    </div>\n",
       "</div>\n"
      ],
      "text/plain": []
     },
     "execution_count": 104,
     "metadata": {
      "coq_kernel_evaluated": true,
      "coq_kernel_execution_id": "41d76282-149b-41e1-add2-bfaf69840f58",
      "coq_kernel_rolled_back": false
     },
     "output_type": "execute_result"
    }
   ],
   "source": [
    "Inductive rvb : Type :=\n",
    "  | rouge (p : nuance)\n",
    "  | vert (p : nuance)\n",
    "  | bleu (p : nuance)."
   ]
  },
  {
   "cell_type": "markdown",
   "id": "6cf3436c-62a1-452d-ac9a-86ddf54b451e",
   "metadata": {},
   "source": [
    "Nous constatons que bleu foncé est de type rvb,"
   ]
  },
  {
   "cell_type": "code",
   "execution_count": 104,
   "id": "84fab08f-2f3b-4342-bb41-c2e43a4ca1aa",
   "metadata": {},
   "outputs": [
    {
     "data": {
      "text/html": [
       "\n",
       "<div class=\"coq_kernel_output_area\">\n",
       "    <pre>bleu foncé\n",
       "     : rvb</pre>\n",
       "</div>\n",
       "\n",
       "<div class=\"coq_kernel_rich_cell_output coq_kernel_status_message_area\" style=\"padding: 5px 0px;\">\n",
       "    <i class=\"fa-check fa text-success\"></i>\n",
       "    <span>Cell evaluated.</span>\n",
       "</div>\n",
       "\n",
       "<div class=\"coq_kernel_rich_cell_output coq_kernel_status_message_area coq_kernel_rolled_back_status_message\" style=\"padding: 5px 0px; display: none;\">\n",
       "    <i class=\"fa-exclamation-circle fa text-info\"></i>\n",
       "    <span>Cell rolled back.</span>\n",
       "</div>\n",
       "\n",
       "<div class=\"coq_kernel_rich_cell_output coq_kernel_roll_back_controls_area\" style=\"display: none; position: relative;\">\n",
       "    <button class=\"btn btn-default btn-xs coq_kernel_roll_back_button\" onclick=\"CoqKernel.roll_back(this)\">\n",
       "        <i class=\"fa-step-backward fa\"></i>\n",
       "        <span class=\"toolbar-btn-label\">Rollback cell</span>\n",
       "    </button>\n",
       "\n",
       "    <div style=\"display: inline-block; vertical-align: middle; padding-left: 0; padding-right: 0;\">\n",
       "      <input class=\"coq_kernel_auto_roll_back_checkbox\" type=\"checkbox\" value=\"\" onchange=\"CoqKernel.toggle_auto_roll_back(this)\" checked>\n",
       "      <label\">Auto rollback</label>\n",
       "    </div>\n",
       "</div>\n"
      ],
      "text/plain": [
       "bleu foncé\n",
       "     : rvb"
      ]
     },
     "execution_count": 105,
     "metadata": {
      "coq_kernel_evaluated": true,
      "coq_kernel_execution_id": "9728166f-22de-452f-950a-94e09b3f6539",
      "coq_kernel_rolled_back": false
     },
     "output_type": "execute_result"
    }
   ],
   "source": [
    "Check bleu foncé."
   ]
  },
  {
   "cell_type": "markdown",
   "id": "5be53fab-aeb8-4ec3-a25e-6219d8e93f61",
   "metadata": {},
   "source": [
    "De là, nous pouvons créer un tas de fonctions,"
   ]
  },
  {
   "cell_type": "markdown",
   "id": "b4def639-3129-4ed2-875e-e9ffa4291456",
   "metadata": {},
   "source": [
    "1. Nous nous intéressons à la teinte des couleurs primaires, nous créons une fonction qui nous retourne vrai dans le cas où c'est une couleur primaire, faux sinon."
   ]
  },
  {
   "cell_type": "code",
   "execution_count": 105,
   "id": "329c629f-6a9c-4d65-8120-fd79432a009d",
   "metadata": {},
   "outputs": [
    {
     "data": {
      "text/html": [
       "\n",
       "<div class=\"coq_kernel_output_area\">\n",
       "    <pre></pre>\n",
       "</div>\n",
       "\n",
       "<div class=\"coq_kernel_rich_cell_output coq_kernel_status_message_area\" style=\"padding: 5px 0px;\">\n",
       "    <i class=\"fa-check fa text-success\"></i>\n",
       "    <span>Cell evaluated.</span>\n",
       "</div>\n",
       "\n",
       "<div class=\"coq_kernel_rich_cell_output coq_kernel_status_message_area coq_kernel_rolled_back_status_message\" style=\"padding: 5px 0px; display: none;\">\n",
       "    <i class=\"fa-exclamation-circle fa text-info\"></i>\n",
       "    <span>Cell rolled back.</span>\n",
       "</div>\n",
       "\n",
       "<div class=\"coq_kernel_rich_cell_output coq_kernel_roll_back_controls_area\" style=\"display: none; position: relative;\">\n",
       "    <button class=\"btn btn-default btn-xs coq_kernel_roll_back_button\" onclick=\"CoqKernel.roll_back(this)\">\n",
       "        <i class=\"fa-step-backward fa\"></i>\n",
       "        <span class=\"toolbar-btn-label\">Rollback cell</span>\n",
       "    </button>\n",
       "\n",
       "    <div style=\"display: inline-block; vertical-align: middle; padding-left: 0; padding-right: 0;\">\n",
       "      <input class=\"coq_kernel_auto_roll_back_checkbox\" type=\"checkbox\" value=\"\" onchange=\"CoqKernel.toggle_auto_roll_back(this)\" checked>\n",
       "      <label\">Auto rollback</label>\n",
       "    </div>\n",
       "</div>\n"
      ],
      "text/plain": []
     },
     "execution_count": 106,
     "metadata": {
      "coq_kernel_evaluated": true,
      "coq_kernel_execution_id": "3e3ea3c1-19c6-4634-8d1b-b3e92560d7f2",
      "coq_kernel_rolled_back": false
     },
     "output_type": "execute_result"
    }
   ],
   "source": [
    "Definition CouleurPrimaire (c: rvb) : bool := \n",
    "match c with \n",
    "| rouge primaire => true\n",
    "| bleu primaire => true\n",
    "| vert primaire => true\n",
    "| _ => false\n",
    "end."
   ]
  },
  {
   "cell_type": "code",
   "execution_count": 106,
   "id": "02f0e11a-dcff-4e63-9ddb-6122cee6c187",
   "metadata": {},
   "outputs": [
    {
     "data": {
      "text/html": [
       "\n",
       "<div class=\"coq_kernel_output_area\">\n",
       "    <pre>     = false\n",
       "     : bool</pre>\n",
       "</div>\n",
       "\n",
       "<div class=\"coq_kernel_rich_cell_output coq_kernel_status_message_area\" style=\"padding: 5px 0px;\">\n",
       "    <i class=\"fa-check fa text-success\"></i>\n",
       "    <span>Cell evaluated.</span>\n",
       "</div>\n",
       "\n",
       "<div class=\"coq_kernel_rich_cell_output coq_kernel_status_message_area coq_kernel_rolled_back_status_message\" style=\"padding: 5px 0px; display: none;\">\n",
       "    <i class=\"fa-exclamation-circle fa text-info\"></i>\n",
       "    <span>Cell rolled back.</span>\n",
       "</div>\n",
       "\n",
       "<div class=\"coq_kernel_rich_cell_output coq_kernel_roll_back_controls_area\" style=\"display: none; position: relative;\">\n",
       "    <button class=\"btn btn-default btn-xs coq_kernel_roll_back_button\" onclick=\"CoqKernel.roll_back(this)\">\n",
       "        <i class=\"fa-step-backward fa\"></i>\n",
       "        <span class=\"toolbar-btn-label\">Rollback cell</span>\n",
       "    </button>\n",
       "\n",
       "    <div style=\"display: inline-block; vertical-align: middle; padding-left: 0; padding-right: 0;\">\n",
       "      <input class=\"coq_kernel_auto_roll_back_checkbox\" type=\"checkbox\" value=\"\" onchange=\"CoqKernel.toggle_auto_roll_back(this)\" checked>\n",
       "      <label\">Auto rollback</label>\n",
       "    </div>\n",
       "</div>\n"
      ],
      "text/plain": [
       "     = false\n",
       "     : bool"
      ]
     },
     "execution_count": 107,
     "metadata": {
      "coq_kernel_evaluated": true,
      "coq_kernel_execution_id": "f9581232-cae5-4db3-b09b-4b55e5030afd",
      "coq_kernel_rolled_back": false
     },
     "output_type": "execute_result"
    }
   ],
   "source": [
    "Compute CouleurPrimaire(bleu clair)."
   ]
  },
  {
   "cell_type": "code",
   "execution_count": 107,
   "id": "fb5c6b77-c213-4023-8688-bcc53dfed6ff",
   "metadata": {},
   "outputs": [
    {
     "data": {
      "text/html": [
       "\n",
       "<div class=\"coq_kernel_output_area\">\n",
       "    <pre>     = true\n",
       "     : bool</pre>\n",
       "</div>\n",
       "\n",
       "<div class=\"coq_kernel_rich_cell_output coq_kernel_status_message_area\" style=\"padding: 5px 0px;\">\n",
       "    <i class=\"fa-check fa text-success\"></i>\n",
       "    <span>Cell evaluated.</span>\n",
       "</div>\n",
       "\n",
       "<div class=\"coq_kernel_rich_cell_output coq_kernel_status_message_area coq_kernel_rolled_back_status_message\" style=\"padding: 5px 0px; display: none;\">\n",
       "    <i class=\"fa-exclamation-circle fa text-info\"></i>\n",
       "    <span>Cell rolled back.</span>\n",
       "</div>\n",
       "\n",
       "<div class=\"coq_kernel_rich_cell_output coq_kernel_roll_back_controls_area\" style=\"display: none; position: relative;\">\n",
       "    <button class=\"btn btn-default btn-xs coq_kernel_roll_back_button\" onclick=\"CoqKernel.roll_back(this)\">\n",
       "        <i class=\"fa-step-backward fa\"></i>\n",
       "        <span class=\"toolbar-btn-label\">Rollback cell</span>\n",
       "    </button>\n",
       "\n",
       "    <div style=\"display: inline-block; vertical-align: middle; padding-left: 0; padding-right: 0;\">\n",
       "      <input class=\"coq_kernel_auto_roll_back_checkbox\" type=\"checkbox\" value=\"\" onchange=\"CoqKernel.toggle_auto_roll_back(this)\" checked>\n",
       "      <label\">Auto rollback</label>\n",
       "    </div>\n",
       "</div>\n"
      ],
      "text/plain": [
       "     = true\n",
       "     : bool"
      ]
     },
     "execution_count": 108,
     "metadata": {
      "coq_kernel_evaluated": true,
      "coq_kernel_execution_id": "a9c2b22a-c1a2-4c7f-a498-ca70ba2767b6",
      "coq_kernel_rolled_back": false
     },
     "output_type": "execute_result"
    }
   ],
   "source": [
    "Compute CouleurPrimaire(rouge primaire)."
   ]
  },
  {
   "cell_type": "markdown",
   "id": "0e2d99f4-11bf-4d1c-a938-3ba977070d27",
   "metadata": {},
   "source": [
    "> ce qui était attendu."
   ]
  },
  {
   "cell_type": "markdown",
   "id": "a4495d67-747f-4ffa-b509-6792bd766a0c",
   "metadata": {},
   "source": [
    "2. Nous voulons voir si la couleur est une forme de rouge."
   ]
  },
  {
   "cell_type": "code",
   "execution_count": 108,
   "id": "323f2370-61a6-418c-bf76-146e380825ab",
   "metadata": {},
   "outputs": [
    {
     "data": {
      "text/html": [
       "\n",
       "<div class=\"coq_kernel_output_area\">\n",
       "    <pre></pre>\n",
       "</div>\n",
       "\n",
       "<div class=\"coq_kernel_rich_cell_output coq_kernel_status_message_area\" style=\"padding: 5px 0px;\">\n",
       "    <i class=\"fa-check fa text-success\"></i>\n",
       "    <span>Cell evaluated.</span>\n",
       "</div>\n",
       "\n",
       "<div class=\"coq_kernel_rich_cell_output coq_kernel_status_message_area coq_kernel_rolled_back_status_message\" style=\"padding: 5px 0px; display: none;\">\n",
       "    <i class=\"fa-exclamation-circle fa text-info\"></i>\n",
       "    <span>Cell rolled back.</span>\n",
       "</div>\n",
       "\n",
       "<div class=\"coq_kernel_rich_cell_output coq_kernel_roll_back_controls_area\" style=\"display: none; position: relative;\">\n",
       "    <button class=\"btn btn-default btn-xs coq_kernel_roll_back_button\" onclick=\"CoqKernel.roll_back(this)\">\n",
       "        <i class=\"fa-step-backward fa\"></i>\n",
       "        <span class=\"toolbar-btn-label\">Rollback cell</span>\n",
       "    </button>\n",
       "\n",
       "    <div style=\"display: inline-block; vertical-align: middle; padding-left: 0; padding-right: 0;\">\n",
       "      <input class=\"coq_kernel_auto_roll_back_checkbox\" type=\"checkbox\" value=\"\" onchange=\"CoqKernel.toggle_auto_roll_back(this)\" checked>\n",
       "      <label\">Auto rollback</label>\n",
       "    </div>\n",
       "</div>\n"
      ],
      "text/plain": []
     },
     "execution_count": 109,
     "metadata": {
      "coq_kernel_evaluated": true,
      "coq_kernel_execution_id": "b5366e22-d01d-4e4d-ac93-be7d68e70473",
      "coq_kernel_rolled_back": false
     },
     "output_type": "execute_result"
    }
   ],
   "source": [
    "Definition EstRouge (c: rvb) : bool := \n",
    "match c with \n",
    "| rouge _ => true\n",
    "| _ => false\n",
    "end."
   ]
  },
  {
   "cell_type": "code",
   "execution_count": 109,
   "id": "d106fe55-4974-407d-a3b7-446dbbf71b9c",
   "metadata": {},
   "outputs": [
    {
     "data": {
      "text/html": [
       "\n",
       "<div class=\"coq_kernel_output_area\">\n",
       "    <pre>     = false\n",
       "     : bool</pre>\n",
       "</div>\n",
       "\n",
       "<div class=\"coq_kernel_rich_cell_output coq_kernel_status_message_area\" style=\"padding: 5px 0px;\">\n",
       "    <i class=\"fa-check fa text-success\"></i>\n",
       "    <span>Cell evaluated.</span>\n",
       "</div>\n",
       "\n",
       "<div class=\"coq_kernel_rich_cell_output coq_kernel_status_message_area coq_kernel_rolled_back_status_message\" style=\"padding: 5px 0px; display: none;\">\n",
       "    <i class=\"fa-exclamation-circle fa text-info\"></i>\n",
       "    <span>Cell rolled back.</span>\n",
       "</div>\n",
       "\n",
       "<div class=\"coq_kernel_rich_cell_output coq_kernel_roll_back_controls_area\" style=\"display: none; position: relative;\">\n",
       "    <button class=\"btn btn-default btn-xs coq_kernel_roll_back_button\" onclick=\"CoqKernel.roll_back(this)\">\n",
       "        <i class=\"fa-step-backward fa\"></i>\n",
       "        <span class=\"toolbar-btn-label\">Rollback cell</span>\n",
       "    </button>\n",
       "\n",
       "    <div style=\"display: inline-block; vertical-align: middle; padding-left: 0; padding-right: 0;\">\n",
       "      <input class=\"coq_kernel_auto_roll_back_checkbox\" type=\"checkbox\" value=\"\" onchange=\"CoqKernel.toggle_auto_roll_back(this)\" checked>\n",
       "      <label\">Auto rollback</label>\n",
       "    </div>\n",
       "</div>\n"
      ],
      "text/plain": [
       "     = false\n",
       "     : bool"
      ]
     },
     "execution_count": 110,
     "metadata": {
      "coq_kernel_evaluated": true,
      "coq_kernel_execution_id": "aeb2c7f0-58ce-4949-9d15-160fc28524ea",
      "coq_kernel_rolled_back": false
     },
     "output_type": "execute_result"
    }
   ],
   "source": [
    "Compute EstRouge(bleu clair)."
   ]
  },
  {
   "cell_type": "code",
   "execution_count": 110,
   "id": "25ce014b-95ef-4861-a98d-965712d0928a",
   "metadata": {},
   "outputs": [
    {
     "data": {
      "text/html": [
       "\n",
       "<div class=\"coq_kernel_output_area\">\n",
       "    <pre>     = false\n",
       "     : bool</pre>\n",
       "</div>\n",
       "\n",
       "<div class=\"coq_kernel_rich_cell_output coq_kernel_status_message_area\" style=\"padding: 5px 0px;\">\n",
       "    <i class=\"fa-check fa text-success\"></i>\n",
       "    <span>Cell evaluated.</span>\n",
       "</div>\n",
       "\n",
       "<div class=\"coq_kernel_rich_cell_output coq_kernel_status_message_area coq_kernel_rolled_back_status_message\" style=\"padding: 5px 0px; display: none;\">\n",
       "    <i class=\"fa-exclamation-circle fa text-info\"></i>\n",
       "    <span>Cell rolled back.</span>\n",
       "</div>\n",
       "\n",
       "<div class=\"coq_kernel_rich_cell_output coq_kernel_roll_back_controls_area\" style=\"display: none; position: relative;\">\n",
       "    <button class=\"btn btn-default btn-xs coq_kernel_roll_back_button\" onclick=\"CoqKernel.roll_back(this)\">\n",
       "        <i class=\"fa-step-backward fa\"></i>\n",
       "        <span class=\"toolbar-btn-label\">Rollback cell</span>\n",
       "    </button>\n",
       "\n",
       "    <div style=\"display: inline-block; vertical-align: middle; padding-left: 0; padding-right: 0;\">\n",
       "      <input class=\"coq_kernel_auto_roll_back_checkbox\" type=\"checkbox\" value=\"\" onchange=\"CoqKernel.toggle_auto_roll_back(this)\" checked>\n",
       "      <label\">Auto rollback</label>\n",
       "    </div>\n",
       "</div>\n"
      ],
      "text/plain": [
       "     = false\n",
       "     : bool"
      ]
     },
     "execution_count": 111,
     "metadata": {
      "coq_kernel_evaluated": true,
      "coq_kernel_execution_id": "eb480fb2-5193-4e3f-8ac4-a0f59dee26a8",
      "coq_kernel_rolled_back": false
     },
     "output_type": "execute_result"
    }
   ],
   "source": [
    "Compute CouleurPrimaire(rouge foncé)."
   ]
  },
  {
   "cell_type": "markdown",
   "id": "2e0200dd-c089-4682-a47a-cfd8ab46799f",
   "metadata": {},
   "source": [
    "> ce qui marche."
   ]
  },
  {
   "cell_type": "markdown",
   "id": "d2815fda-5bbf-4f0f-aae7-08e67da5338d",
   "metadata": {},
   "source": [
    "Notons que nous n'utilisons pas la formulation \"Example\" car les preuves ici sont assez basées sur du \"Proof. simpl. reflexivity. Qed.\". "
   ]
  },
  {
   "cell_type": "markdown",
   "id": "1a20b50e-d05b-4bd3-b0c9-90166308fba2",
   "metadata": {},
   "source": [
    "***\n",
    "# Modules"
   ]
  },
  {
   "cell_type": "markdown",
   "id": "dbb6cb43-a303-4245-b131-3a5a11334f6e",
   "metadata": {},
   "source": [
    "La création de module s'avère très utile. En effet, elle permet d'isoler ou de cloisoner une partie de notre programme, et de ne pas rentrer en conflit avec d'autres définitions précédentes, dans le cas où nous nommerions de la même manière deux objets. Prenons un exemple et travaillons sur le bit et sur un agrégat de 4 bits appelé nibble."
   ]
  },
  {
   "cell_type": "code",
   "execution_count": 111,
   "id": "930c4f19-2ff1-4ec7-8ce9-620acc751537",
   "metadata": {},
   "outputs": [
    {
     "data": {
      "text/html": [
       "\n",
       "<div class=\"coq_kernel_output_area\">\n",
       "    <pre></pre>\n",
       "</div>\n",
       "\n",
       "<div class=\"coq_kernel_rich_cell_output coq_kernel_status_message_area\" style=\"padding: 5px 0px;\">\n",
       "    <i class=\"fa-check fa text-success\"></i>\n",
       "    <span>Cell evaluated.</span>\n",
       "</div>\n",
       "\n",
       "<div class=\"coq_kernel_rich_cell_output coq_kernel_status_message_area coq_kernel_rolled_back_status_message\" style=\"padding: 5px 0px; display: none;\">\n",
       "    <i class=\"fa-exclamation-circle fa text-info\"></i>\n",
       "    <span>Cell rolled back.</span>\n",
       "</div>\n",
       "\n",
       "<div class=\"coq_kernel_rich_cell_output coq_kernel_roll_back_controls_area\" style=\"display: none; position: relative;\">\n",
       "    <button class=\"btn btn-default btn-xs coq_kernel_roll_back_button\" onclick=\"CoqKernel.roll_back(this)\">\n",
       "        <i class=\"fa-step-backward fa\"></i>\n",
       "        <span class=\"toolbar-btn-label\">Rollback cell</span>\n",
       "    </button>\n",
       "\n",
       "    <div style=\"display: inline-block; vertical-align: middle; padding-left: 0; padding-right: 0;\">\n",
       "      <input class=\"coq_kernel_auto_roll_back_checkbox\" type=\"checkbox\" value=\"\" onchange=\"CoqKernel.toggle_auto_roll_back(this)\" checked>\n",
       "      <label\">Auto rollback</label>\n",
       "    </div>\n",
       "</div>\n"
      ],
      "text/plain": []
     },
     "execution_count": 112,
     "metadata": {
      "coq_kernel_evaluated": true,
      "coq_kernel_execution_id": "600f5e45-ad6b-4856-ab0d-6a55fc7e0847",
      "coq_kernel_rolled_back": false
     },
     "output_type": "execute_result"
    }
   ],
   "source": [
    "Module cas1."
   ]
  },
  {
   "cell_type": "code",
   "execution_count": 112,
   "id": "0312f250-3aee-4392-92c4-968d97befc03",
   "metadata": {},
   "outputs": [
    {
     "data": {
      "text/html": [
       "\n",
       "<div class=\"coq_kernel_output_area\">\n",
       "    <pre></pre>\n",
       "</div>\n",
       "\n",
       "<div class=\"coq_kernel_rich_cell_output coq_kernel_status_message_area\" style=\"padding: 5px 0px;\">\n",
       "    <i class=\"fa-check fa text-success\"></i>\n",
       "    <span>Cell evaluated.</span>\n",
       "</div>\n",
       "\n",
       "<div class=\"coq_kernel_rich_cell_output coq_kernel_status_message_area coq_kernel_rolled_back_status_message\" style=\"padding: 5px 0px; display: none;\">\n",
       "    <i class=\"fa-exclamation-circle fa text-info\"></i>\n",
       "    <span>Cell rolled back.</span>\n",
       "</div>\n",
       "\n",
       "<div class=\"coq_kernel_rich_cell_output coq_kernel_roll_back_controls_area\" style=\"display: none; position: relative;\">\n",
       "    <button class=\"btn btn-default btn-xs coq_kernel_roll_back_button\" onclick=\"CoqKernel.roll_back(this)\">\n",
       "        <i class=\"fa-step-backward fa\"></i>\n",
       "        <span class=\"toolbar-btn-label\">Rollback cell</span>\n",
       "    </button>\n",
       "\n",
       "    <div style=\"display: inline-block; vertical-align: middle; padding-left: 0; padding-right: 0;\">\n",
       "      <input class=\"coq_kernel_auto_roll_back_checkbox\" type=\"checkbox\" value=\"\" onchange=\"CoqKernel.toggle_auto_roll_back(this)\" checked>\n",
       "      <label\">Auto rollback</label>\n",
       "    </div>\n",
       "</div>\n"
      ],
      "text/plain": []
     },
     "execution_count": 113,
     "metadata": {
      "coq_kernel_evaluated": true,
      "coq_kernel_execution_id": "61b3f69b-deb9-4dac-94fb-3ed3f400dd8e",
      "coq_kernel_rolled_back": false
     },
     "output_type": "execute_result"
    }
   ],
   "source": [
    "Inductive bit : Type :=\n",
    "| B1\n",
    "| B0."
   ]
  },
  {
   "cell_type": "code",
   "execution_count": 113,
   "id": "2dde670f-f94b-4f1e-bbec-deb0090e8be3",
   "metadata": {},
   "outputs": [
    {
     "data": {
      "text/html": [
       "\n",
       "<div class=\"coq_kernel_output_area\">\n",
       "    <pre></pre>\n",
       "</div>\n",
       "\n",
       "<div class=\"coq_kernel_rich_cell_output coq_kernel_status_message_area\" style=\"padding: 5px 0px;\">\n",
       "    <i class=\"fa-check fa text-success\"></i>\n",
       "    <span>Cell evaluated.</span>\n",
       "</div>\n",
       "\n",
       "<div class=\"coq_kernel_rich_cell_output coq_kernel_status_message_area coq_kernel_rolled_back_status_message\" style=\"padding: 5px 0px; display: none;\">\n",
       "    <i class=\"fa-exclamation-circle fa text-info\"></i>\n",
       "    <span>Cell rolled back.</span>\n",
       "</div>\n",
       "\n",
       "<div class=\"coq_kernel_rich_cell_output coq_kernel_roll_back_controls_area\" style=\"display: none; position: relative;\">\n",
       "    <button class=\"btn btn-default btn-xs coq_kernel_roll_back_button\" onclick=\"CoqKernel.roll_back(this)\">\n",
       "        <i class=\"fa-step-backward fa\"></i>\n",
       "        <span class=\"toolbar-btn-label\">Rollback cell</span>\n",
       "    </button>\n",
       "\n",
       "    <div style=\"display: inline-block; vertical-align: middle; padding-left: 0; padding-right: 0;\">\n",
       "      <input class=\"coq_kernel_auto_roll_back_checkbox\" type=\"checkbox\" value=\"\" onchange=\"CoqKernel.toggle_auto_roll_back(this)\" checked>\n",
       "      <label\">Auto rollback</label>\n",
       "    </div>\n",
       "</div>\n"
      ],
      "text/plain": []
     },
     "execution_count": 114,
     "metadata": {
      "coq_kernel_evaluated": true,
      "coq_kernel_execution_id": "6a97c9f7-330b-4b5e-8c0f-ba0f6ff0e6c1",
      "coq_kernel_rolled_back": false
     },
     "output_type": "execute_result"
    }
   ],
   "source": [
    "Inductive nibble : Type :=\n",
    "| bits (b0 b1 b2 b3 : bit)."
   ]
  },
  {
   "cell_type": "markdown",
   "id": "25d639b5-f8dc-400a-aa74-bc7bb588d549",
   "metadata": {},
   "source": [
    "Sur ces types, dans le module cas1 (il faudra déclarer explicitement lorsque nous en sortirons), créons des fonctions"
   ]
  },
  {
   "cell_type": "code",
   "execution_count": 114,
   "id": "36cb2dae-e892-407f-85a4-0a28dbd22c5f",
   "metadata": {},
   "outputs": [
    {
     "data": {
      "text/html": [
       "\n",
       "<div class=\"coq_kernel_output_area\">\n",
       "    <pre></pre>\n",
       "</div>\n",
       "\n",
       "<div class=\"coq_kernel_rich_cell_output coq_kernel_status_message_area\" style=\"padding: 5px 0px;\">\n",
       "    <i class=\"fa-check fa text-success\"></i>\n",
       "    <span>Cell evaluated.</span>\n",
       "</div>\n",
       "\n",
       "<div class=\"coq_kernel_rich_cell_output coq_kernel_status_message_area coq_kernel_rolled_back_status_message\" style=\"padding: 5px 0px; display: none;\">\n",
       "    <i class=\"fa-exclamation-circle fa text-info\"></i>\n",
       "    <span>Cell rolled back.</span>\n",
       "</div>\n",
       "\n",
       "<div class=\"coq_kernel_rich_cell_output coq_kernel_roll_back_controls_area\" style=\"display: none; position: relative;\">\n",
       "    <button class=\"btn btn-default btn-xs coq_kernel_roll_back_button\" onclick=\"CoqKernel.roll_back(this)\">\n",
       "        <i class=\"fa-step-backward fa\"></i>\n",
       "        <span class=\"toolbar-btn-label\">Rollback cell</span>\n",
       "    </button>\n",
       "\n",
       "    <div style=\"display: inline-block; vertical-align: middle; padding-left: 0; padding-right: 0;\">\n",
       "      <input class=\"coq_kernel_auto_roll_back_checkbox\" type=\"checkbox\" value=\"\" onchange=\"CoqKernel.toggle_auto_roll_back(this)\" checked>\n",
       "      <label\">Auto rollback</label>\n",
       "    </div>\n",
       "</div>\n"
      ],
      "text/plain": []
     },
     "execution_count": 115,
     "metadata": {
      "coq_kernel_evaluated": true,
      "coq_kernel_execution_id": "2aa8be91-c854-4e5d-a056-2f120aea3723",
      "coq_kernel_rolled_back": false
     },
     "output_type": "execute_result"
    }
   ],
   "source": [
    "Definition nul(c : nibble) : bool :=\n",
    "match c with\n",
    "| (bits B0 B0 B0 B0) => true\n",
    "| (bits _ _ _ _)  => false\n",
    "end."
   ]
  },
  {
   "cell_type": "markdown",
   "id": "060cda1f-91ff-4ce6-b120-724ef13243a9",
   "metadata": {},
   "source": [
    "Revenons à l'utilisation des \"Example\" car nous avons un peu complexifié les données utilisées."
   ]
  },
  {
   "cell_type": "code",
   "execution_count": 115,
   "id": "e8f50aeb-9400-4323-81ed-f4782830081a",
   "metadata": {},
   "outputs": [
    {
     "data": {
      "text/html": [
       "\n",
       "<div class=\"coq_kernel_output_area\">\n",
       "    <pre></pre>\n",
       "</div>\n",
       "\n",
       "<div class=\"coq_kernel_rich_cell_output coq_kernel_status_message_area\" style=\"padding: 5px 0px;\">\n",
       "    <i class=\"fa-check fa text-success\"></i>\n",
       "    <span>Cell evaluated.</span>\n",
       "</div>\n",
       "\n",
       "<div class=\"coq_kernel_rich_cell_output coq_kernel_status_message_area coq_kernel_rolled_back_status_message\" style=\"padding: 5px 0px; display: none;\">\n",
       "    <i class=\"fa-exclamation-circle fa text-info\"></i>\n",
       "    <span>Cell rolled back.</span>\n",
       "</div>\n",
       "\n",
       "<div class=\"coq_kernel_rich_cell_output coq_kernel_roll_back_controls_area\" style=\"display: none; position: relative;\">\n",
       "    <button class=\"btn btn-default btn-xs coq_kernel_roll_back_button\" onclick=\"CoqKernel.roll_back(this)\">\n",
       "        <i class=\"fa-step-backward fa\"></i>\n",
       "        <span class=\"toolbar-btn-label\">Rollback cell</span>\n",
       "    </button>\n",
       "\n",
       "    <div style=\"display: inline-block; vertical-align: middle; padding-left: 0; padding-right: 0;\">\n",
       "      <input class=\"coq_kernel_auto_roll_back_checkbox\" type=\"checkbox\" value=\"\" onchange=\"CoqKernel.toggle_auto_roll_back(this)\" checked>\n",
       "      <label\">Auto rollback</label>\n",
       "    </div>\n",
       "</div>\n"
      ],
      "text/plain": []
     },
     "execution_count": 120,
     "metadata": {
      "coq_kernel_evaluated": true,
      "coq_kernel_execution_id": "3e422d57-4cde-456e-872a-1f151b507217",
      "coq_kernel_rolled_back": false
     },
     "output_type": "execute_result"
    }
   ],
   "source": [
    "Example casT:\n",
    "nul(bits B0 B0 B0 B0) = true.\n",
    "Proof. simpl. reflexivity. Qed."
   ]
  },
  {
   "cell_type": "code",
   "execution_count": 120,
   "id": "fd4ae5c5-23db-4fad-ac10-f0237a6a3faa",
   "metadata": {},
   "outputs": [
    {
     "data": {
      "text/html": [
       "\n",
       "<div class=\"coq_kernel_output_area\">\n",
       "    <pre></pre>\n",
       "</div>\n",
       "\n",
       "<div class=\"coq_kernel_rich_cell_output coq_kernel_status_message_area\" style=\"padding: 5px 0px;\">\n",
       "    <i class=\"fa-check fa text-success\"></i>\n",
       "    <span>Cell evaluated.</span>\n",
       "</div>\n",
       "\n",
       "<div class=\"coq_kernel_rich_cell_output coq_kernel_status_message_area coq_kernel_rolled_back_status_message\" style=\"padding: 5px 0px; display: none;\">\n",
       "    <i class=\"fa-exclamation-circle fa text-info\"></i>\n",
       "    <span>Cell rolled back.</span>\n",
       "</div>\n",
       "\n",
       "<div class=\"coq_kernel_rich_cell_output coq_kernel_roll_back_controls_area\" style=\"display: none; position: relative;\">\n",
       "    <button class=\"btn btn-default btn-xs coq_kernel_roll_back_button\" onclick=\"CoqKernel.roll_back(this)\">\n",
       "        <i class=\"fa-step-backward fa\"></i>\n",
       "        <span class=\"toolbar-btn-label\">Rollback cell</span>\n",
       "    </button>\n",
       "\n",
       "    <div style=\"display: inline-block; vertical-align: middle; padding-left: 0; padding-right: 0;\">\n",
       "      <input class=\"coq_kernel_auto_roll_back_checkbox\" type=\"checkbox\" value=\"\" onchange=\"CoqKernel.toggle_auto_roll_back(this)\" checked>\n",
       "      <label\">Auto rollback</label>\n",
       "    </div>\n",
       "</div>\n"
      ],
      "text/plain": []
     },
     "execution_count": 125,
     "metadata": {
      "coq_kernel_evaluated": true,
      "coq_kernel_execution_id": "933bbb86-c7cb-4226-add0-085cb54c23a8",
      "coq_kernel_rolled_back": false
     },
     "output_type": "execute_result"
    }
   ],
   "source": [
    "Example casF:\n",
    "nul(bits B0 B0 B0 B1) = false.\n",
    "Proof. simpl. reflexivity. Qed."
   ]
  },
  {
   "cell_type": "markdown",
   "id": "aa830751-5818-413d-aa77-046249395797",
   "metadata": {},
   "source": [
    "sortons finalement de cet environnement, module cas1,"
   ]
  },
  {
   "cell_type": "code",
   "execution_count": 125,
   "id": "d394ec9f-a635-4d94-9146-00276c26b6e2",
   "metadata": {},
   "outputs": [
    {
     "data": {
      "text/html": [
       "\n",
       "<div class=\"coq_kernel_output_area\">\n",
       "    <pre></pre>\n",
       "</div>\n",
       "\n",
       "<div class=\"coq_kernel_rich_cell_output coq_kernel_status_message_area\" style=\"padding: 5px 0px;\">\n",
       "    <i class=\"fa-check fa text-success\"></i>\n",
       "    <span>Cell evaluated.</span>\n",
       "</div>\n",
       "\n",
       "<div class=\"coq_kernel_rich_cell_output coq_kernel_status_message_area coq_kernel_rolled_back_status_message\" style=\"padding: 5px 0px; display: none;\">\n",
       "    <i class=\"fa-exclamation-circle fa text-info\"></i>\n",
       "    <span>Cell rolled back.</span>\n",
       "</div>\n",
       "\n",
       "<div class=\"coq_kernel_rich_cell_output coq_kernel_roll_back_controls_area\" style=\"display: none; position: relative;\">\n",
       "    <button class=\"btn btn-default btn-xs coq_kernel_roll_back_button\" onclick=\"CoqKernel.roll_back(this)\">\n",
       "        <i class=\"fa-step-backward fa\"></i>\n",
       "        <span class=\"toolbar-btn-label\">Rollback cell</span>\n",
       "    </button>\n",
       "\n",
       "    <div style=\"display: inline-block; vertical-align: middle; padding-left: 0; padding-right: 0;\">\n",
       "      <input class=\"coq_kernel_auto_roll_back_checkbox\" type=\"checkbox\" value=\"\" onchange=\"CoqKernel.toggle_auto_roll_back(this)\" checked>\n",
       "      <label\">Auto rollback</label>\n",
       "    </div>\n",
       "</div>\n"
      ],
      "text/plain": []
     },
     "execution_count": 126,
     "metadata": {
      "coq_kernel_evaluated": true,
      "coq_kernel_execution_id": "cdce01fa-1143-404f-87bf-d8286a9440c4",
      "coq_kernel_rolled_back": false
     },
     "output_type": "execute_result"
    }
   ],
   "source": [
    "End cas1."
   ]
  },
  {
   "cell_type": "markdown",
   "id": "06daabe2-a088-4f9c-8b0d-3fe10c6e309b",
   "metadata": {},
   "source": [
    "***\n",
    "# Une construction des naturels"
   ]
  },
  {
   "cell_type": "markdown",
   "id": "7df7b9b6-48ee-4558-af1f-f0bbed55cfc6",
   "metadata": {},
   "source": [
    "Il existe déjà un module Coq pour l'utilisation des naturels (ce qui aurait été pénible à l'utilisation sans ce module) mais pour cerner les bases du fonctionnement des types et fonctions un peu plus complexes que les précédentes, attelons-nous à cette tâche. Cette construction se fait assez naturellement, nous définissons le nul ($O$), le premier élément, et chaque naturel se fait par récurrence par rapport à son précédent, en ajoutant l'unité ($S$). Ici voir $n' = n + 1$ pour un $n$ entier naturel avec le premier $n = 0$. "
   ]
  },
  {
   "cell_type": "code",
   "execution_count": 126,
   "id": "fa7b1308-9472-4895-90ff-60f69bf7a3e8",
   "metadata": {},
   "outputs": [
    {
     "data": {
      "text/html": [
       "\n",
       "<div class=\"coq_kernel_output_area\">\n",
       "    <pre></pre>\n",
       "</div>\n",
       "\n",
       "<div class=\"coq_kernel_rich_cell_output coq_kernel_status_message_area\" style=\"padding: 5px 0px;\">\n",
       "    <i class=\"fa-check fa text-success\"></i>\n",
       "    <span>Cell evaluated.</span>\n",
       "</div>\n",
       "\n",
       "<div class=\"coq_kernel_rich_cell_output coq_kernel_status_message_area coq_kernel_rolled_back_status_message\" style=\"padding: 5px 0px; display: none;\">\n",
       "    <i class=\"fa-exclamation-circle fa text-info\"></i>\n",
       "    <span>Cell rolled back.</span>\n",
       "</div>\n",
       "\n",
       "<div class=\"coq_kernel_rich_cell_output coq_kernel_roll_back_controls_area\" style=\"display: none; position: relative;\">\n",
       "    <button class=\"btn btn-default btn-xs coq_kernel_roll_back_button\" onclick=\"CoqKernel.roll_back(this)\">\n",
       "        <i class=\"fa-step-backward fa\"></i>\n",
       "        <span class=\"toolbar-btn-label\">Rollback cell</span>\n",
       "    </button>\n",
       "\n",
       "    <div style=\"display: inline-block; vertical-align: middle; padding-left: 0; padding-right: 0;\">\n",
       "      <input class=\"coq_kernel_auto_roll_back_checkbox\" type=\"checkbox\" value=\"\" onchange=\"CoqKernel.toggle_auto_roll_back(this)\" checked>\n",
       "      <label\">Auto rollback</label>\n",
       "    </div>\n",
       "</div>\n"
      ],
      "text/plain": []
     },
     "execution_count": 128,
     "metadata": {
      "coq_kernel_evaluated": true,
      "coq_kernel_execution_id": "a3be12dd-f353-4a82-9cdd-b9c8eaac896f",
      "coq_kernel_rolled_back": false
     },
     "output_type": "execute_result"
    }
   ],
   "source": [
    "Module naturels.\n",
    "Inductive nat : Type :=\n",
    "| O\n",
    "| S (n : nat)."
   ]
  },
  {
   "cell_type": "code",
   "execution_count": 128,
   "id": "62c12780-75cb-4d71-bd12-28beb7ef1ba6",
   "metadata": {},
   "outputs": [
    {
     "data": {
      "text/html": [
       "\n",
       "<div class=\"coq_kernel_output_area\">\n",
       "    <pre>S (S (S (S O)))\n",
       "     : nat</pre>\n",
       "</div>\n",
       "\n",
       "<div class=\"coq_kernel_rich_cell_output coq_kernel_status_message_area\" style=\"padding: 5px 0px;\">\n",
       "    <i class=\"fa-check fa text-success\"></i>\n",
       "    <span>Cell evaluated.</span>\n",
       "</div>\n",
       "\n",
       "<div class=\"coq_kernel_rich_cell_output coq_kernel_status_message_area coq_kernel_rolled_back_status_message\" style=\"padding: 5px 0px; display: none;\">\n",
       "    <i class=\"fa-exclamation-circle fa text-info\"></i>\n",
       "    <span>Cell rolled back.</span>\n",
       "</div>\n",
       "\n",
       "<div class=\"coq_kernel_rich_cell_output coq_kernel_roll_back_controls_area\" style=\"display: none; position: relative;\">\n",
       "    <button class=\"btn btn-default btn-xs coq_kernel_roll_back_button\" onclick=\"CoqKernel.roll_back(this)\">\n",
       "        <i class=\"fa-step-backward fa\"></i>\n",
       "        <span class=\"toolbar-btn-label\">Rollback cell</span>\n",
       "    </button>\n",
       "\n",
       "    <div style=\"display: inline-block; vertical-align: middle; padding-left: 0; padding-right: 0;\">\n",
       "      <input class=\"coq_kernel_auto_roll_back_checkbox\" type=\"checkbox\" value=\"\" onchange=\"CoqKernel.toggle_auto_roll_back(this)\" checked>\n",
       "      <label\">Auto rollback</label>\n",
       "    </div>\n",
       "</div>\n"
      ],
      "text/plain": [
       "S (S (S (S O)))\n",
       "     : nat"
      ]
     },
     "execution_count": 129,
     "metadata": {
      "coq_kernel_evaluated": true,
      "coq_kernel_execution_id": "fb154997-ceab-48bd-82bd-a64ad24888f0",
      "coq_kernel_rolled_back": false
     },
     "output_type": "execute_result"
    }
   ],
   "source": [
    "Check S (S (S (S O)))."
   ]
  },
  {
   "cell_type": "markdown",
   "id": "45bd70c9-0dbd-4be6-b101-617277665306",
   "metadata": {},
   "source": [
    "qui est bien un naturel."
   ]
  },
  {
   "cell_type": "markdown",
   "id": "c79138ef-e63b-4fa6-aa7e-38e85e2533cf",
   "metadata": {},
   "source": [
    "Mais nous pouvons très bien définir les naturels d'une autre manière : "
   ]
  },
  {
   "cell_type": "code",
   "execution_count": 129,
   "id": "aa1157f1-ddda-4112-b2e9-cd2677b45d87",
   "metadata": {},
   "outputs": [
    {
     "data": {
      "text/html": [
       "\n",
       "<div class=\"coq_kernel_output_area\">\n",
       "    <pre></pre>\n",
       "</div>\n",
       "\n",
       "<div class=\"coq_kernel_rich_cell_output coq_kernel_status_message_area\" style=\"padding: 5px 0px;\">\n",
       "    <i class=\"fa-check fa text-success\"></i>\n",
       "    <span>Cell evaluated.</span>\n",
       "</div>\n",
       "\n",
       "<div class=\"coq_kernel_rich_cell_output coq_kernel_status_message_area coq_kernel_rolled_back_status_message\" style=\"padding: 5px 0px; display: none;\">\n",
       "    <i class=\"fa-exclamation-circle fa text-info\"></i>\n",
       "    <span>Cell rolled back.</span>\n",
       "</div>\n",
       "\n",
       "<div class=\"coq_kernel_rich_cell_output coq_kernel_roll_back_controls_area\" style=\"display: none; position: relative;\">\n",
       "    <button class=\"btn btn-default btn-xs coq_kernel_roll_back_button\" onclick=\"CoqKernel.roll_back(this)\">\n",
       "        <i class=\"fa-step-backward fa\"></i>\n",
       "        <span class=\"toolbar-btn-label\">Rollback cell</span>\n",
       "    </button>\n",
       "\n",
       "    <div style=\"display: inline-block; vertical-align: middle; padding-left: 0; padding-right: 0;\">\n",
       "      <input class=\"coq_kernel_auto_roll_back_checkbox\" type=\"checkbox\" value=\"\" onchange=\"CoqKernel.toggle_auto_roll_back(this)\" checked>\n",
       "      <label\">Auto rollback</label>\n",
       "    </div>\n",
       "</div>\n"
      ],
      "text/plain": []
     },
     "execution_count": 130,
     "metadata": {
      "coq_kernel_evaluated": true,
      "coq_kernel_execution_id": "98511b5e-5a4f-4e86-9fd5-b4e3faeaf2e7",
      "coq_kernel_rolled_back": false
     },
     "output_type": "execute_result"
    }
   ],
   "source": [
    "Inductive naturelBis : Type :=\n",
    "| arrêt\n",
    "| incrément (n : naturelBis)."
   ]
  },
  {
   "cell_type": "code",
   "execution_count": 130,
   "id": "babae1eb-8ebb-4930-a37f-bd2c9fd98876",
   "metadata": {},
   "outputs": [
    {
     "data": {
      "text/html": [
       "\n",
       "<div class=\"coq_kernel_output_area\">\n",
       "    <pre>incrément arrêt\n",
       "     : naturelBis</pre>\n",
       "</div>\n",
       "\n",
       "<div class=\"coq_kernel_rich_cell_output coq_kernel_status_message_area\" style=\"padding: 5px 0px;\">\n",
       "    <i class=\"fa-check fa text-success\"></i>\n",
       "    <span>Cell evaluated.</span>\n",
       "</div>\n",
       "\n",
       "<div class=\"coq_kernel_rich_cell_output coq_kernel_status_message_area coq_kernel_rolled_back_status_message\" style=\"padding: 5px 0px; display: none;\">\n",
       "    <i class=\"fa-exclamation-circle fa text-info\"></i>\n",
       "    <span>Cell rolled back.</span>\n",
       "</div>\n",
       "\n",
       "<div class=\"coq_kernel_rich_cell_output coq_kernel_roll_back_controls_area\" style=\"display: none; position: relative;\">\n",
       "    <button class=\"btn btn-default btn-xs coq_kernel_roll_back_button\" onclick=\"CoqKernel.roll_back(this)\">\n",
       "        <i class=\"fa-step-backward fa\"></i>\n",
       "        <span class=\"toolbar-btn-label\">Rollback cell</span>\n",
       "    </button>\n",
       "\n",
       "    <div style=\"display: inline-block; vertical-align: middle; padding-left: 0; padding-right: 0;\">\n",
       "      <input class=\"coq_kernel_auto_roll_back_checkbox\" type=\"checkbox\" value=\"\" onchange=\"CoqKernel.toggle_auto_roll_back(this)\" checked>\n",
       "      <label\">Auto rollback</label>\n",
       "    </div>\n",
       "</div>\n"
      ],
      "text/plain": [
       "incrément arrêt\n",
       "     : naturelBis"
      ]
     },
     "execution_count": 131,
     "metadata": {
      "coq_kernel_evaluated": true,
      "coq_kernel_execution_id": "92307c32-242a-4d94-ac68-7071aa795d7f",
      "coq_kernel_rolled_back": false
     },
     "output_type": "execute_result"
    }
   ],
   "source": [
    "Check incrément arrêt."
   ]
  },
  {
   "cell_type": "markdown",
   "id": "1cbafb05-3c92-483f-9c1d-0f9a1b38b95a",
   "metadata": {},
   "source": [
    "Construisons une fonction qui nous donne le naturel précédent au nôtre. Cela reviendrait à faire $n' = n - 1$ pour $n$ entier naturel fixé. Il faut juste faire attention à ne pas essayer de descendre en dessous du nul."
   ]
  },
  {
   "cell_type": "code",
   "execution_count": 131,
   "id": "708d6f65-db1e-4059-bfb2-c25edafbe62f",
   "metadata": {},
   "outputs": [
    {
     "data": {
      "text/html": [
       "\n",
       "<div class=\"coq_kernel_output_area\">\n",
       "    <pre></pre>\n",
       "</div>\n",
       "\n",
       "<div class=\"coq_kernel_rich_cell_output coq_kernel_status_message_area\" style=\"padding: 5px 0px;\">\n",
       "    <i class=\"fa-check fa text-success\"></i>\n",
       "    <span>Cell evaluated.</span>\n",
       "</div>\n",
       "\n",
       "<div class=\"coq_kernel_rich_cell_output coq_kernel_status_message_area coq_kernel_rolled_back_status_message\" style=\"padding: 5px 0px; display: none;\">\n",
       "    <i class=\"fa-exclamation-circle fa text-info\"></i>\n",
       "    <span>Cell rolled back.</span>\n",
       "</div>\n",
       "\n",
       "<div class=\"coq_kernel_rich_cell_output coq_kernel_roll_back_controls_area\" style=\"display: none; position: relative;\">\n",
       "    <button class=\"btn btn-default btn-xs coq_kernel_roll_back_button\" onclick=\"CoqKernel.roll_back(this)\">\n",
       "        <i class=\"fa-step-backward fa\"></i>\n",
       "        <span class=\"toolbar-btn-label\">Rollback cell</span>\n",
       "    </button>\n",
       "\n",
       "    <div style=\"display: inline-block; vertical-align: middle; padding-left: 0; padding-right: 0;\">\n",
       "      <input class=\"coq_kernel_auto_roll_back_checkbox\" type=\"checkbox\" value=\"\" onchange=\"CoqKernel.toggle_auto_roll_back(this)\" checked>\n",
       "      <label\">Auto rollback</label>\n",
       "    </div>\n",
       "</div>\n"
      ],
      "text/plain": []
     },
     "execution_count": 132,
     "metadata": {
      "coq_kernel_evaluated": true,
      "coq_kernel_execution_id": "227a8838-be3a-4d62-8394-451fd2742864",
      "coq_kernel_rolled_back": false
     },
     "output_type": "execute_result"
    }
   ],
   "source": [
    "Definition prec(n: nat) : nat :=\n",
    "match n with\n",
    "| O => O\n",
    "| S n' => n'\n",
    "end."
   ]
  },
  {
   "cell_type": "markdown",
   "id": "ba18832b-df57-4510-8cb9-95b750f0e92e",
   "metadata": {},
   "source": [
    "Il faut comprendre cette fonction comme, pour un n naturel entier, si $n = 0$, je retourne 0, sinon je regarde le nombre tel que $1 + n'  = n$, et je retourne $n'$."
   ]
  },
  {
   "cell_type": "markdown",
   "id": "0f8b2978-0165-4457-8650-4e54b7cd14a8",
   "metadata": {},
   "source": [
    "Voici un exemple qui a le comportement attendu,"
   ]
  },
  {
   "cell_type": "code",
   "execution_count": 132,
   "id": "d34fac70-4c96-4913-9d60-6f01827225d5",
   "metadata": {},
   "outputs": [
    {
     "data": {
      "text/html": [
       "\n",
       "<div class=\"coq_kernel_output_area\">\n",
       "    <pre></pre>\n",
       "</div>\n",
       "\n",
       "<div class=\"coq_kernel_rich_cell_output coq_kernel_status_message_area\" style=\"padding: 5px 0px;\">\n",
       "    <i class=\"fa-check fa text-success\"></i>\n",
       "    <span>Cell evaluated.</span>\n",
       "</div>\n",
       "\n",
       "<div class=\"coq_kernel_rich_cell_output coq_kernel_status_message_area coq_kernel_rolled_back_status_message\" style=\"padding: 5px 0px; display: none;\">\n",
       "    <i class=\"fa-exclamation-circle fa text-info\"></i>\n",
       "    <span>Cell rolled back.</span>\n",
       "</div>\n",
       "\n",
       "<div class=\"coq_kernel_rich_cell_output coq_kernel_roll_back_controls_area\" style=\"display: none; position: relative;\">\n",
       "    <button class=\"btn btn-default btn-xs coq_kernel_roll_back_button\" onclick=\"CoqKernel.roll_back(this)\">\n",
       "        <i class=\"fa-step-backward fa\"></i>\n",
       "        <span class=\"toolbar-btn-label\">Rollback cell</span>\n",
       "    </button>\n",
       "\n",
       "    <div style=\"display: inline-block; vertical-align: middle; padding-left: 0; padding-right: 0;\">\n",
       "      <input class=\"coq_kernel_auto_roll_back_checkbox\" type=\"checkbox\" value=\"\" onchange=\"CoqKernel.toggle_auto_roll_back(this)\" checked>\n",
       "      <label\">Auto rollback</label>\n",
       "    </div>\n",
       "</div>\n"
      ],
      "text/plain": []
     },
     "execution_count": 137,
     "metadata": {
      "coq_kernel_evaluated": true,
      "coq_kernel_execution_id": "1f76f946-2c3c-40af-aa76-40daeecd65ff",
      "coq_kernel_rolled_back": false
     },
     "output_type": "execute_result"
    }
   ],
   "source": [
    "Example prec1:\n",
    "prec(S(S O)) = S O.\n",
    "Proof. simpl. reflexivity. Qed."
   ]
  },
  {
   "cell_type": "markdown",
   "id": "dbbbfab5-a193-419e-b664-d133e3bd8c3e",
   "metadata": {},
   "source": [
    "Nous pouvons aussi construire la fonction qui associe à un naturel, le prédécesseur de son prédécesseur. Une façon de le faire serait de simplement composer \"prec\" avec elle-même, mais il est intéréssant de la construire à zéro."
   ]
  },
  {
   "cell_type": "code",
   "execution_count": 137,
   "id": "7dbc2247-c845-4d31-a96e-26b8e2ca3379",
   "metadata": {},
   "outputs": [
    {
     "data": {
      "text/html": [
       "\n",
       "<div class=\"coq_kernel_output_area\">\n",
       "    <pre></pre>\n",
       "</div>\n",
       "\n",
       "<div class=\"coq_kernel_rich_cell_output coq_kernel_status_message_area\" style=\"padding: 5px 0px;\">\n",
       "    <i class=\"fa-check fa text-success\"></i>\n",
       "    <span>Cell evaluated.</span>\n",
       "</div>\n",
       "\n",
       "<div class=\"coq_kernel_rich_cell_output coq_kernel_status_message_area coq_kernel_rolled_back_status_message\" style=\"padding: 5px 0px; display: none;\">\n",
       "    <i class=\"fa-exclamation-circle fa text-info\"></i>\n",
       "    <span>Cell rolled back.</span>\n",
       "</div>\n",
       "\n",
       "<div class=\"coq_kernel_rich_cell_output coq_kernel_roll_back_controls_area\" style=\"display: none; position: relative;\">\n",
       "    <button class=\"btn btn-default btn-xs coq_kernel_roll_back_button\" onclick=\"CoqKernel.roll_back(this)\">\n",
       "        <i class=\"fa-step-backward fa\"></i>\n",
       "        <span class=\"toolbar-btn-label\">Rollback cell</span>\n",
       "    </button>\n",
       "\n",
       "    <div style=\"display: inline-block; vertical-align: middle; padding-left: 0; padding-right: 0;\">\n",
       "      <input class=\"coq_kernel_auto_roll_back_checkbox\" type=\"checkbox\" value=\"\" onchange=\"CoqKernel.toggle_auto_roll_back(this)\" checked>\n",
       "      <label\">Auto rollback</label>\n",
       "    </div>\n",
       "</div>\n"
      ],
      "text/plain": []
     },
     "execution_count": 138,
     "metadata": {
      "coq_kernel_evaluated": true,
      "coq_kernel_execution_id": "2ccd46d1-7da9-4f9c-9bec-629ab32c9f77",
      "coq_kernel_rolled_back": false
     },
     "output_type": "execute_result"
    }
   ],
   "source": [
    "Definition minustwo (n:nat) : nat :=\n",
    "match n with\n",
    "| O => O\n",
    "| S O => O\n",
    "| S ( S n') => n' \n",
    "end."
   ]
  },
  {
   "cell_type": "code",
   "execution_count": 138,
   "id": "2897e1f5-4c2b-4fc4-aa69-586c1587f001",
   "metadata": {},
   "outputs": [
    {
     "data": {
      "text/html": [
       "\n",
       "<div class=\"coq_kernel_output_area\">\n",
       "    <pre></pre>\n",
       "</div>\n",
       "\n",
       "<div class=\"coq_kernel_rich_cell_output coq_kernel_status_message_area\" style=\"padding: 5px 0px;\">\n",
       "    <i class=\"fa-check fa text-success\"></i>\n",
       "    <span>Cell evaluated.</span>\n",
       "</div>\n",
       "\n",
       "<div class=\"coq_kernel_rich_cell_output coq_kernel_status_message_area coq_kernel_rolled_back_status_message\" style=\"padding: 5px 0px; display: none;\">\n",
       "    <i class=\"fa-exclamation-circle fa text-info\"></i>\n",
       "    <span>Cell rolled back.</span>\n",
       "</div>\n",
       "\n",
       "<div class=\"coq_kernel_rich_cell_output coq_kernel_roll_back_controls_area\" style=\"display: none; position: relative;\">\n",
       "    <button class=\"btn btn-default btn-xs coq_kernel_roll_back_button\" onclick=\"CoqKernel.roll_back(this)\">\n",
       "        <i class=\"fa-step-backward fa\"></i>\n",
       "        <span class=\"toolbar-btn-label\">Rollback cell</span>\n",
       "    </button>\n",
       "\n",
       "    <div style=\"display: inline-block; vertical-align: middle; padding-left: 0; padding-right: 0;\">\n",
       "      <input class=\"coq_kernel_auto_roll_back_checkbox\" type=\"checkbox\" value=\"\" onchange=\"CoqKernel.toggle_auto_roll_back(this)\" checked>\n",
       "      <label\">Auto rollback</label>\n",
       "    </div>\n",
       "</div>\n"
      ],
      "text/plain": []
     },
     "execution_count": 143,
     "metadata": {
      "coq_kernel_evaluated": true,
      "coq_kernel_execution_id": "7dc915e7-7329-4f1d-8619-9d29b3d6a330",
      "coq_kernel_rolled_back": false
     },
     "output_type": "execute_result"
    }
   ],
   "source": [
    "Example minustwotest:\n",
    "minustwo(S(S(S O))) = S O.\n",
    "Proof. simpl. reflexivity. Qed."
   ]
  },
  {
   "cell_type": "markdown",
   "id": "9e55d85c-5e4d-489c-af90-2af3df208030",
   "metadata": {},
   "source": [
    "Nous introduisons maintenant un autre concept essentiel, il s'agit du \"Fixpoint\", nous l'utiliserons pour faire des définitions récursives, qui sont très souvent utilisées en informatique. Regardons la parité d'un naturel comme défini précédémment, il est assez compliqué d'élaborer une situation facile utilisant des divisions, de l'arithmétique modulaire, ou autre, donc nous allons procéder ainsi : Si un nombre est nul, alors il est pair, si un nombre est l'unité (1 + 0), alors il est impair, sinon, nous testons sa parité sur le prédécesseur du prédécesseur de ce nombre, donc nous soustrairons 2 à ce nombre tant qu'il n'est pas 0 ou 1."
   ]
  },
  {
   "cell_type": "code",
   "execution_count": 143,
   "id": "f7bd6b1d-8784-4865-857a-c996930383d9",
   "metadata": {},
   "outputs": [
    {
     "data": {
      "text/html": [
       "\n",
       "<div class=\"coq_kernel_output_area\">\n",
       "    <pre></pre>\n",
       "</div>\n",
       "\n",
       "<div class=\"coq_kernel_rich_cell_output coq_kernel_status_message_area\" style=\"padding: 5px 0px;\">\n",
       "    <i class=\"fa-check fa text-success\"></i>\n",
       "    <span>Cell evaluated.</span>\n",
       "</div>\n",
       "\n",
       "<div class=\"coq_kernel_rich_cell_output coq_kernel_status_message_area coq_kernel_rolled_back_status_message\" style=\"padding: 5px 0px; display: none;\">\n",
       "    <i class=\"fa-exclamation-circle fa text-info\"></i>\n",
       "    <span>Cell rolled back.</span>\n",
       "</div>\n",
       "\n",
       "<div class=\"coq_kernel_rich_cell_output coq_kernel_roll_back_controls_area\" style=\"display: none; position: relative;\">\n",
       "    <button class=\"btn btn-default btn-xs coq_kernel_roll_back_button\" onclick=\"CoqKernel.roll_back(this)\">\n",
       "        <i class=\"fa-step-backward fa\"></i>\n",
       "        <span class=\"toolbar-btn-label\">Rollback cell</span>\n",
       "    </button>\n",
       "\n",
       "    <div style=\"display: inline-block; vertical-align: middle; padding-left: 0; padding-right: 0;\">\n",
       "      <input class=\"coq_kernel_auto_roll_back_checkbox\" type=\"checkbox\" value=\"\" onchange=\"CoqKernel.toggle_auto_roll_back(this)\" checked>\n",
       "      <label\">Auto rollback</label>\n",
       "    </div>\n",
       "</div>\n"
      ],
      "text/plain": []
     },
     "execution_count": 144,
     "metadata": {
      "coq_kernel_evaluated": true,
      "coq_kernel_execution_id": "685429aa-7df2-4b4f-ac16-248bc5cb558a",
      "coq_kernel_rolled_back": false
     },
     "output_type": "execute_result"
    }
   ],
   "source": [
    "Fixpoint pair(n:nat) : bool :=\n",
    "match n with\n",
    "| O => true\n",
    "| S O => false\n",
    "| S ( S n' ) => pair(n') \n",
    "end."
   ]
  },
  {
   "cell_type": "markdown",
   "id": "8564c706-61a6-4c02-8679-283295f06619",
   "metadata": {},
   "source": [
    "Et nous testons sur l'équivalent du nombre 3,"
   ]
  },
  {
   "cell_type": "code",
   "execution_count": 144,
   "id": "71019d10-4cee-412a-a8f3-5c0edc7ad1e5",
   "metadata": {},
   "outputs": [
    {
     "data": {
      "text/html": [
       "\n",
       "<div class=\"coq_kernel_output_area\">\n",
       "    <pre></pre>\n",
       "</div>\n",
       "\n",
       "<div class=\"coq_kernel_rich_cell_output coq_kernel_status_message_area\" style=\"padding: 5px 0px;\">\n",
       "    <i class=\"fa-check fa text-success\"></i>\n",
       "    <span>Cell evaluated.</span>\n",
       "</div>\n",
       "\n",
       "<div class=\"coq_kernel_rich_cell_output coq_kernel_status_message_area coq_kernel_rolled_back_status_message\" style=\"padding: 5px 0px; display: none;\">\n",
       "    <i class=\"fa-exclamation-circle fa text-info\"></i>\n",
       "    <span>Cell rolled back.</span>\n",
       "</div>\n",
       "\n",
       "<div class=\"coq_kernel_rich_cell_output coq_kernel_roll_back_controls_area\" style=\"display: none; position: relative;\">\n",
       "    <button class=\"btn btn-default btn-xs coq_kernel_roll_back_button\" onclick=\"CoqKernel.roll_back(this)\">\n",
       "        <i class=\"fa-step-backward fa\"></i>\n",
       "        <span class=\"toolbar-btn-label\">Rollback cell</span>\n",
       "    </button>\n",
       "\n",
       "    <div style=\"display: inline-block; vertical-align: middle; padding-left: 0; padding-right: 0;\">\n",
       "      <input class=\"coq_kernel_auto_roll_back_checkbox\" type=\"checkbox\" value=\"\" onchange=\"CoqKernel.toggle_auto_roll_back(this)\" checked>\n",
       "      <label\">Auto rollback</label>\n",
       "    </div>\n",
       "</div>\n"
      ],
      "text/plain": []
     },
     "execution_count": 149,
     "metadata": {
      "coq_kernel_evaluated": true,
      "coq_kernel_execution_id": "ea5aafd8-3fc2-4b76-93cf-d4bdfeeac2a2",
      "coq_kernel_rolled_back": false
     },
     "output_type": "execute_result"
    }
   ],
   "source": [
    "Example pairtest:\n",
    "pair(S(S(S O))) = false.\n",
    "Proof. simpl. reflexivity. Qed."
   ]
  },
  {
   "cell_type": "markdown",
   "id": "bdd66550-af10-4cd1-a26c-254ec9e553a2",
   "metadata": {},
   "source": [
    "ce qui était attendu."
   ]
  },
  {
   "cell_type": "markdown",
   "id": "be1cfa2a-1c6d-44dc-964c-c07d489942cb",
   "metadata": {},
   "source": [
    "Définissons trivialement le fait d'être impair et testons cela, "
   ]
  },
  {
   "cell_type": "code",
   "execution_count": 149,
   "id": "0a98d7c6-b357-4b39-a899-acc6f1ff5d0b",
   "metadata": {},
   "outputs": [
    {
     "data": {
      "text/html": [
       "\n",
       "<div class=\"coq_kernel_output_area\">\n",
       "    <pre></pre>\n",
       "</div>\n",
       "\n",
       "<div class=\"coq_kernel_rich_cell_output coq_kernel_status_message_area\" style=\"padding: 5px 0px;\">\n",
       "    <i class=\"fa-check fa text-success\"></i>\n",
       "    <span>Cell evaluated.</span>\n",
       "</div>\n",
       "\n",
       "<div class=\"coq_kernel_rich_cell_output coq_kernel_status_message_area coq_kernel_rolled_back_status_message\" style=\"padding: 5px 0px; display: none;\">\n",
       "    <i class=\"fa-exclamation-circle fa text-info\"></i>\n",
       "    <span>Cell rolled back.</span>\n",
       "</div>\n",
       "\n",
       "<div class=\"coq_kernel_rich_cell_output coq_kernel_roll_back_controls_area\" style=\"display: none; position: relative;\">\n",
       "    <button class=\"btn btn-default btn-xs coq_kernel_roll_back_button\" onclick=\"CoqKernel.roll_back(this)\">\n",
       "        <i class=\"fa-step-backward fa\"></i>\n",
       "        <span class=\"toolbar-btn-label\">Rollback cell</span>\n",
       "    </button>\n",
       "\n",
       "    <div style=\"display: inline-block; vertical-align: middle; padding-left: 0; padding-right: 0;\">\n",
       "      <input class=\"coq_kernel_auto_roll_back_checkbox\" type=\"checkbox\" value=\"\" onchange=\"CoqKernel.toggle_auto_roll_back(this)\" checked>\n",
       "      <label\">Auto rollback</label>\n",
       "    </div>\n",
       "</div>\n"
      ],
      "text/plain": []
     },
     "execution_count": 156,
     "metadata": {
      "coq_kernel_evaluated": true,
      "coq_kernel_execution_id": "6932c5f3-bf82-4fbd-aa39-43541738be9e",
      "coq_kernel_rolled_back": false
     },
     "output_type": "execute_result"
    }
   ],
   "source": [
    "Definition impair(n:nat) : bool :=\n",
    "negb(pair(n)).\n",
    "\n",
    "Example impairtest:\n",
    "impair(S(S(S O))) = negb(false).\n",
    "Proof. unfold impair. simpl. reflexivity. Qed."
   ]
  },
  {
   "cell_type": "markdown",
   "id": "c1cbd619-8b96-4278-8c00-8fa31d016083",
   "metadata": {},
   "source": [
    "Ici, il faut juste faire attention, étant donné que c'est une composition de fonction, il faut utiliser la commande unfold sur impair pour que cela marche, en effet, si la commande simpl. avait été favorisée, cela n'aurait pas marché (testez-le !). Sortons maintenant de ce module des naturels."
   ]
  },
  {
   "cell_type": "code",
   "execution_count": 156,
   "id": "40555144-2102-4928-8c61-07e2bd3d14ca",
   "metadata": {},
   "outputs": [
    {
     "data": {
      "text/html": [
       "\n",
       "<div class=\"coq_kernel_output_area\">\n",
       "    <pre></pre>\n",
       "</div>\n",
       "\n",
       "<div class=\"coq_kernel_rich_cell_output coq_kernel_status_message_area\" style=\"padding: 5px 0px;\">\n",
       "    <i class=\"fa-check fa text-success\"></i>\n",
       "    <span>Cell evaluated.</span>\n",
       "</div>\n",
       "\n",
       "<div class=\"coq_kernel_rich_cell_output coq_kernel_status_message_area coq_kernel_rolled_back_status_message\" style=\"padding: 5px 0px; display: none;\">\n",
       "    <i class=\"fa-exclamation-circle fa text-info\"></i>\n",
       "    <span>Cell rolled back.</span>\n",
       "</div>\n",
       "\n",
       "<div class=\"coq_kernel_rich_cell_output coq_kernel_roll_back_controls_area\" style=\"display: none; position: relative;\">\n",
       "    <button class=\"btn btn-default btn-xs coq_kernel_roll_back_button\" onclick=\"CoqKernel.roll_back(this)\">\n",
       "        <i class=\"fa-step-backward fa\"></i>\n",
       "        <span class=\"toolbar-btn-label\">Rollback cell</span>\n",
       "    </button>\n",
       "\n",
       "    <div style=\"display: inline-block; vertical-align: middle; padding-left: 0; padding-right: 0;\">\n",
       "      <input class=\"coq_kernel_auto_roll_back_checkbox\" type=\"checkbox\" value=\"\" onchange=\"CoqKernel.toggle_auto_roll_back(this)\" checked>\n",
       "      <label\">Auto rollback</label>\n",
       "    </div>\n",
       "</div>\n"
      ],
      "text/plain": []
     },
     "execution_count": 157,
     "metadata": {
      "coq_kernel_evaluated": true,
      "coq_kernel_execution_id": "0f33cf9b-4751-42a9-b60e-1a48b1cdb977",
      "coq_kernel_rolled_back": false
     },
     "output_type": "execute_result"
    }
   ],
   "source": [
    "End naturels."
   ]
  },
  {
   "cell_type": "code",
   "execution_count": 157,
   "id": "b749e04a-d68f-45ad-ad13-172a7aa06a05",
   "metadata": {},
   "outputs": [
    {
     "data": {
      "text/html": [
       "\n",
       "<div class=\"coq_kernel_output_area\">\n",
       "    <pre>4\n",
       "     : nat</pre>\n",
       "</div>\n",
       "\n",
       "<div class=\"coq_kernel_rich_cell_output coq_kernel_status_message_area\" style=\"padding: 5px 0px;\">\n",
       "    <i class=\"fa-check fa text-success\"></i>\n",
       "    <span>Cell evaluated.</span>\n",
       "</div>\n",
       "\n",
       "<div class=\"coq_kernel_rich_cell_output coq_kernel_status_message_area coq_kernel_rolled_back_status_message\" style=\"padding: 5px 0px; display: none;\">\n",
       "    <i class=\"fa-exclamation-circle fa text-info\"></i>\n",
       "    <span>Cell rolled back.</span>\n",
       "</div>\n",
       "\n",
       "<div class=\"coq_kernel_rich_cell_output coq_kernel_roll_back_controls_area\" style=\"display: none; position: relative;\">\n",
       "    <button class=\"btn btn-default btn-xs coq_kernel_roll_back_button\" onclick=\"CoqKernel.roll_back(this)\">\n",
       "        <i class=\"fa-step-backward fa\"></i>\n",
       "        <span class=\"toolbar-btn-label\">Rollback cell</span>\n",
       "    </button>\n",
       "\n",
       "    <div style=\"display: inline-block; vertical-align: middle; padding-left: 0; padding-right: 0;\">\n",
       "      <input class=\"coq_kernel_auto_roll_back_checkbox\" type=\"checkbox\" value=\"\" onchange=\"CoqKernel.toggle_auto_roll_back(this)\" checked>\n",
       "      <label\">Auto rollback</label>\n",
       "    </div>\n",
       "</div>\n"
      ],
      "text/plain": [
       "4\n",
       "     : nat"
      ]
     },
     "execution_count": 158,
     "metadata": {
      "coq_kernel_evaluated": true,
      "coq_kernel_execution_id": "c16ed254-b5cd-4560-aa09-8f51329efe68",
      "coq_kernel_rolled_back": false
     },
     "output_type": "execute_result"
    }
   ],
   "source": [
    "Check S(S(S(S O)))."
   ]
  },
  {
   "cell_type": "markdown",
   "id": "9796d1da-83c2-4b85-b7f0-c4138a09d80c",
   "metadata": {},
   "source": [
    "Nous remarquons que le type naturel est toujours bien défini même en dehors du module naturels. Profitons de l'implémentation de base des naturels, qui a aussi le nom nat, bien qu'elle ne rentre pas en conflit avec la nôtre,"
   ]
  },
  {
   "cell_type": "code",
   "execution_count": 158,
   "id": "181456b7-1a67-4507-b8ef-b406e5a3e29b",
   "metadata": {},
   "outputs": [
    {
     "data": {
      "text/html": [
       "\n",
       "<div class=\"coq_kernel_output_area\">\n",
       "    <pre></pre>\n",
       "</div>\n",
       "\n",
       "<div class=\"coq_kernel_rich_cell_output coq_kernel_status_message_area\" style=\"padding: 5px 0px;\">\n",
       "    <i class=\"fa-check fa text-success\"></i>\n",
       "    <span>Cell evaluated.</span>\n",
       "</div>\n",
       "\n",
       "<div class=\"coq_kernel_rich_cell_output coq_kernel_status_message_area coq_kernel_rolled_back_status_message\" style=\"padding: 5px 0px; display: none;\">\n",
       "    <i class=\"fa-exclamation-circle fa text-info\"></i>\n",
       "    <span>Cell rolled back.</span>\n",
       "</div>\n",
       "\n",
       "<div class=\"coq_kernel_rich_cell_output coq_kernel_roll_back_controls_area\" style=\"display: none; position: relative;\">\n",
       "    <button class=\"btn btn-default btn-xs coq_kernel_roll_back_button\" onclick=\"CoqKernel.roll_back(this)\">\n",
       "        <i class=\"fa-step-backward fa\"></i>\n",
       "        <span class=\"toolbar-btn-label\">Rollback cell</span>\n",
       "    </button>\n",
       "\n",
       "    <div style=\"display: inline-block; vertical-align: middle; padding-left: 0; padding-right: 0;\">\n",
       "      <input class=\"coq_kernel_auto_roll_back_checkbox\" type=\"checkbox\" value=\"\" onchange=\"CoqKernel.toggle_auto_roll_back(this)\" checked>\n",
       "      <label\">Auto rollback</label>\n",
       "    </div>\n",
       "</div>\n"
      ],
      "text/plain": []
     },
     "execution_count": 160,
     "metadata": {
      "coq_kernel_evaluated": true,
      "coq_kernel_execution_id": "f4f3c6fa-742e-4525-91cd-bb6c1327831b",
      "coq_kernel_rolled_back": false
     },
     "output_type": "execute_result"
    }
   ],
   "source": [
    "Fixpoint pair(n:nat) : bool :=\n",
    "match n with\n",
    "| O => true\n",
    "| S O => false\n",
    "| S ( S n' ) => pair(n') \n",
    "end.\n",
    "\n",
    "Definition impair(n:nat) : bool :=\n",
    "negb(pair(n))."
   ]
  },
  {
   "cell_type": "code",
   "execution_count": 160,
   "id": "772584fc-c823-4ddf-9d9d-c931a32c6f30",
   "metadata": {},
   "outputs": [
    {
     "data": {
      "text/html": [
       "\n",
       "<div class=\"coq_kernel_output_area\">\n",
       "    <pre>56\n",
       "     : nat</pre>\n",
       "</div>\n",
       "\n",
       "<div class=\"coq_kernel_rich_cell_output coq_kernel_status_message_area\" style=\"padding: 5px 0px;\">\n",
       "    <i class=\"fa-check fa text-success\"></i>\n",
       "    <span>Cell evaluated.</span>\n",
       "</div>\n",
       "\n",
       "<div class=\"coq_kernel_rich_cell_output coq_kernel_status_message_area coq_kernel_rolled_back_status_message\" style=\"padding: 5px 0px; display: none;\">\n",
       "    <i class=\"fa-exclamation-circle fa text-info\"></i>\n",
       "    <span>Cell rolled back.</span>\n",
       "</div>\n",
       "\n",
       "<div class=\"coq_kernel_rich_cell_output coq_kernel_roll_back_controls_area\" style=\"display: none; position: relative;\">\n",
       "    <button class=\"btn btn-default btn-xs coq_kernel_roll_back_button\" onclick=\"CoqKernel.roll_back(this)\">\n",
       "        <i class=\"fa-step-backward fa\"></i>\n",
       "        <span class=\"toolbar-btn-label\">Rollback cell</span>\n",
       "    </button>\n",
       "\n",
       "    <div style=\"display: inline-block; vertical-align: middle; padding-left: 0; padding-right: 0;\">\n",
       "      <input class=\"coq_kernel_auto_roll_back_checkbox\" type=\"checkbox\" value=\"\" onchange=\"CoqKernel.toggle_auto_roll_back(this)\" checked>\n",
       "      <label\">Auto rollback</label>\n",
       "    </div>\n",
       "</div>\n"
      ],
      "text/plain": [
       "56\n",
       "     : nat"
      ]
     },
     "execution_count": 161,
     "metadata": {
      "coq_kernel_evaluated": true,
      "coq_kernel_execution_id": "16cef27b-4e58-4114-8e1e-cac8e49a873a",
      "coq_kernel_rolled_back": false
     },
     "output_type": "execute_result"
    }
   ],
   "source": [
    "Check 56."
   ]
  },
  {
   "cell_type": "code",
   "execution_count": 161,
   "id": "e9151ab5-fb56-43ad-b972-389daa72d728",
   "metadata": {},
   "outputs": [
    {
     "data": {
      "text/html": [
       "\n",
       "<div class=\"coq_kernel_output_area\">\n",
       "    <pre></pre>\n",
       "</div>\n",
       "\n",
       "<div class=\"coq_kernel_rich_cell_output coq_kernel_status_message_area\" style=\"padding: 5px 0px;\">\n",
       "    <i class=\"fa-check fa text-success\"></i>\n",
       "    <span>Cell evaluated.</span>\n",
       "</div>\n",
       "\n",
       "<div class=\"coq_kernel_rich_cell_output coq_kernel_status_message_area coq_kernel_rolled_back_status_message\" style=\"padding: 5px 0px; display: none;\">\n",
       "    <i class=\"fa-exclamation-circle fa text-info\"></i>\n",
       "    <span>Cell rolled back.</span>\n",
       "</div>\n",
       "\n",
       "<div class=\"coq_kernel_rich_cell_output coq_kernel_roll_back_controls_area\" style=\"display: none; position: relative;\">\n",
       "    <button class=\"btn btn-default btn-xs coq_kernel_roll_back_button\" onclick=\"CoqKernel.roll_back(this)\">\n",
       "        <i class=\"fa-step-backward fa\"></i>\n",
       "        <span class=\"toolbar-btn-label\">Rollback cell</span>\n",
       "    </button>\n",
       "\n",
       "    <div style=\"display: inline-block; vertical-align: middle; padding-left: 0; padding-right: 0;\">\n",
       "      <input class=\"coq_kernel_auto_roll_back_checkbox\" type=\"checkbox\" value=\"\" onchange=\"CoqKernel.toggle_auto_roll_back(this)\" checked>\n",
       "      <label\">Auto rollback</label>\n",
       "    </div>\n",
       "</div>\n"
      ],
      "text/plain": []
     },
     "execution_count": 167,
     "metadata": {
      "coq_kernel_evaluated": true,
      "coq_kernel_execution_id": "7c3c5cdc-7a47-4f39-81ff-ccb3dd5017e4",
      "coq_kernel_rolled_back": false
     },
     "output_type": "execute_result"
    }
   ],
   "source": [
    "Example impair56:\n",
    "impair 56 = negb(true).\n",
    "Proof. unfold impair. simpl. reflexivity. Qed."
   ]
  },
  {
   "cell_type": "markdown",
   "id": "8020bc1a-1871-465d-aaa7-dc236346d55d",
   "metadata": {},
   "source": [
    "et nous prouvons que 56 n'est impair, au lieu de le montrer pour S de S de S de ... de O."
   ]
  },
  {
   "cell_type": "markdown",
   "id": "3676c539-75f1-4bda-86e6-48a8fcbd657b",
   "metadata": {},
   "source": [
    "***\n",
    "# Opérations standards sur les naturels"
   ]
  },
  {
   "cell_type": "markdown",
   "id": "2eaed8bb-f376-44aa-a90f-1bc9720b4bb9",
   "metadata": {},
   "source": [
    "Créons un module afin de ne pas empiéter sur les implémentations des opérations de Coq."
   ]
  },
  {
   "cell_type": "code",
   "execution_count": 167,
   "id": "689908cd-5ef5-47bb-a07d-6ed4fee84b2d",
   "metadata": {},
   "outputs": [
    {
     "data": {
      "text/html": [
       "\n",
       "<div class=\"coq_kernel_output_area\">\n",
       "    <pre></pre>\n",
       "</div>\n",
       "\n",
       "<div class=\"coq_kernel_rich_cell_output coq_kernel_status_message_area\" style=\"padding: 5px 0px;\">\n",
       "    <i class=\"fa-check fa text-success\"></i>\n",
       "    <span>Cell evaluated.</span>\n",
       "</div>\n",
       "\n",
       "<div class=\"coq_kernel_rich_cell_output coq_kernel_status_message_area coq_kernel_rolled_back_status_message\" style=\"padding: 5px 0px; display: none;\">\n",
       "    <i class=\"fa-exclamation-circle fa text-info\"></i>\n",
       "    <span>Cell rolled back.</span>\n",
       "</div>\n",
       "\n",
       "<div class=\"coq_kernel_rich_cell_output coq_kernel_roll_back_controls_area\" style=\"display: none; position: relative;\">\n",
       "    <button class=\"btn btn-default btn-xs coq_kernel_roll_back_button\" onclick=\"CoqKernel.roll_back(this)\">\n",
       "        <i class=\"fa-step-backward fa\"></i>\n",
       "        <span class=\"toolbar-btn-label\">Rollback cell</span>\n",
       "    </button>\n",
       "\n",
       "    <div style=\"display: inline-block; vertical-align: middle; padding-left: 0; padding-right: 0;\">\n",
       "      <input class=\"coq_kernel_auto_roll_back_checkbox\" type=\"checkbox\" value=\"\" onchange=\"CoqKernel.toggle_auto_roll_back(this)\" checked>\n",
       "      <label\">Auto rollback</label>\n",
       "    </div>\n",
       "</div>\n"
      ],
      "text/plain": []
     },
     "execution_count": 168,
     "metadata": {
      "coq_kernel_evaluated": true,
      "coq_kernel_execution_id": "1ce77975-efda-475c-a6c2-ff3ff52faccf",
      "coq_kernel_rolled_back": false
     },
     "output_type": "execute_result"
    }
   ],
   "source": [
    "Module NatOp."
   ]
  },
  {
   "cell_type": "markdown",
   "id": "168f0cd7-3948-4ab8-81af-f07965b290dc",
   "metadata": {},
   "source": [
    "Nous allons tenter de définir l'addition entre deux naturels de façon récursive. Pour cela, prenons deux naturels n et m, si nous souhaitons les additionner, alors une manière de voir cette opération est d'associer n à l'addition si m est nul et inversement. Dans le cas où n et m sont non-nuls, alors une manière de procéder serait de voir l'addition n $\\oplus$ m comme 1 + ( (n-1) $\\oplus$ m ) où le + représente juste un incrément standard, et le $\\oplus$ représente notre opération de somme, nous itérons n fois ce processus afin qu'on tombe sur le cas de base, c'est-à-dire qu'un des deux termes de la somme $\\oplus$ soit nul. Utilisons le \"Fixpoint\" étant donné que nous faisons face à une récursion."
   ]
  },
  {
   "cell_type": "code",
   "execution_count": 168,
   "id": "a0b6e248-b01a-4bb3-a23f-b47f78616ee9",
   "metadata": {},
   "outputs": [
    {
     "data": {
      "text/html": [
       "\n",
       "<div class=\"coq_kernel_output_area\">\n",
       "    <pre></pre>\n",
       "</div>\n",
       "\n",
       "<div class=\"coq_kernel_rich_cell_output coq_kernel_status_message_area\" style=\"padding: 5px 0px;\">\n",
       "    <i class=\"fa-check fa text-success\"></i>\n",
       "    <span>Cell evaluated.</span>\n",
       "</div>\n",
       "\n",
       "<div class=\"coq_kernel_rich_cell_output coq_kernel_status_message_area coq_kernel_rolled_back_status_message\" style=\"padding: 5px 0px; display: none;\">\n",
       "    <i class=\"fa-exclamation-circle fa text-info\"></i>\n",
       "    <span>Cell rolled back.</span>\n",
       "</div>\n",
       "\n",
       "<div class=\"coq_kernel_rich_cell_output coq_kernel_roll_back_controls_area\" style=\"display: none; position: relative;\">\n",
       "    <button class=\"btn btn-default btn-xs coq_kernel_roll_back_button\" onclick=\"CoqKernel.roll_back(this)\">\n",
       "        <i class=\"fa-step-backward fa\"></i>\n",
       "        <span class=\"toolbar-btn-label\">Rollback cell</span>\n",
       "    </button>\n",
       "\n",
       "    <div style=\"display: inline-block; vertical-align: middle; padding-left: 0; padding-right: 0;\">\n",
       "      <input class=\"coq_kernel_auto_roll_back_checkbox\" type=\"checkbox\" value=\"\" onchange=\"CoqKernel.toggle_auto_roll_back(this)\" checked>\n",
       "      <label\">Auto rollback</label>\n",
       "    </div>\n",
       "</div>\n"
      ],
      "text/plain": []
     },
     "execution_count": 169,
     "metadata": {
      "coq_kernel_evaluated": true,
      "coq_kernel_execution_id": "27793fe0-dea8-4f9a-9588-6c3038ed211d",
      "coq_kernel_rolled_back": false
     },
     "output_type": "execute_result"
    }
   ],
   "source": [
    "Fixpoint plus (n m :nat) : nat :=\n",
    "match n with\n",
    "| O => m\n",
    "| S ( n' ) => S(plus n' m) \n",
    "end."
   ]
  },
  {
   "cell_type": "code",
   "execution_count": 169,
   "id": "99fc7dae-206a-4fd1-b50f-41d3e30e8062",
   "metadata": {},
   "outputs": [
    {
     "data": {
      "text/html": [
       "\n",
       "<div class=\"coq_kernel_output_area\">\n",
       "    <pre></pre>\n",
       "</div>\n",
       "\n",
       "<div class=\"coq_kernel_rich_cell_output coq_kernel_status_message_area\" style=\"padding: 5px 0px;\">\n",
       "    <i class=\"fa-check fa text-success\"></i>\n",
       "    <span>Cell evaluated.</span>\n",
       "</div>\n",
       "\n",
       "<div class=\"coq_kernel_rich_cell_output coq_kernel_status_message_area coq_kernel_rolled_back_status_message\" style=\"padding: 5px 0px; display: none;\">\n",
       "    <i class=\"fa-exclamation-circle fa text-info\"></i>\n",
       "    <span>Cell rolled back.</span>\n",
       "</div>\n",
       "\n",
       "<div class=\"coq_kernel_rich_cell_output coq_kernel_roll_back_controls_area\" style=\"display: none; position: relative;\">\n",
       "    <button class=\"btn btn-default btn-xs coq_kernel_roll_back_button\" onclick=\"CoqKernel.roll_back(this)\">\n",
       "        <i class=\"fa-step-backward fa\"></i>\n",
       "        <span class=\"toolbar-btn-label\">Rollback cell</span>\n",
       "    </button>\n",
       "\n",
       "    <div style=\"display: inline-block; vertical-align: middle; padding-left: 0; padding-right: 0;\">\n",
       "      <input class=\"coq_kernel_auto_roll_back_checkbox\" type=\"checkbox\" value=\"\" onchange=\"CoqKernel.toggle_auto_roll_back(this)\" checked>\n",
       "      <label\">Auto rollback</label>\n",
       "    </div>\n",
       "</div>\n"
      ],
      "text/plain": []
     },
     "execution_count": 174,
     "metadata": {
      "coq_kernel_evaluated": true,
      "coq_kernel_execution_id": "43486825-fb62-4d05-adc5-54ac1f2ab192",
      "coq_kernel_rolled_back": false
     },
     "output_type": "execute_result"
    }
   ],
   "source": [
    "Example plus47:\n",
    "plus 23 24 = 47.\n",
    "Proof. simpl. reflexivity. Qed."
   ]
  },
  {
   "cell_type": "code",
   "execution_count": 174,
   "id": "cdd286d8-1569-471c-9ca5-f82a137841bf",
   "metadata": {},
   "outputs": [
    {
     "data": {
      "text/html": [
       "\n",
       "<div class=\"coq_kernel_output_area\">\n",
       "    <pre></pre>\n",
       "</div>\n",
       "\n",
       "<div class=\"coq_kernel_rich_cell_output coq_kernel_status_message_area\" style=\"padding: 5px 0px;\">\n",
       "    <i class=\"fa-check fa text-success\"></i>\n",
       "    <span>Cell evaluated.</span>\n",
       "</div>\n",
       "\n",
       "<div class=\"coq_kernel_rich_cell_output coq_kernel_status_message_area coq_kernel_rolled_back_status_message\" style=\"padding: 5px 0px; display: none;\">\n",
       "    <i class=\"fa-exclamation-circle fa text-info\"></i>\n",
       "    <span>Cell rolled back.</span>\n",
       "</div>\n",
       "\n",
       "<div class=\"coq_kernel_rich_cell_output coq_kernel_roll_back_controls_area\" style=\"display: none; position: relative;\">\n",
       "    <button class=\"btn btn-default btn-xs coq_kernel_roll_back_button\" onclick=\"CoqKernel.roll_back(this)\">\n",
       "        <i class=\"fa-step-backward fa\"></i>\n",
       "        <span class=\"toolbar-btn-label\">Rollback cell</span>\n",
       "    </button>\n",
       "\n",
       "    <div style=\"display: inline-block; vertical-align: middle; padding-left: 0; padding-right: 0;\">\n",
       "      <input class=\"coq_kernel_auto_roll_back_checkbox\" type=\"checkbox\" value=\"\" onchange=\"CoqKernel.toggle_auto_roll_back(this)\" checked>\n",
       "      <label\">Auto rollback</label>\n",
       "    </div>\n",
       "</div>\n"
      ],
      "text/plain": []
     },
     "execution_count": 179,
     "metadata": {
      "coq_kernel_evaluated": true,
      "coq_kernel_execution_id": "5298eee4-b902-428e-9ae3-77ec2a43d32b",
      "coq_kernel_rolled_back": false
     },
     "output_type": "execute_result"
    }
   ],
   "source": [
    "Example plusTestAlt:\n",
    "plus (S(S(S(S O)))) (S O) = 5.\n",
    "Proof. simpl. reflexivity. Qed."
   ]
  },
  {
   "cell_type": "markdown",
   "id": "457a516d-4195-4206-871c-ea1116f0a2d0",
   "metadata": {},
   "source": [
    "Nous pouvons apercevoir une forte flexibilité sur le passage de la forme des naturels en \"S O\" aux nombres classiques."
   ]
  },
  {
   "cell_type": "markdown",
   "id": "ed4a69e8-fa79-4494-a330-7a7b8281ac36",
   "metadata": {},
   "source": [
    "Définissons maintenant l'opération $\\otimes$, qui sera notre opération de multiplication. La multiplication entre deux naturels n et m, $n \\otimes m$ peut se voir comme succession de notre opération de somme $\\oplus$, donc nous avons $n \\otimes m = n \\oplus ( (n-1) \\otimes m ) $ que nous répéterons n fois, afin qu'un facteur de la multiplication soit nul."
   ]
  },
  {
   "cell_type": "code",
   "execution_count": 179,
   "id": "36e3c2f5-312b-4937-9586-d0114c06b117",
   "metadata": {},
   "outputs": [
    {
     "data": {
      "text/html": [
       "\n",
       "<div class=\"coq_kernel_output_area\">\n",
       "    <pre></pre>\n",
       "</div>\n",
       "\n",
       "<div class=\"coq_kernel_rich_cell_output coq_kernel_status_message_area\" style=\"padding: 5px 0px;\">\n",
       "    <i class=\"fa-check fa text-success\"></i>\n",
       "    <span>Cell evaluated.</span>\n",
       "</div>\n",
       "\n",
       "<div class=\"coq_kernel_rich_cell_output coq_kernel_status_message_area coq_kernel_rolled_back_status_message\" style=\"padding: 5px 0px; display: none;\">\n",
       "    <i class=\"fa-exclamation-circle fa text-info\"></i>\n",
       "    <span>Cell rolled back.</span>\n",
       "</div>\n",
       "\n",
       "<div class=\"coq_kernel_rich_cell_output coq_kernel_roll_back_controls_area\" style=\"display: none; position: relative;\">\n",
       "    <button class=\"btn btn-default btn-xs coq_kernel_roll_back_button\" onclick=\"CoqKernel.roll_back(this)\">\n",
       "        <i class=\"fa-step-backward fa\"></i>\n",
       "        <span class=\"toolbar-btn-label\">Rollback cell</span>\n",
       "    </button>\n",
       "\n",
       "    <div style=\"display: inline-block; vertical-align: middle; padding-left: 0; padding-right: 0;\">\n",
       "      <input class=\"coq_kernel_auto_roll_back_checkbox\" type=\"checkbox\" value=\"\" onchange=\"CoqKernel.toggle_auto_roll_back(this)\" checked>\n",
       "      <label\">Auto rollback</label>\n",
       "    </div>\n",
       "</div>\n"
      ],
      "text/plain": []
     },
     "execution_count": 180,
     "metadata": {
      "coq_kernel_evaluated": true,
      "coq_kernel_execution_id": "1e436e26-9082-4be6-9b50-3ddbfb63d807",
      "coq_kernel_rolled_back": false
     },
     "output_type": "execute_result"
    }
   ],
   "source": [
    "Fixpoint fois (n m : nat): nat := \n",
    "match n with \n",
    "| O => O\n",
    "| S n' => plus m (fois n' m)\n",
    "end."
   ]
  },
  {
   "cell_type": "code",
   "execution_count": 180,
   "id": "cecd870c-0d3d-4201-a639-1936ec5dc111",
   "metadata": {},
   "outputs": [
    {
     "data": {
      "text/html": [
       "\n",
       "<div class=\"coq_kernel_output_area\">\n",
       "    <pre></pre>\n",
       "</div>\n",
       "\n",
       "<div class=\"coq_kernel_rich_cell_output coq_kernel_status_message_area\" style=\"padding: 5px 0px;\">\n",
       "    <i class=\"fa-check fa text-success\"></i>\n",
       "    <span>Cell evaluated.</span>\n",
       "</div>\n",
       "\n",
       "<div class=\"coq_kernel_rich_cell_output coq_kernel_status_message_area coq_kernel_rolled_back_status_message\" style=\"padding: 5px 0px; display: none;\">\n",
       "    <i class=\"fa-exclamation-circle fa text-info\"></i>\n",
       "    <span>Cell rolled back.</span>\n",
       "</div>\n",
       "\n",
       "<div class=\"coq_kernel_rich_cell_output coq_kernel_roll_back_controls_area\" style=\"display: none; position: relative;\">\n",
       "    <button class=\"btn btn-default btn-xs coq_kernel_roll_back_button\" onclick=\"CoqKernel.roll_back(this)\">\n",
       "        <i class=\"fa-step-backward fa\"></i>\n",
       "        <span class=\"toolbar-btn-label\">Rollback cell</span>\n",
       "    </button>\n",
       "\n",
       "    <div style=\"display: inline-block; vertical-align: middle; padding-left: 0; padding-right: 0;\">\n",
       "      <input class=\"coq_kernel_auto_roll_back_checkbox\" type=\"checkbox\" value=\"\" onchange=\"CoqKernel.toggle_auto_roll_back(this)\" checked>\n",
       "      <label\">Auto rollback</label>\n",
       "    </div>\n",
       "</div>\n"
      ],
      "text/plain": []
     },
     "execution_count": 185,
     "metadata": {
      "coq_kernel_evaluated": true,
      "coq_kernel_execution_id": "108e7a1d-e576-4c1c-b590-cd5f49801faa",
      "coq_kernel_rolled_back": false
     },
     "output_type": "execute_result"
    }
   ],
   "source": [
    "Example fois28:\n",
    "fois 2 (fois 2 7) = 28.\n",
    "Proof. simpl. reflexivity. Qed."
   ]
  },
  {
   "cell_type": "markdown",
   "id": "cce3259f-d0d7-48de-9846-b7946c750971",
   "metadata": {},
   "source": [
    "Procédons d'une manière analogue pour la soustraction, $\\ominus$, voyons l'opération $n \\ominus m$ comme la soustraction $\\ominus$ de $n-1$ et $m-1$, en effet, nous avons que $n \\ominus m = 1 + (n-1) \\ominus (m-1) + 1 = (n-1) \\ominus (m-1)$. Il faut juste faire attention au cas où $m$ est strictement supérieur à $n$ car il faut que notre résultat reste un naturel, dans ce cas, nous itérons sur les deux termes de la soustraction, et lorsque $n$ est nul, vu que $m$ est strictement supérieur à $n$, nous n'associerons pas un résultat négatif mais bien le nul. "
   ]
  },
  {
   "cell_type": "code",
   "execution_count": 185,
   "id": "4f0da060-412c-4884-b305-f0cdcd27eb2d",
   "metadata": {},
   "outputs": [
    {
     "data": {
      "text/html": [
       "\n",
       "<div class=\"coq_kernel_output_area\">\n",
       "    <pre></pre>\n",
       "</div>\n",
       "\n",
       "<div class=\"coq_kernel_rich_cell_output coq_kernel_status_message_area\" style=\"padding: 5px 0px;\">\n",
       "    <i class=\"fa-check fa text-success\"></i>\n",
       "    <span>Cell evaluated.</span>\n",
       "</div>\n",
       "\n",
       "<div class=\"coq_kernel_rich_cell_output coq_kernel_status_message_area coq_kernel_rolled_back_status_message\" style=\"padding: 5px 0px; display: none;\">\n",
       "    <i class=\"fa-exclamation-circle fa text-info\"></i>\n",
       "    <span>Cell rolled back.</span>\n",
       "</div>\n",
       "\n",
       "<div class=\"coq_kernel_rich_cell_output coq_kernel_roll_back_controls_area\" style=\"display: none; position: relative;\">\n",
       "    <button class=\"btn btn-default btn-xs coq_kernel_roll_back_button\" onclick=\"CoqKernel.roll_back(this)\">\n",
       "        <i class=\"fa-step-backward fa\"></i>\n",
       "        <span class=\"toolbar-btn-label\">Rollback cell</span>\n",
       "    </button>\n",
       "\n",
       "    <div style=\"display: inline-block; vertical-align: middle; padding-left: 0; padding-right: 0;\">\n",
       "      <input class=\"coq_kernel_auto_roll_back_checkbox\" type=\"checkbox\" value=\"\" onchange=\"CoqKernel.toggle_auto_roll_back(this)\" checked>\n",
       "      <label\">Auto rollback</label>\n",
       "    </div>\n",
       "</div>\n"
      ],
      "text/plain": []
     },
     "execution_count": 186,
     "metadata": {
      "coq_kernel_evaluated": true,
      "coq_kernel_execution_id": "7b2ecc0c-cef6-423c-9669-a20a0f1d134e",
      "coq_kernel_rolled_back": false
     },
     "output_type": "execute_result"
    }
   ],
   "source": [
    "Fixpoint neg (n m : nat) : nat :=\n",
    "match n,m with\n",
    "| O , _ => O\n",
    "| _, O => n\n",
    "| S n', S m' => neg n' m'\n",
    "end."
   ]
  },
  {
   "cell_type": "code",
   "execution_count": 186,
   "id": "d843ddfd-1180-4a6c-88fa-4ba6007327b9",
   "metadata": {},
   "outputs": [
    {
     "data": {
      "text/html": [
       "\n",
       "<div class=\"coq_kernel_output_area\">\n",
       "    <pre></pre>\n",
       "</div>\n",
       "\n",
       "<div class=\"coq_kernel_rich_cell_output coq_kernel_status_message_area\" style=\"padding: 5px 0px;\">\n",
       "    <i class=\"fa-check fa text-success\"></i>\n",
       "    <span>Cell evaluated.</span>\n",
       "</div>\n",
       "\n",
       "<div class=\"coq_kernel_rich_cell_output coq_kernel_status_message_area coq_kernel_rolled_back_status_message\" style=\"padding: 5px 0px; display: none;\">\n",
       "    <i class=\"fa-exclamation-circle fa text-info\"></i>\n",
       "    <span>Cell rolled back.</span>\n",
       "</div>\n",
       "\n",
       "<div class=\"coq_kernel_rich_cell_output coq_kernel_roll_back_controls_area\" style=\"display: none; position: relative;\">\n",
       "    <button class=\"btn btn-default btn-xs coq_kernel_roll_back_button\" onclick=\"CoqKernel.roll_back(this)\">\n",
       "        <i class=\"fa-step-backward fa\"></i>\n",
       "        <span class=\"toolbar-btn-label\">Rollback cell</span>\n",
       "    </button>\n",
       "\n",
       "    <div style=\"display: inline-block; vertical-align: middle; padding-left: 0; padding-right: 0;\">\n",
       "      <input class=\"coq_kernel_auto_roll_back_checkbox\" type=\"checkbox\" value=\"\" onchange=\"CoqKernel.toggle_auto_roll_back(this)\" checked>\n",
       "      <label\">Auto rollback</label>\n",
       "    </div>\n",
       "</div>\n"
      ],
      "text/plain": []
     },
     "execution_count": 196,
     "metadata": {
      "coq_kernel_evaluated": true,
      "coq_kernel_execution_id": "4a530480-58ca-4eb5-a2cb-c0844aed2cc8",
      "coq_kernel_rolled_back": false
     },
     "output_type": "execute_result"
    }
   ],
   "source": [
    "Example negSupérieurM:\n",
    "neg 3 4 = 0.\n",
    "Proof. simpl. reflexivity. Qed.\n",
    "Example neg23:\n",
    "neg 47 24 = 23.\n",
    "Proof. simpl. reflexivity. Qed."
   ]
  },
  {
   "cell_type": "markdown",
   "id": "d42bde75-a305-451d-b408-dc2e6ecff6b4",
   "metadata": {},
   "source": [
    "Définissons également l'exponentiation, $\\uparrow$, l'opération $n \\uparrow m$, où $n$ est la base et $m$ est la puissance, se comporte comme la multiplication et l'addition, sauf qu'ici nous manipulerons la multiplication pour la récurrence. Tout d'abord, il faut préciser que pour tout $n$ entier naturel, $n \\uparrow 0$ = 1, tant que la convention $0^0 = 1$ est adoptée. Pour les autres cas, il suffit de voir que $n \\uparrow m = n \\otimes (n \\uparrow (m-1) )$."
   ]
  },
  {
   "cell_type": "code",
   "execution_count": 196,
   "id": "6a054f10-38f3-43ac-9434-eb2c1bd2fe78",
   "metadata": {},
   "outputs": [
    {
     "data": {
      "text/html": [
       "\n",
       "<div class=\"coq_kernel_output_area\">\n",
       "    <pre></pre>\n",
       "</div>\n",
       "\n",
       "<div class=\"coq_kernel_rich_cell_output coq_kernel_status_message_area\" style=\"padding: 5px 0px;\">\n",
       "    <i class=\"fa-check fa text-success\"></i>\n",
       "    <span>Cell evaluated.</span>\n",
       "</div>\n",
       "\n",
       "<div class=\"coq_kernel_rich_cell_output coq_kernel_status_message_area coq_kernel_rolled_back_status_message\" style=\"padding: 5px 0px; display: none;\">\n",
       "    <i class=\"fa-exclamation-circle fa text-info\"></i>\n",
       "    <span>Cell rolled back.</span>\n",
       "</div>\n",
       "\n",
       "<div class=\"coq_kernel_rich_cell_output coq_kernel_roll_back_controls_area\" style=\"display: none; position: relative;\">\n",
       "    <button class=\"btn btn-default btn-xs coq_kernel_roll_back_button\" onclick=\"CoqKernel.roll_back(this)\">\n",
       "        <i class=\"fa-step-backward fa\"></i>\n",
       "        <span class=\"toolbar-btn-label\">Rollback cell</span>\n",
       "    </button>\n",
       "\n",
       "    <div style=\"display: inline-block; vertical-align: middle; padding-left: 0; padding-right: 0;\">\n",
       "      <input class=\"coq_kernel_auto_roll_back_checkbox\" type=\"checkbox\" value=\"\" onchange=\"CoqKernel.toggle_auto_roll_back(this)\" checked>\n",
       "      <label\">Auto rollback</label>\n",
       "    </div>\n",
       "</div>\n"
      ],
      "text/plain": []
     },
     "execution_count": 197,
     "metadata": {
      "coq_kernel_evaluated": true,
      "coq_kernel_execution_id": "6a2e8715-d872-4a44-ba89-671f5953e1ab",
      "coq_kernel_rolled_back": false
     },
     "output_type": "execute_result"
    }
   ],
   "source": [
    "Fixpoint exp (base puiss : nat) : nat :=\n",
    "match puiss with\n",
    "| O => S O\n",
    "| S n' => fois base (exp base n')\n",
    "end."
   ]
  },
  {
   "cell_type": "code",
   "execution_count": 197,
   "id": "cd6c2c45-7f10-4d1a-b966-db1972a744bf",
   "metadata": {},
   "outputs": [
    {
     "data": {
      "text/html": [
       "\n",
       "<div class=\"coq_kernel_output_area\">\n",
       "    <pre></pre>\n",
       "</div>\n",
       "\n",
       "<div class=\"coq_kernel_rich_cell_output coq_kernel_status_message_area\" style=\"padding: 5px 0px;\">\n",
       "    <i class=\"fa-check fa text-success\"></i>\n",
       "    <span>Cell evaluated.</span>\n",
       "</div>\n",
       "\n",
       "<div class=\"coq_kernel_rich_cell_output coq_kernel_status_message_area coq_kernel_rolled_back_status_message\" style=\"padding: 5px 0px; display: none;\">\n",
       "    <i class=\"fa-exclamation-circle fa text-info\"></i>\n",
       "    <span>Cell rolled back.</span>\n",
       "</div>\n",
       "\n",
       "<div class=\"coq_kernel_rich_cell_output coq_kernel_roll_back_controls_area\" style=\"display: none; position: relative;\">\n",
       "    <button class=\"btn btn-default btn-xs coq_kernel_roll_back_button\" onclick=\"CoqKernel.roll_back(this)\">\n",
       "        <i class=\"fa-step-backward fa\"></i>\n",
       "        <span class=\"toolbar-btn-label\">Rollback cell</span>\n",
       "    </button>\n",
       "\n",
       "    <div style=\"display: inline-block; vertical-align: middle; padding-left: 0; padding-right: 0;\">\n",
       "      <input class=\"coq_kernel_auto_roll_back_checkbox\" type=\"checkbox\" value=\"\" onchange=\"CoqKernel.toggle_auto_roll_back(this)\" checked>\n",
       "      <label\">Auto rollback</label>\n",
       "    </div>\n",
       "</div>\n"
      ],
      "text/plain": []
     },
     "execution_count": 202,
     "metadata": {
      "coq_kernel_evaluated": true,
      "coq_kernel_execution_id": "c4810a61-b097-494c-88d7-f2bad624a37b",
      "coq_kernel_rolled_back": false
     },
     "output_type": "execute_result"
    }
   ],
   "source": [
    "Example exp26:\n",
    "exp 2 6 = 64.\n",
    "Proof. simpl. reflexivity. Qed."
   ]
  },
  {
   "cell_type": "markdown",
   "id": "12573ca0-cc03-4ceb-bfb1-cd67f1bbd9a4",
   "metadata": {},
   "source": [
    "Il est intéressant de noter qu'il est possible de changer les notations,"
   ]
  },
  {
   "cell_type": "code",
   "execution_count": 202,
   "id": "2aa526e2-9e46-4729-a6a1-a25949500c89",
   "metadata": {},
   "outputs": [
    {
     "data": {
      "text/html": [
       "\n",
       "<div class=\"coq_kernel_output_area\">\n",
       "    <pre></pre>\n",
       "</div>\n",
       "\n",
       "<div class=\"coq_kernel_rich_cell_output coq_kernel_status_message_area\" style=\"padding: 5px 0px;\">\n",
       "    <i class=\"fa-check fa text-success\"></i>\n",
       "    <span>Cell evaluated.</span>\n",
       "</div>\n",
       "\n",
       "<div class=\"coq_kernel_rich_cell_output coq_kernel_status_message_area coq_kernel_rolled_back_status_message\" style=\"padding: 5px 0px; display: none;\">\n",
       "    <i class=\"fa-exclamation-circle fa text-info\"></i>\n",
       "    <span>Cell rolled back.</span>\n",
       "</div>\n",
       "\n",
       "<div class=\"coq_kernel_rich_cell_output coq_kernel_roll_back_controls_area\" style=\"display: none; position: relative;\">\n",
       "    <button class=\"btn btn-default btn-xs coq_kernel_roll_back_button\" onclick=\"CoqKernel.roll_back(this)\">\n",
       "        <i class=\"fa-step-backward fa\"></i>\n",
       "        <span class=\"toolbar-btn-label\">Rollback cell</span>\n",
       "    </button>\n",
       "\n",
       "    <div style=\"display: inline-block; vertical-align: middle; padding-left: 0; padding-right: 0;\">\n",
       "      <input class=\"coq_kernel_auto_roll_back_checkbox\" type=\"checkbox\" value=\"\" onchange=\"CoqKernel.toggle_auto_roll_back(this)\" checked>\n",
       "      <label\">Auto rollback</label>\n",
       "    </div>\n",
       "</div>\n"
      ],
      "text/plain": []
     },
     "execution_count": 206,
     "metadata": {
      "coq_kernel_evaluated": true,
      "coq_kernel_execution_id": "8e3ad48b-c1a9-46de-b8c4-de0bd8b33717",
      "coq_kernel_rolled_back": false
     },
     "output_type": "execute_result"
    }
   ],
   "source": [
    "Notation \"x + y\" := (plus x y)(at level 50, left associativity): nat_scope.\n",
    "Notation \"x - y\" := (neg x y)(at level 50, left associativity): nat_scope.\n",
    "Notation \"x * y\" := (fois x y)(at level 40, left associativity): nat_scope.\n",
    "Notation \"x ** y\" := (exp x y)(at level 30): nat_scope."
   ]
  },
  {
   "cell_type": "markdown",
   "id": "5ece67de-1da2-4797-8a70-496d2f738499",
   "metadata": {},
   "source": [
    "Le niveau des notations agit comme une priorité des opérations, plus le niveau est bas, plus l'opération est prioritaire. Donc nous avons que ** > * > + = - en terme de priorité."
   ]
  },
  {
   "cell_type": "code",
   "execution_count": 206,
   "id": "7927b670-4eba-4bd0-9656-d13e8aab8429",
   "metadata": {},
   "outputs": [
    {
     "data": {
      "text/html": [
       "\n",
       "<div class=\"coq_kernel_output_area\">\n",
       "    <pre>     = 6\n",
       "     : nat\n",
       "\n",
       "     = 3\n",
       "     : nat\n",
       "\n",
       "     = 17\n",
       "     : nat\n",
       "\n",
       "     = 8\n",
       "     : nat\n",
       "\n",
       "     = 16\n",
       "     : nat</pre>\n",
       "</div>\n",
       "\n",
       "<div class=\"coq_kernel_rich_cell_output coq_kernel_status_message_area\" style=\"padding: 5px 0px;\">\n",
       "    <i class=\"fa-check fa text-success\"></i>\n",
       "    <span>Cell evaluated.</span>\n",
       "</div>\n",
       "\n",
       "<div class=\"coq_kernel_rich_cell_output coq_kernel_status_message_area coq_kernel_rolled_back_status_message\" style=\"padding: 5px 0px; display: none;\">\n",
       "    <i class=\"fa-exclamation-circle fa text-info\"></i>\n",
       "    <span>Cell rolled back.</span>\n",
       "</div>\n",
       "\n",
       "<div class=\"coq_kernel_rich_cell_output coq_kernel_roll_back_controls_area\" style=\"display: none; position: relative;\">\n",
       "    <button class=\"btn btn-default btn-xs coq_kernel_roll_back_button\" onclick=\"CoqKernel.roll_back(this)\">\n",
       "        <i class=\"fa-step-backward fa\"></i>\n",
       "        <span class=\"toolbar-btn-label\">Rollback cell</span>\n",
       "    </button>\n",
       "\n",
       "    <div style=\"display: inline-block; vertical-align: middle; padding-left: 0; padding-right: 0;\">\n",
       "      <input class=\"coq_kernel_auto_roll_back_checkbox\" type=\"checkbox\" value=\"\" onchange=\"CoqKernel.toggle_auto_roll_back(this)\" checked>\n",
       "      <label\">Auto rollback</label>\n",
       "    </div>\n",
       "</div>\n"
      ],
      "text/plain": [
       "     = 6\n",
       "     : nat\n",
       "\n",
       "     = 3\n",
       "     : nat\n",
       "\n",
       "     = 17\n",
       "     : nat\n",
       "\n",
       "     = 8\n",
       "     : nat\n",
       "\n",
       "     = 16\n",
       "     : nat"
      ]
     },
     "execution_count": 211,
     "metadata": {
      "coq_kernel_evaluated": true,
      "coq_kernel_execution_id": "63d02b70-b4dd-4ef5-8f11-329edc78348d",
      "coq_kernel_rolled_back": false
     },
     "output_type": "execute_result"
    }
   ],
   "source": [
    "Compute(1 + 5).\n",
    "Compute(7-1*4).\n",
    "Compute(2+3*5).\n",
    "Compute(2**3).\n",
    "Compute(2*2**3)."
   ]
  },
  {
   "cell_type": "markdown",
   "id": "2b56fa37-a8c2-418c-a488-b01faf7b7c53",
   "metadata": {},
   "source": [
    "Un dernier exemple, définissons la factorielle, $!$, qui peut s'avérer un peu plus laborieux, mais étant donné que nous avons bien défini les opérations standards, tout se déroule assez bien. Il faut juste avoir en tête que 0 et 1 factorielle donnent 1, et que pour tout entier $n \\geq 2$, $\\text{}$ $n ! = n \\otimes (n-1) ! $."
   ]
  },
  {
   "cell_type": "code",
   "execution_count": 211,
   "id": "b8475a1e-a5c7-423e-8ebe-89441bfb3f9b",
   "metadata": {},
   "outputs": [
    {
     "data": {
      "text/html": [
       "\n",
       "<div class=\"coq_kernel_output_area\">\n",
       "    <pre></pre>\n",
       "</div>\n",
       "\n",
       "<div class=\"coq_kernel_rich_cell_output coq_kernel_status_message_area\" style=\"padding: 5px 0px;\">\n",
       "    <i class=\"fa-check fa text-success\"></i>\n",
       "    <span>Cell evaluated.</span>\n",
       "</div>\n",
       "\n",
       "<div class=\"coq_kernel_rich_cell_output coq_kernel_status_message_area coq_kernel_rolled_back_status_message\" style=\"padding: 5px 0px; display: none;\">\n",
       "    <i class=\"fa-exclamation-circle fa text-info\"></i>\n",
       "    <span>Cell rolled back.</span>\n",
       "</div>\n",
       "\n",
       "<div class=\"coq_kernel_rich_cell_output coq_kernel_roll_back_controls_area\" style=\"display: none; position: relative;\">\n",
       "    <button class=\"btn btn-default btn-xs coq_kernel_roll_back_button\" onclick=\"CoqKernel.roll_back(this)\">\n",
       "        <i class=\"fa-step-backward fa\"></i>\n",
       "        <span class=\"toolbar-btn-label\">Rollback cell</span>\n",
       "    </button>\n",
       "\n",
       "    <div style=\"display: inline-block; vertical-align: middle; padding-left: 0; padding-right: 0;\">\n",
       "      <input class=\"coq_kernel_auto_roll_back_checkbox\" type=\"checkbox\" value=\"\" onchange=\"CoqKernel.toggle_auto_roll_back(this)\" checked>\n",
       "      <label\">Auto rollback</label>\n",
       "    </div>\n",
       "</div>\n"
      ],
      "text/plain": []
     },
     "execution_count": 212,
     "metadata": {
      "coq_kernel_evaluated": true,
      "coq_kernel_execution_id": "ea9fd85e-e902-4203-952b-c47c12c27331",
      "coq_kernel_rolled_back": false
     },
     "output_type": "execute_result"
    }
   ],
   "source": [
    "Fixpoint factorial (n:nat) : nat := \n",
    "match n with\n",
    "| O => S O\n",
    "| S O => S O\n",
    "| S n' => fois (S n') (factorial n')\n",
    "end."
   ]
  },
  {
   "cell_type": "code",
   "execution_count": 212,
   "id": "10295edc-7308-4ee4-b57d-f4e880d966ed",
   "metadata": {},
   "outputs": [
    {
     "data": {
      "text/html": [
       "\n",
       "<div class=\"coq_kernel_output_area\">\n",
       "    <pre></pre>\n",
       "</div>\n",
       "\n",
       "<div class=\"coq_kernel_rich_cell_output coq_kernel_status_message_area\" style=\"padding: 5px 0px;\">\n",
       "    <i class=\"fa-check fa text-success\"></i>\n",
       "    <span>Cell evaluated.</span>\n",
       "</div>\n",
       "\n",
       "<div class=\"coq_kernel_rich_cell_output coq_kernel_status_message_area coq_kernel_rolled_back_status_message\" style=\"padding: 5px 0px; display: none;\">\n",
       "    <i class=\"fa-exclamation-circle fa text-info\"></i>\n",
       "    <span>Cell rolled back.</span>\n",
       "</div>\n",
       "\n",
       "<div class=\"coq_kernel_rich_cell_output coq_kernel_roll_back_controls_area\" style=\"display: none; position: relative;\">\n",
       "    <button class=\"btn btn-default btn-xs coq_kernel_roll_back_button\" onclick=\"CoqKernel.roll_back(this)\">\n",
       "        <i class=\"fa-step-backward fa\"></i>\n",
       "        <span class=\"toolbar-btn-label\">Rollback cell</span>\n",
       "    </button>\n",
       "\n",
       "    <div style=\"display: inline-block; vertical-align: middle; padding-left: 0; padding-right: 0;\">\n",
       "      <input class=\"coq_kernel_auto_roll_back_checkbox\" type=\"checkbox\" value=\"\" onchange=\"CoqKernel.toggle_auto_roll_back(this)\" checked>\n",
       "      <label\">Auto rollback</label>\n",
       "    </div>\n",
       "</div>\n"
      ],
      "text/plain": []
     },
     "execution_count": 222,
     "metadata": {
      "coq_kernel_evaluated": true,
      "coq_kernel_execution_id": "0d3108de-51b8-47b1-950d-de22a86fe094",
      "coq_kernel_rolled_back": false
     },
     "output_type": "execute_result"
    }
   ],
   "source": [
    "Example test_factorial1: (factorial 3) = 6.\n",
    "Proof. simpl. reflexivity. Qed.\n",
    "Example test_factorial2: (factorial 5) = (mult 10 12).\n",
    "Proof. simpl. reflexivity. Qed."
   ]
  },
  {
   "cell_type": "markdown",
   "id": "3e17e6c7-91da-4562-b4df-035be1a69abb",
   "metadata": {},
   "source": [
    "Un autre \"problème\" de Coq par rapport aux autres langages de programmation est que l'opération d'égalité n'est pas définie de base, mais cela nous permet une plus grande flexibilité pour établir des égalités entre objets."
   ]
  },
  {
   "cell_type": "code",
   "execution_count": 222,
   "id": "1ea339ac-e7fa-4739-bf31-695deb33a91f",
   "metadata": {},
   "outputs": [
    {
     "data": {
      "text/html": [
       "\n",
       "<div class=\"coq_kernel_output_area\">\n",
       "    <pre></pre>\n",
       "</div>\n",
       "\n",
       "<div class=\"coq_kernel_rich_cell_output coq_kernel_status_message_area\" style=\"padding: 5px 0px;\">\n",
       "    <i class=\"fa-check fa text-success\"></i>\n",
       "    <span>Cell evaluated.</span>\n",
       "</div>\n",
       "\n",
       "<div class=\"coq_kernel_rich_cell_output coq_kernel_status_message_area coq_kernel_rolled_back_status_message\" style=\"padding: 5px 0px; display: none;\">\n",
       "    <i class=\"fa-exclamation-circle fa text-info\"></i>\n",
       "    <span>Cell rolled back.</span>\n",
       "</div>\n",
       "\n",
       "<div class=\"coq_kernel_rich_cell_output coq_kernel_roll_back_controls_area\" style=\"display: none; position: relative;\">\n",
       "    <button class=\"btn btn-default btn-xs coq_kernel_roll_back_button\" onclick=\"CoqKernel.roll_back(this)\">\n",
       "        <i class=\"fa-step-backward fa\"></i>\n",
       "        <span class=\"toolbar-btn-label\">Rollback cell</span>\n",
       "    </button>\n",
       "\n",
       "    <div style=\"display: inline-block; vertical-align: middle; padding-left: 0; padding-right: 0;\">\n",
       "      <input class=\"coq_kernel_auto_roll_back_checkbox\" type=\"checkbox\" value=\"\" onchange=\"CoqKernel.toggle_auto_roll_back(this)\" checked>\n",
       "      <label\">Auto rollback</label>\n",
       "    </div>\n",
       "</div>\n"
      ],
      "text/plain": []
     },
     "execution_count": 223,
     "metadata": {
      "coq_kernel_evaluated": true,
      "coq_kernel_execution_id": "0289ec29-aed0-4551-a27e-6bacda77c490",
      "coq_kernel_rolled_back": false
     },
     "output_type": "execute_result"
    }
   ],
   "source": [
    "Fixpoint eqb (n m : nat) : bool :=\n",
    "match n with\n",
    "| O => match m with \n",
    "       | O => true\n",
    "       | S m' => false\n",
    "        end\n",
    "| S n' => match m with\n",
    "        | O => false\n",
    "        | S m' => eqb n' m'\n",
    "        end\n",
    "end."
   ]
  },
  {
   "cell_type": "code",
   "execution_count": 223,
   "id": "c7b8aa64-c348-4381-947a-12d0233b1463",
   "metadata": {},
   "outputs": [
    {
     "data": {
      "text/html": [
       "\n",
       "<div class=\"coq_kernel_output_area\">\n",
       "    <pre>     = true\n",
       "     : bool</pre>\n",
       "</div>\n",
       "\n",
       "<div class=\"coq_kernel_rich_cell_output coq_kernel_status_message_area\" style=\"padding: 5px 0px;\">\n",
       "    <i class=\"fa-check fa text-success\"></i>\n",
       "    <span>Cell evaluated.</span>\n",
       "</div>\n",
       "\n",
       "<div class=\"coq_kernel_rich_cell_output coq_kernel_status_message_area coq_kernel_rolled_back_status_message\" style=\"padding: 5px 0px; display: none;\">\n",
       "    <i class=\"fa-exclamation-circle fa text-info\"></i>\n",
       "    <span>Cell rolled back.</span>\n",
       "</div>\n",
       "\n",
       "<div class=\"coq_kernel_rich_cell_output coq_kernel_roll_back_controls_area\" style=\"display: none; position: relative;\">\n",
       "    <button class=\"btn btn-default btn-xs coq_kernel_roll_back_button\" onclick=\"CoqKernel.roll_back(this)\">\n",
       "        <i class=\"fa-step-backward fa\"></i>\n",
       "        <span class=\"toolbar-btn-label\">Rollback cell</span>\n",
       "    </button>\n",
       "\n",
       "    <div style=\"display: inline-block; vertical-align: middle; padding-left: 0; padding-right: 0;\">\n",
       "      <input class=\"coq_kernel_auto_roll_back_checkbox\" type=\"checkbox\" value=\"\" onchange=\"CoqKernel.toggle_auto_roll_back(this)\" checked>\n",
       "      <label\">Auto rollback</label>\n",
       "    </div>\n",
       "</div>\n"
      ],
      "text/plain": [
       "     = true\n",
       "     : bool"
      ]
     },
     "execution_count": 224,
     "metadata": {
      "coq_kernel_evaluated": true,
      "coq_kernel_execution_id": "01abd269-a4cd-42ab-915a-e4f6e5a71af7",
      "coq_kernel_rolled_back": false
     },
     "output_type": "execute_result"
    }
   ],
   "source": [
    "Compute eqb 4 (S(S(S(S O))))."
   ]
  },
  {
   "cell_type": "markdown",
   "id": "dc343892-caa0-4a16-a8b8-fd8a247cab64",
   "metadata": {},
   "source": [
    "Remarquons que nous utilisons une imbrication de 'match', mais cela ne pose pas problème pour Coq. La vérification de l'égalité se passe en plusieurs cas, si $n$ est nul, alors $m$ doit aussi être nul pour qu'il y ait égalité. Si $n$ n'est pas nul, alors dans le cas où $m$ n'est pas nul, sinon il n'y aurait pas d'égalité, regardons plutôt l'égalité entre $n-1$ et $m-1$ (jusqu'à n étapes si $n = m$, sinon ce serait le minimum des deux qui indiquerait le nombre d'étapes pour dire qu'il n'y a pas d'égalité)."
   ]
  },
  {
   "cell_type": "markdown",
   "id": "bf184254-7915-455b-8407-604db110e124",
   "metadata": {},
   "source": [
    "D'une manière analogue, définissons l'opération \"inférieur ou égal\"."
   ]
  },
  {
   "cell_type": "code",
   "execution_count": 224,
   "id": "9799f235-6cb1-4284-910f-6d90a5b63790",
   "metadata": {},
   "outputs": [
    {
     "data": {
      "text/html": [
       "\n",
       "<div class=\"coq_kernel_output_area\">\n",
       "    <pre></pre>\n",
       "</div>\n",
       "\n",
       "<div class=\"coq_kernel_rich_cell_output coq_kernel_status_message_area\" style=\"padding: 5px 0px;\">\n",
       "    <i class=\"fa-check fa text-success\"></i>\n",
       "    <span>Cell evaluated.</span>\n",
       "</div>\n",
       "\n",
       "<div class=\"coq_kernel_rich_cell_output coq_kernel_status_message_area coq_kernel_rolled_back_status_message\" style=\"padding: 5px 0px; display: none;\">\n",
       "    <i class=\"fa-exclamation-circle fa text-info\"></i>\n",
       "    <span>Cell rolled back.</span>\n",
       "</div>\n",
       "\n",
       "<div class=\"coq_kernel_rich_cell_output coq_kernel_roll_back_controls_area\" style=\"display: none; position: relative;\">\n",
       "    <button class=\"btn btn-default btn-xs coq_kernel_roll_back_button\" onclick=\"CoqKernel.roll_back(this)\">\n",
       "        <i class=\"fa-step-backward fa\"></i>\n",
       "        <span class=\"toolbar-btn-label\">Rollback cell</span>\n",
       "    </button>\n",
       "\n",
       "    <div style=\"display: inline-block; vertical-align: middle; padding-left: 0; padding-right: 0;\">\n",
       "      <input class=\"coq_kernel_auto_roll_back_checkbox\" type=\"checkbox\" value=\"\" onchange=\"CoqKernel.toggle_auto_roll_back(this)\" checked>\n",
       "      <label\">Auto rollback</label>\n",
       "    </div>\n",
       "</div>\n"
      ],
      "text/plain": []
     },
     "execution_count": 225,
     "metadata": {
      "coq_kernel_evaluated": true,
      "coq_kernel_execution_id": "5e6efdce-1eca-40ab-8fe1-def1e8602e9c",
      "coq_kernel_rolled_back": false
     },
     "output_type": "execute_result"
    }
   ],
   "source": [
    "Fixpoint infeqb (n m : nat) : bool :=\n",
    "match n with \n",
    "| O => true\n",
    "| S n' => match m with\n",
    "        | O => false\n",
    "        | S m' => infeqb n' m'\n",
    "        end\n",
    "end."
   ]
  },
  {
   "cell_type": "code",
   "execution_count": 225,
   "id": "b29e4389-2716-40fb-968a-7ccaa21c99c7",
   "metadata": {},
   "outputs": [
    {
     "data": {
      "text/html": [
       "\n",
       "<div class=\"coq_kernel_output_area\">\n",
       "    <pre>     = true\n",
       "     : bool\n",
       "\n",
       "     = false\n",
       "     : bool</pre>\n",
       "</div>\n",
       "\n",
       "<div class=\"coq_kernel_rich_cell_output coq_kernel_status_message_area\" style=\"padding: 5px 0px;\">\n",
       "    <i class=\"fa-check fa text-success\"></i>\n",
       "    <span>Cell evaluated.</span>\n",
       "</div>\n",
       "\n",
       "<div class=\"coq_kernel_rich_cell_output coq_kernel_status_message_area coq_kernel_rolled_back_status_message\" style=\"padding: 5px 0px; display: none;\">\n",
       "    <i class=\"fa-exclamation-circle fa text-info\"></i>\n",
       "    <span>Cell rolled back.</span>\n",
       "</div>\n",
       "\n",
       "<div class=\"coq_kernel_rich_cell_output coq_kernel_roll_back_controls_area\" style=\"display: none; position: relative;\">\n",
       "    <button class=\"btn btn-default btn-xs coq_kernel_roll_back_button\" onclick=\"CoqKernel.roll_back(this)\">\n",
       "        <i class=\"fa-step-backward fa\"></i>\n",
       "        <span class=\"toolbar-btn-label\">Rollback cell</span>\n",
       "    </button>\n",
       "\n",
       "    <div style=\"display: inline-block; vertical-align: middle; padding-left: 0; padding-right: 0;\">\n",
       "      <input class=\"coq_kernel_auto_roll_back_checkbox\" type=\"checkbox\" value=\"\" onchange=\"CoqKernel.toggle_auto_roll_back(this)\" checked>\n",
       "      <label\">Auto rollback</label>\n",
       "    </div>\n",
       "</div>\n"
      ],
      "text/plain": [
       "     = true\n",
       "     : bool\n",
       "\n",
       "     = false\n",
       "     : bool"
      ]
     },
     "execution_count": 227,
     "metadata": {
      "coq_kernel_evaluated": true,
      "coq_kernel_execution_id": "f89fadb6-9522-4396-b01c-2718ce6c0361",
      "coq_kernel_rolled_back": false
     },
     "output_type": "execute_result"
    }
   ],
   "source": [
    "Compute infeqb 154 4014.\n",
    "Compute infeqb 147 0."
   ]
  },
  {
   "cell_type": "markdown",
   "id": "8b628746-74f3-4687-8a52-664775a87a26",
   "metadata": {},
   "source": [
    "Dont nous pouvons définir une notation plus visuelle,"
   ]
  },
  {
   "cell_type": "code",
   "execution_count": 227,
   "id": "b48a204f-131e-401d-8f27-e7576e549de9",
   "metadata": {},
   "outputs": [
    {
     "data": {
      "text/html": [
       "\n",
       "<div class=\"coq_kernel_output_area\">\n",
       "    <pre></pre>\n",
       "</div>\n",
       "\n",
       "<div class=\"coq_kernel_rich_cell_output coq_kernel_status_message_area\" style=\"padding: 5px 0px;\">\n",
       "    <i class=\"fa-check fa text-success\"></i>\n",
       "    <span>Cell evaluated.</span>\n",
       "</div>\n",
       "\n",
       "<div class=\"coq_kernel_rich_cell_output coq_kernel_status_message_area coq_kernel_rolled_back_status_message\" style=\"padding: 5px 0px; display: none;\">\n",
       "    <i class=\"fa-exclamation-circle fa text-info\"></i>\n",
       "    <span>Cell rolled back.</span>\n",
       "</div>\n",
       "\n",
       "<div class=\"coq_kernel_rich_cell_output coq_kernel_roll_back_controls_area\" style=\"display: none; position: relative;\">\n",
       "    <button class=\"btn btn-default btn-xs coq_kernel_roll_back_button\" onclick=\"CoqKernel.roll_back(this)\">\n",
       "        <i class=\"fa-step-backward fa\"></i>\n",
       "        <span class=\"toolbar-btn-label\">Rollback cell</span>\n",
       "    </button>\n",
       "\n",
       "    <div style=\"display: inline-block; vertical-align: middle; padding-left: 0; padding-right: 0;\">\n",
       "      <input class=\"coq_kernel_auto_roll_back_checkbox\" type=\"checkbox\" value=\"\" onchange=\"CoqKernel.toggle_auto_roll_back(this)\" checked>\n",
       "      <label\">Auto rollback</label>\n",
       "    </div>\n",
       "</div>\n"
      ],
      "text/plain": []
     },
     "execution_count": 229,
     "metadata": {
      "coq_kernel_evaluated": true,
      "coq_kernel_execution_id": "e30ee199-e628-4b81-a723-244f5f3e8ff3",
      "coq_kernel_rolled_back": false
     },
     "output_type": "execute_result"
    }
   ],
   "source": [
    "Notation \"x =? y\" := (eqb x y)(at level 70) : nat_scope.\n",
    "Notation \"x <=? y\" := (infeqb x y)(at level 70) : nat_scope."
   ]
  },
  {
   "cell_type": "code",
   "execution_count": 229,
   "id": "d12f27a5-ef1c-4f6b-85e1-a42767c291a9",
   "metadata": {},
   "outputs": [
    {
     "data": {
      "text/html": [
       "\n",
       "<div class=\"coq_kernel_output_area\">\n",
       "    <pre>     = false\n",
       "     : bool</pre>\n",
       "</div>\n",
       "\n",
       "<div class=\"coq_kernel_rich_cell_output coq_kernel_status_message_area\" style=\"padding: 5px 0px;\">\n",
       "    <i class=\"fa-check fa text-success\"></i>\n",
       "    <span>Cell evaluated.</span>\n",
       "</div>\n",
       "\n",
       "<div class=\"coq_kernel_rich_cell_output coq_kernel_status_message_area coq_kernel_rolled_back_status_message\" style=\"padding: 5px 0px; display: none;\">\n",
       "    <i class=\"fa-exclamation-circle fa text-info\"></i>\n",
       "    <span>Cell rolled back.</span>\n",
       "</div>\n",
       "\n",
       "<div class=\"coq_kernel_rich_cell_output coq_kernel_roll_back_controls_area\" style=\"display: none; position: relative;\">\n",
       "    <button class=\"btn btn-default btn-xs coq_kernel_roll_back_button\" onclick=\"CoqKernel.roll_back(this)\">\n",
       "        <i class=\"fa-step-backward fa\"></i>\n",
       "        <span class=\"toolbar-btn-label\">Rollback cell</span>\n",
       "    </button>\n",
       "\n",
       "    <div style=\"display: inline-block; vertical-align: middle; padding-left: 0; padding-right: 0;\">\n",
       "      <input class=\"coq_kernel_auto_roll_back_checkbox\" type=\"checkbox\" value=\"\" onchange=\"CoqKernel.toggle_auto_roll_back(this)\" checked>\n",
       "      <label\">Auto rollback</label>\n",
       "    </div>\n",
       "</div>\n"
      ],
      "text/plain": [
       "     = false\n",
       "     : bool"
      ]
     },
     "execution_count": 230,
     "metadata": {
      "coq_kernel_evaluated": true,
      "coq_kernel_execution_id": "c3481772-fb1c-4b98-8ee9-8e754f018159",
      "coq_kernel_rolled_back": false
     },
     "output_type": "execute_result"
    }
   ],
   "source": [
    "Compute(3 =? 4)."
   ]
  },
  {
   "cell_type": "markdown",
   "id": "993a74e8-e65c-4a79-bd58-d243ed3d264a",
   "metadata": {},
   "source": [
    "Nous mettons l'accent sur le fait que nos notations comportent un point d'interrogation car les notations sans se comporteront comme des propositions à prouver."
   ]
  },
  {
   "cell_type": "markdown",
   "id": "4b38e27e-2412-422a-9212-20de5e9cf974",
   "metadata": {},
   "source": [
    "Et regardons un dernier exemple, l'inégalité stricte cette fois-ci,"
   ]
  },
  {
   "cell_type": "code",
   "execution_count": 230,
   "id": "48f665eb-1e32-484e-9778-6d7b7e4845a0",
   "metadata": {},
   "outputs": [
    {
     "data": {
      "text/html": [
       "\n",
       "<div class=\"coq_kernel_output_area\">\n",
       "    <pre></pre>\n",
       "</div>\n",
       "\n",
       "<div class=\"coq_kernel_rich_cell_output coq_kernel_status_message_area\" style=\"padding: 5px 0px;\">\n",
       "    <i class=\"fa-check fa text-success\"></i>\n",
       "    <span>Cell evaluated.</span>\n",
       "</div>\n",
       "\n",
       "<div class=\"coq_kernel_rich_cell_output coq_kernel_status_message_area coq_kernel_rolled_back_status_message\" style=\"padding: 5px 0px; display: none;\">\n",
       "    <i class=\"fa-exclamation-circle fa text-info\"></i>\n",
       "    <span>Cell rolled back.</span>\n",
       "</div>\n",
       "\n",
       "<div class=\"coq_kernel_rich_cell_output coq_kernel_roll_back_controls_area\" style=\"display: none; position: relative;\">\n",
       "    <button class=\"btn btn-default btn-xs coq_kernel_roll_back_button\" onclick=\"CoqKernel.roll_back(this)\">\n",
       "        <i class=\"fa-step-backward fa\"></i>\n",
       "        <span class=\"toolbar-btn-label\">Rollback cell</span>\n",
       "    </button>\n",
       "\n",
       "    <div style=\"display: inline-block; vertical-align: middle; padding-left: 0; padding-right: 0;\">\n",
       "      <input class=\"coq_kernel_auto_roll_back_checkbox\" type=\"checkbox\" value=\"\" onchange=\"CoqKernel.toggle_auto_roll_back(this)\" checked>\n",
       "      <label\">Auto rollback</label>\n",
       "    </div>\n",
       "</div>\n"
      ],
      "text/plain": []
     },
     "execution_count": 247,
     "metadata": {
      "coq_kernel_evaluated": true,
      "coq_kernel_execution_id": "5d575040-b910-4a4d-8b05-4c1dbed313b5",
      "coq_kernel_rolled_back": false
     },
     "output_type": "execute_result"
    }
   ],
   "source": [
    "Fixpoint infstrb (n m : nat) : bool :=\n",
    "match n with\n",
    "| O => match m with\n",
    "        | O => false\n",
    "        | S m' => true\n",
    "        end\n",
    "| S n' => match m with\n",
    "            | O => false\n",
    "            | S m' => infstrb n' m'\n",
    "            end\n",
    "end.\n",
    "\n",
    "Notation \"x <? y\" := (infstrb x y) (at level 70) : nat_scope.\n",
    "\n",
    "Example test_str1: (2 <? 2) = false.\n",
    "Proof. simpl. reflexivity. Qed.\n",
    "\n",
    "Example test_str2: (2 <? 4) = true.\n",
    "Proof. simpl. reflexivity. Qed.\n",
    "\n",
    "Example test_str3: (4 <? 2) = false.\n",
    "Proof. simpl. reflexivity. Qed."
   ]
  },
  {
   "cell_type": "markdown",
   "id": "c3b63a9f-546a-45b2-9d4b-3cf141944017",
   "metadata": {},
   "source": [
    "***\n",
    "# Preuves"
   ]
  },
  {
   "cell_type": "markdown",
   "id": "4d8694cd-b326-4ebf-a85a-3a1c488aa09d",
   "metadata": {},
   "source": [
    "Prouvons un premier théorème, celui qui nous dit que pour tout $n$ entier naturel, 0 agit comme le neutre pour l'addition standard, c'est-à-dire que $0 + n = n = n + 0$."
   ]
  },
  {
   "cell_type": "code",
   "execution_count": 247,
   "id": "9da63c2d-0d2f-443e-a598-272ea78eae61",
   "metadata": {},
   "outputs": [
    {
     "data": {
      "text/html": [
       "\n",
       "<div class=\"coq_kernel_output_area\">\n",
       "    <pre></pre>\n",
       "</div>\n",
       "\n",
       "<div class=\"coq_kernel_rich_cell_output coq_kernel_status_message_area\" style=\"padding: 5px 0px;\">\n",
       "    <i class=\"fa-check fa text-success\"></i>\n",
       "    <span>Cell evaluated.</span>\n",
       "</div>\n",
       "\n",
       "<div class=\"coq_kernel_rich_cell_output coq_kernel_status_message_area coq_kernel_rolled_back_status_message\" style=\"padding: 5px 0px; display: none;\">\n",
       "    <i class=\"fa-exclamation-circle fa text-info\"></i>\n",
       "    <span>Cell rolled back.</span>\n",
       "</div>\n",
       "\n",
       "<div class=\"coq_kernel_rich_cell_output coq_kernel_roll_back_controls_area\" style=\"display: none; position: relative;\">\n",
       "    <button class=\"btn btn-default btn-xs coq_kernel_roll_back_button\" onclick=\"CoqKernel.roll_back(this)\">\n",
       "        <i class=\"fa-step-backward fa\"></i>\n",
       "        <span class=\"toolbar-btn-label\">Rollback cell</span>\n",
       "    </button>\n",
       "\n",
       "    <div style=\"display: inline-block; vertical-align: middle; padding-left: 0; padding-right: 0;\">\n",
       "      <input class=\"coq_kernel_auto_roll_back_checkbox\" type=\"checkbox\" value=\"\" onchange=\"CoqKernel.toggle_auto_roll_back(this)\" checked>\n",
       "      <label\">Auto rollback</label>\n",
       "    </div>\n",
       "</div>\n"
      ],
      "text/plain": []
     },
     "execution_count": 252,
     "metadata": {
      "coq_kernel_evaluated": true,
      "coq_kernel_execution_id": "9218ccd1-53ed-4d18-a5eb-a78daca95920",
      "coq_kernel_rolled_back": false
     },
     "output_type": "execute_result"
    }
   ],
   "source": [
    "Theorem plus_0_n : forall n : nat, 0 + n = n.\n",
    "Proof.\n",
    "intros n. reflexivity. Qed."
   ]
  },
  {
   "cell_type": "markdown",
   "id": "2ceae8ec-c486-4e97-a089-a7470daebbee",
   "metadata": {},
   "source": [
    "qui se prouve naturellement par neutralité du 0 par l'addition à gauche."
   ]
  },
  {
   "cell_type": "code",
   "execution_count": 252,
   "id": "e0b798b1-1a86-4fe6-b1d4-3ca514c3755b",
   "metadata": {},
   "outputs": [
    {
     "data": {
      "text/html": [
       "\n",
       "<div class=\"coq_kernel_output_area\">\n",
       "    <pre></pre>\n",
       "</div>\n",
       "\n",
       "<div class=\"coq_kernel_rich_cell_output coq_kernel_status_message_area\" style=\"padding: 5px 0px;\">\n",
       "    <i class=\"fa-check fa text-success\"></i>\n",
       "    <span>Cell evaluated.</span>\n",
       "</div>\n",
       "\n",
       "<div class=\"coq_kernel_rich_cell_output coq_kernel_status_message_area coq_kernel_rolled_back_status_message\" style=\"padding: 5px 0px; display: none;\">\n",
       "    <i class=\"fa-exclamation-circle fa text-info\"></i>\n",
       "    <span>Cell rolled back.</span>\n",
       "</div>\n",
       "\n",
       "<div class=\"coq_kernel_rich_cell_output coq_kernel_roll_back_controls_area\" style=\"display: none; position: relative;\">\n",
       "    <button class=\"btn btn-default btn-xs coq_kernel_roll_back_button\" onclick=\"CoqKernel.roll_back(this)\">\n",
       "        <i class=\"fa-step-backward fa\"></i>\n",
       "        <span class=\"toolbar-btn-label\">Rollback cell</span>\n",
       "    </button>\n",
       "\n",
       "    <div style=\"display: inline-block; vertical-align: middle; padding-left: 0; padding-right: 0;\">\n",
       "      <input class=\"coq_kernel_auto_roll_back_checkbox\" type=\"checkbox\" value=\"\" onchange=\"CoqKernel.toggle_auto_roll_back(this)\" checked>\n",
       "      <label\">Auto rollback</label>\n",
       "    </div>\n",
       "</div>\n"
      ],
      "text/plain": []
     },
     "execution_count": 261,
     "metadata": {
      "coq_kernel_evaluated": true,
      "coq_kernel_execution_id": "84b3dc08-b164-4fae-8a83-4e3b79dfec52",
      "coq_kernel_rolled_back": false
     },
     "output_type": "execute_result"
    }
   ],
   "source": [
    "Theorem plus_n_0 : forall n : nat, n + 0 = n.\n",
    "Proof.\n",
    "intros n. induction n. reflexivity. simpl. rewrite IHn. reflexivity. Qed."
   ]
  },
  {
   "cell_type": "markdown",
   "id": "fb466f5b-11fd-48eb-9593-7d8dfc22bc68",
   "metadata": {},
   "source": [
    "ici c'est un peu plus compliqué, il faut faire une induction sur $n$ étant donné que 0 n'agit pas comme le neutre à droite (du moins nous ne l'avons pas prouvé), donc il faut prouver le cas de base de la récurrence, qui se fait très bien par réflexivité, ensuite par simplification on dit que $S(n) + 0 = S(n+0)$, puis par hypothèse de récurrence nous avons que $S(n + 0) = S(n)$, nous concluons finalement par réflexivité. "
   ]
  },
  {
   "cell_type": "code",
   "execution_count": 261,
   "id": "803010b3-a486-4502-9e97-56db1aea1069",
   "metadata": {},
   "outputs": [
    {
     "data": {
      "text/html": [
       "\n",
       "<div class=\"coq_kernel_output_area\">\n",
       "    <pre></pre>\n",
       "</div>\n",
       "\n",
       "<div class=\"coq_kernel_rich_cell_output coq_kernel_status_message_area\" style=\"padding: 5px 0px;\">\n",
       "    <i class=\"fa-check fa text-success\"></i>\n",
       "    <span>Cell evaluated.</span>\n",
       "</div>\n",
       "\n",
       "<div class=\"coq_kernel_rich_cell_output coq_kernel_status_message_area coq_kernel_rolled_back_status_message\" style=\"padding: 5px 0px; display: none;\">\n",
       "    <i class=\"fa-exclamation-circle fa text-info\"></i>\n",
       "    <span>Cell rolled back.</span>\n",
       "</div>\n",
       "\n",
       "<div class=\"coq_kernel_rich_cell_output coq_kernel_roll_back_controls_area\" style=\"display: none; position: relative;\">\n",
       "    <button class=\"btn btn-default btn-xs coq_kernel_roll_back_button\" onclick=\"CoqKernel.roll_back(this)\">\n",
       "        <i class=\"fa-step-backward fa\"></i>\n",
       "        <span class=\"toolbar-btn-label\">Rollback cell</span>\n",
       "    </button>\n",
       "\n",
       "    <div style=\"display: inline-block; vertical-align: middle; padding-left: 0; padding-right: 0;\">\n",
       "      <input class=\"coq_kernel_auto_roll_back_checkbox\" type=\"checkbox\" value=\"\" onchange=\"CoqKernel.toggle_auto_roll_back(this)\" checked>\n",
       "      <label\">Auto rollback</label>\n",
       "    </div>\n",
       "</div>\n"
      ],
      "text/plain": []
     },
     "execution_count": 268,
     "metadata": {
      "coq_kernel_evaluated": true,
      "coq_kernel_execution_id": "0750c8ad-573e-4830-8846-2ed2de1c429f",
      "coq_kernel_rolled_back": false
     },
     "output_type": "execute_result"
    }
   ],
   "source": [
    "Theorem plus_n_0_eq_0_n_plus : forall n : nat, 0 + n = n + 0.\n",
    "Proof.\n",
    "intros n. rewrite plus_n_0. rewrite plus_0_n. reflexivity. Qed. "
   ]
  },
  {
   "cell_type": "markdown",
   "id": "2e7458d6-8253-4c63-ad51-616bebc87bb8",
   "metadata": {},
   "source": [
    "en utilisant les deux preuves précédentes, nous concluons trivialement."
   ]
  },
  {
   "cell_type": "markdown",
   "id": "f9c60cd5-4833-4bf0-9643-735a65e3e9f2",
   "metadata": {},
   "source": [
    "Il faut noter que : \n",
    "- Les exemples et les théorèmes se comportent d'une manière similaire sur Coq.\n",
    "- \"intros n\" aurait pu être remplacé par \"intros voiture\" dans nos théorèmes, c'est une variable muette.\n",
    "- La réflexivité implémentée simplifie automatiquement certains résultats, ceci explique pourquoi nous n'avons pas dû utiliser \"simpl.\" dans le premier théorème. "
   ]
  },
  {
   "cell_type": "markdown",
   "id": "47ede878-f4bf-48af-8e7c-c368c14f761a",
   "metadata": {},
   "source": [
    "D'autres théorèmes peuvent être prouvés trivialement pour tous entiers naturels, $n$, $ 1 + n = S n $,"
   ]
  },
  {
   "cell_type": "code",
   "execution_count": 268,
   "id": "de0590b8-6245-4e4c-a5e1-d2c8b119ab6f",
   "metadata": {},
   "outputs": [
    {
     "data": {
      "text/html": [
       "\n",
       "<div class=\"coq_kernel_output_area\">\n",
       "    <pre></pre>\n",
       "</div>\n",
       "\n",
       "<div class=\"coq_kernel_rich_cell_output coq_kernel_status_message_area\" style=\"padding: 5px 0px;\">\n",
       "    <i class=\"fa-check fa text-success\"></i>\n",
       "    <span>Cell evaluated.</span>\n",
       "</div>\n",
       "\n",
       "<div class=\"coq_kernel_rich_cell_output coq_kernel_status_message_area coq_kernel_rolled_back_status_message\" style=\"padding: 5px 0px; display: none;\">\n",
       "    <i class=\"fa-exclamation-circle fa text-info\"></i>\n",
       "    <span>Cell rolled back.</span>\n",
       "</div>\n",
       "\n",
       "<div class=\"coq_kernel_rich_cell_output coq_kernel_roll_back_controls_area\" style=\"display: none; position: relative;\">\n",
       "    <button class=\"btn btn-default btn-xs coq_kernel_roll_back_button\" onclick=\"CoqKernel.roll_back(this)\">\n",
       "        <i class=\"fa-step-backward fa\"></i>\n",
       "        <span class=\"toolbar-btn-label\">Rollback cell</span>\n",
       "    </button>\n",
       "\n",
       "    <div style=\"display: inline-block; vertical-align: middle; padding-left: 0; padding-right: 0;\">\n",
       "      <input class=\"coq_kernel_auto_roll_back_checkbox\" type=\"checkbox\" value=\"\" onchange=\"CoqKernel.toggle_auto_roll_back(this)\" checked>\n",
       "      <label\">Auto rollback</label>\n",
       "    </div>\n",
       "</div>\n"
      ],
      "text/plain": []
     },
     "execution_count": 272,
     "metadata": {
      "coq_kernel_evaluated": true,
      "coq_kernel_execution_id": "d2ac37bc-a485-493e-b5c7-00dba2e0aeb3",
      "coq_kernel_rolled_back": false
     },
     "output_type": "execute_result"
    }
   ],
   "source": [
    "Theorem plus_1_n : forall n : nat, 1 + n  = S n.\n",
    "Proof. reflexivity. Qed."
   ]
  },
  {
   "cell_type": "markdown",
   "id": "498fc362-fbe6-4686-98c9-9d60413ff712",
   "metadata": {},
   "source": [
    "et $0 * n = 0$,"
   ]
  },
  {
   "cell_type": "code",
   "execution_count": 272,
   "id": "dd92dbd8-5917-4ee5-88ac-c17c53df25f3",
   "metadata": {},
   "outputs": [
    {
     "data": {
      "text/html": [
       "\n",
       "<div class=\"coq_kernel_output_area\">\n",
       "    <pre></pre>\n",
       "</div>\n",
       "\n",
       "<div class=\"coq_kernel_rich_cell_output coq_kernel_status_message_area\" style=\"padding: 5px 0px;\">\n",
       "    <i class=\"fa-check fa text-success\"></i>\n",
       "    <span>Cell evaluated.</span>\n",
       "</div>\n",
       "\n",
       "<div class=\"coq_kernel_rich_cell_output coq_kernel_status_message_area coq_kernel_rolled_back_status_message\" style=\"padding: 5px 0px; display: none;\">\n",
       "    <i class=\"fa-exclamation-circle fa text-info\"></i>\n",
       "    <span>Cell rolled back.</span>\n",
       "</div>\n",
       "\n",
       "<div class=\"coq_kernel_rich_cell_output coq_kernel_roll_back_controls_area\" style=\"display: none; position: relative;\">\n",
       "    <button class=\"btn btn-default btn-xs coq_kernel_roll_back_button\" onclick=\"CoqKernel.roll_back(this)\">\n",
       "        <i class=\"fa-step-backward fa\"></i>\n",
       "        <span class=\"toolbar-btn-label\">Rollback cell</span>\n",
       "    </button>\n",
       "\n",
       "    <div style=\"display: inline-block; vertical-align: middle; padding-left: 0; padding-right: 0;\">\n",
       "      <input class=\"coq_kernel_auto_roll_back_checkbox\" type=\"checkbox\" value=\"\" onchange=\"CoqKernel.toggle_auto_roll_back(this)\" checked>\n",
       "      <label\">Auto rollback</label>\n",
       "    </div>\n",
       "</div>\n"
      ],
      "text/plain": []
     },
     "execution_count": 276,
     "metadata": {
      "coq_kernel_evaluated": true,
      "coq_kernel_execution_id": "f7bc0389-10c1-46bd-b916-46c547e77fa0",
      "coq_kernel_rolled_back": false
     },
     "output_type": "execute_result"
    }
   ],
   "source": [
    "Theorem fois_0_n : forall n : nat, 0 * n  = 0.\n",
    "Proof. reflexivity. Qed."
   ]
  },
  {
   "cell_type": "markdown",
   "id": "58d396a3-aecb-4c0c-8984-36338941a732",
   "metadata": {},
   "source": [
    "Regardons maintenant des preuves un peu moins triviales,"
   ]
  },
  {
   "cell_type": "markdown",
   "id": "608042c3-d825-4091-b7e5-85f52362f486",
   "metadata": {},
   "source": [
    "Soient $n,m$ deux entiers naturels, si $n = m$, alors nous avons que $n + n = m + m $."
   ]
  },
  {
   "cell_type": "code",
   "execution_count": 276,
   "id": "79c6a999-fc3e-4c06-9b21-8fbea95f1ce3",
   "metadata": {},
   "outputs": [
    {
     "data": {
      "text/html": [
       "\n",
       "<div class=\"coq_kernel_output_area\">\n",
       "    <pre></pre>\n",
       "</div>\n",
       "\n",
       "<div class=\"coq_kernel_rich_cell_output coq_kernel_status_message_area\" style=\"padding: 5px 0px;\">\n",
       "    <i class=\"fa-check fa text-success\"></i>\n",
       "    <span>Cell evaluated.</span>\n",
       "</div>\n",
       "\n",
       "<div class=\"coq_kernel_rich_cell_output coq_kernel_status_message_area coq_kernel_rolled_back_status_message\" style=\"padding: 5px 0px; display: none;\">\n",
       "    <i class=\"fa-exclamation-circle fa text-info\"></i>\n",
       "    <span>Cell rolled back.</span>\n",
       "</div>\n",
       "\n",
       "<div class=\"coq_kernel_rich_cell_output coq_kernel_roll_back_controls_area\" style=\"display: none; position: relative;\">\n",
       "    <button class=\"btn btn-default btn-xs coq_kernel_roll_back_button\" onclick=\"CoqKernel.roll_back(this)\">\n",
       "        <i class=\"fa-step-backward fa\"></i>\n",
       "        <span class=\"toolbar-btn-label\">Rollback cell</span>\n",
       "    </button>\n",
       "\n",
       "    <div style=\"display: inline-block; vertical-align: middle; padding-left: 0; padding-right: 0;\">\n",
       "      <input class=\"coq_kernel_auto_roll_back_checkbox\" type=\"checkbox\" value=\"\" onchange=\"CoqKernel.toggle_auto_roll_back(this)\" checked>\n",
       "      <label\">Auto rollback</label>\n",
       "    </div>\n",
       "</div>\n"
      ],
      "text/plain": []
     },
     "execution_count": 283,
     "metadata": {
      "coq_kernel_evaluated": true,
      "coq_kernel_execution_id": "da65867e-569b-425e-aa44-71bdef95c4cc",
      "coq_kernel_rolled_back": false
     },
     "output_type": "execute_result"
    }
   ],
   "source": [
    "Theorem plus_id_example : forall n m : nat, n = m -> n + n = m + m.\n",
    "Proof.\n",
    "(*Introduisons les deux variables de l'énoncé*)\n",
    "intros n m.\n",
    "(*Introduisons la condition initiale*)\n",
    "intros eg.\n",
    "rewrite -> eg. reflexivity. Qed."
   ]
  },
  {
   "cell_type": "markdown",
   "id": "109c45b8-f9f4-4b50-bdf8-3fd971a55077",
   "metadata": {},
   "source": [
    "La flèche dans le \"rewrite\" sert uniquement à indiquer à Coq comment utiliser la condition \"eg\", c'est-à-dire, de gauche à droite \"->\" ou de droite à gauche \"<-\"."
   ]
  },
  {
   "cell_type": "markdown",
   "id": "7e92f2f2-7378-4595-a5ba-85030f48e9c9",
   "metadata": {},
   "source": [
    "Un autre exemple similaire, si $n,m,o$ sont des entiers naturels, alors si $n = m$ ET si $m = o$ alors nous avons que $n + m = m + o$."
   ]
  },
  {
   "cell_type": "code",
   "execution_count": 283,
   "id": "7870071e-93ad-4e8b-9277-906f4bb3822e",
   "metadata": {},
   "outputs": [
    {
     "data": {
      "text/html": [
       "\n",
       "<div class=\"coq_kernel_output_area\">\n",
       "    <pre></pre>\n",
       "</div>\n",
       "\n",
       "<div class=\"coq_kernel_rich_cell_output coq_kernel_status_message_area\" style=\"padding: 5px 0px;\">\n",
       "    <i class=\"fa-check fa text-success\"></i>\n",
       "    <span>Cell evaluated.</span>\n",
       "</div>\n",
       "\n",
       "<div class=\"coq_kernel_rich_cell_output coq_kernel_status_message_area coq_kernel_rolled_back_status_message\" style=\"padding: 5px 0px; display: none;\">\n",
       "    <i class=\"fa-exclamation-circle fa text-info\"></i>\n",
       "    <span>Cell rolled back.</span>\n",
       "</div>\n",
       "\n",
       "<div class=\"coq_kernel_rich_cell_output coq_kernel_roll_back_controls_area\" style=\"display: none; position: relative;\">\n",
       "    <button class=\"btn btn-default btn-xs coq_kernel_roll_back_button\" onclick=\"CoqKernel.roll_back(this)\">\n",
       "        <i class=\"fa-step-backward fa\"></i>\n",
       "        <span class=\"toolbar-btn-label\">Rollback cell</span>\n",
       "    </button>\n",
       "\n",
       "    <div style=\"display: inline-block; vertical-align: middle; padding-left: 0; padding-right: 0;\">\n",
       "      <input class=\"coq_kernel_auto_roll_back_checkbox\" type=\"checkbox\" value=\"\" onchange=\"CoqKernel.toggle_auto_roll_back(this)\" checked>\n",
       "      <label\">Auto rollback</label>\n",
       "    </div>\n",
       "</div>\n"
      ],
      "text/plain": []
     },
     "execution_count": 291,
     "metadata": {
      "coq_kernel_evaluated": true,
      "coq_kernel_execution_id": "fe1ba9f0-4a93-44d2-97fd-f8c1d1d513c2",
      "coq_kernel_rolled_back": false
     },
     "output_type": "execute_result"
    }
   ],
   "source": [
    "Theorem plus_id_exercice : forall n m o : nat,\n",
    "  n = m -> m = o -> n + m = m + o.\n",
    "Proof.\n",
    "  intros n m o.\n",
    "  intros eg1 eg2.\n",
    "  rewrite eg1.\n",
    "  rewrite <- eg2.\n",
    "  reflexivity.\n",
    "Qed."
   ]
  },
  {
   "cell_type": "markdown",
   "id": "f8a4796e-bbd7-470e-a288-0eace2fb7a94",
   "metadata": {},
   "source": [
    "Notons que la commande \"Check\" nous permet de voir les affirmations des théorèmes précédents."
   ]
  },
  {
   "cell_type": "code",
   "execution_count": 291,
   "id": "27578413-f545-4515-8b3b-eeae79982e05",
   "metadata": {},
   "outputs": [
    {
     "data": {
      "text/html": [
       "\n",
       "<div class=\"coq_kernel_output_area\">\n",
       "    <pre>mult_n_O\n",
       "     : forall n : nat, 0 = Nat.mul n 0</pre>\n",
       "</div>\n",
       "\n",
       "<div class=\"coq_kernel_rich_cell_output coq_kernel_status_message_area\" style=\"padding: 5px 0px;\">\n",
       "    <i class=\"fa-check fa text-success\"></i>\n",
       "    <span>Cell evaluated.</span>\n",
       "</div>\n",
       "\n",
       "<div class=\"coq_kernel_rich_cell_output coq_kernel_status_message_area coq_kernel_rolled_back_status_message\" style=\"padding: 5px 0px; display: none;\">\n",
       "    <i class=\"fa-exclamation-circle fa text-info\"></i>\n",
       "    <span>Cell rolled back.</span>\n",
       "</div>\n",
       "\n",
       "<div class=\"coq_kernel_rich_cell_output coq_kernel_roll_back_controls_area\" style=\"display: none; position: relative;\">\n",
       "    <button class=\"btn btn-default btn-xs coq_kernel_roll_back_button\" onclick=\"CoqKernel.roll_back(this)\">\n",
       "        <i class=\"fa-step-backward fa\"></i>\n",
       "        <span class=\"toolbar-btn-label\">Rollback cell</span>\n",
       "    </button>\n",
       "\n",
       "    <div style=\"display: inline-block; vertical-align: middle; padding-left: 0; padding-right: 0;\">\n",
       "      <input class=\"coq_kernel_auto_roll_back_checkbox\" type=\"checkbox\" value=\"\" onchange=\"CoqKernel.toggle_auto_roll_back(this)\" checked>\n",
       "      <label\">Auto rollback</label>\n",
       "    </div>\n",
       "</div>\n"
      ],
      "text/plain": [
       "mult_n_O\n",
       "     : forall n : nat, 0 = Nat.mul n 0"
      ]
     },
     "execution_count": 292,
     "metadata": {
      "coq_kernel_evaluated": true,
      "coq_kernel_execution_id": "3967cef8-6756-46a6-9063-b8ccf15b7371",
      "coq_kernel_rolled_back": false
     },
     "output_type": "execute_result"
    }
   ],
   "source": [
    "Check mult_n_O."
   ]
  },
  {
   "cell_type": "markdown",
   "id": "b3d8b8e8-c8cf-4e7a-b483-0bc7e89f36c2",
   "metadata": {},
   "source": [
    "Notons de plus qu'il est facilement possible de réutiliser un théorème précédent avec rewrite."
   ]
  },
  {
   "cell_type": "code",
   "execution_count": 292,
   "id": "2fa9a217-3749-4cce-b2a3-2c7221a31b8f",
   "metadata": {},
   "outputs": [
    {
     "data": {
      "text/html": [
       "\n",
       "<div class=\"coq_kernel_output_area\">\n",
       "    <pre></pre>\n",
       "</div>\n",
       "\n",
       "<div class=\"coq_kernel_rich_cell_output coq_kernel_status_message_area\" style=\"padding: 5px 0px;\">\n",
       "    <i class=\"fa-check fa text-success\"></i>\n",
       "    <span>Cell evaluated.</span>\n",
       "</div>\n",
       "\n",
       "<div class=\"coq_kernel_rich_cell_output coq_kernel_status_message_area coq_kernel_rolled_back_status_message\" style=\"padding: 5px 0px; display: none;\">\n",
       "    <i class=\"fa-exclamation-circle fa text-info\"></i>\n",
       "    <span>Cell rolled back.</span>\n",
       "</div>\n",
       "\n",
       "<div class=\"coq_kernel_rich_cell_output coq_kernel_roll_back_controls_area\" style=\"display: none; position: relative;\">\n",
       "    <button class=\"btn btn-default btn-xs coq_kernel_roll_back_button\" onclick=\"CoqKernel.roll_back(this)\">\n",
       "        <i class=\"fa-step-backward fa\"></i>\n",
       "        <span class=\"toolbar-btn-label\">Rollback cell</span>\n",
       "    </button>\n",
       "\n",
       "    <div style=\"display: inline-block; vertical-align: middle; padding-left: 0; padding-right: 0;\">\n",
       "      <input class=\"coq_kernel_auto_roll_back_checkbox\" type=\"checkbox\" value=\"\" onchange=\"CoqKernel.toggle_auto_roll_back(this)\" checked>\n",
       "      <label\">Auto rollback</label>\n",
       "    </div>\n",
       "</div>\n"
      ],
      "text/plain": []
     },
     "execution_count": 308,
     "metadata": {
      "coq_kernel_evaluated": true,
      "coq_kernel_execution_id": "bdd3c198-3964-48c7-a9de-c874078527e0",
      "coq_kernel_rolled_back": false
     },
     "output_type": "execute_result"
    }
   ],
   "source": [
    "Theorem fois_n_0 : forall n : nat, n * 0 = 0.\n",
    "Proof.\n",
    "  intros n.\n",
    "  induction n.\n",
    "  reflexivity.\n",
    "  simpl.\n",
    "  (* Utilisons l'hypothèse de récurrence *)\n",
    "  rewrite IHn.\n",
    "  reflexivity.\n",
    "Qed.\n",
    "\n",
    "Theorem fois_p_0_q_0 : forall p q : nat, (p * 0) + (q * 0) = 0.\n",
    "Proof.\n",
    "  intros p q.\n",
    "  rewrite fois_n_0.\n",
    "  rewrite fois_n_0.\n",
    "  reflexivity. \n",
    "Qed."
   ]
  },
  {
   "cell_type": "markdown",
   "id": "d36898a6-6fe8-4e65-89a8-1d36b5f52437",
   "metadata": {},
   "source": [
    "En utilisant les deux propriétés déjà implémentées \"mult_n_Sm\" et \"mult_n_O\", nous pouvons prouver que pour tout naturel $p$, nous avons $p*1 = p$."
   ]
  },
  {
   "cell_type": "code",
   "execution_count": 308,
   "id": "34463f7e-a6c6-4cac-ba9e-294dfe738aaa",
   "metadata": {},
   "outputs": [
    {
     "data": {
      "text/html": [
       "\n",
       "<div class=\"coq_kernel_output_area\">\n",
       "    <pre>mult_n_Sm\n",
       "     : forall n m : nat, Nat.add (Nat.mul n m) n = Nat.mul n (S m)\n",
       "\n",
       "mult_n_O\n",
       "     : forall n : nat, 0 = Nat.mul n 0</pre>\n",
       "</div>\n",
       "\n",
       "<div class=\"coq_kernel_rich_cell_output coq_kernel_status_message_area\" style=\"padding: 5px 0px;\">\n",
       "    <i class=\"fa-check fa text-success\"></i>\n",
       "    <span>Cell evaluated.</span>\n",
       "</div>\n",
       "\n",
       "<div class=\"coq_kernel_rich_cell_output coq_kernel_status_message_area coq_kernel_rolled_back_status_message\" style=\"padding: 5px 0px; display: none;\">\n",
       "    <i class=\"fa-exclamation-circle fa text-info\"></i>\n",
       "    <span>Cell rolled back.</span>\n",
       "</div>\n",
       "\n",
       "<div class=\"coq_kernel_rich_cell_output coq_kernel_roll_back_controls_area\" style=\"display: none; position: relative;\">\n",
       "    <button class=\"btn btn-default btn-xs coq_kernel_roll_back_button\" onclick=\"CoqKernel.roll_back(this)\">\n",
       "        <i class=\"fa-step-backward fa\"></i>\n",
       "        <span class=\"toolbar-btn-label\">Rollback cell</span>\n",
       "    </button>\n",
       "\n",
       "    <div style=\"display: inline-block; vertical-align: middle; padding-left: 0; padding-right: 0;\">\n",
       "      <input class=\"coq_kernel_auto_roll_back_checkbox\" type=\"checkbox\" value=\"\" onchange=\"CoqKernel.toggle_auto_roll_back(this)\" checked>\n",
       "      <label\">Auto rollback</label>\n",
       "    </div>\n",
       "</div>\n"
      ],
      "text/plain": [
       "mult_n_Sm\n",
       "     : forall n m : nat, Nat.add (Nat.mul n m) n = Nat.mul n (S m)\n",
       "\n",
       "mult_n_O\n",
       "     : forall n : nat, 0 = Nat.mul n 0"
      ]
     },
     "execution_count": 317,
     "metadata": {
      "coq_kernel_evaluated": true,
      "coq_kernel_execution_id": "844d8912-fa48-48ca-8ace-71489bbf7eb7",
      "coq_kernel_rolled_back": false
     },
     "output_type": "execute_result"
    }
   ],
   "source": [
    "Check mult_n_Sm.\n",
    "Check mult_n_O.\n",
    "\n",
    "\n",
    "Theorem mult_n_1 : forall p : nat,\n",
    "  p * 1 = p.\n",
    "Proof.\n",
    "  intros p.\n",
    "  rewrite <- mult_n_Sm.\n",
    "  rewrite <- mult_n_O.\n",
    "  reflexivity.\n",
    "Qed. \n"
   ]
  },
  {
   "cell_type": "markdown",
   "id": "d15fca5b-7273-47e8-adc0-29d658e78d7e",
   "metadata": {},
   "source": [
    "Un autre outil utile dans les preuves sera la commande destruct, elle permet de traiter différents cas."
   ]
  },
  {
   "cell_type": "code",
   "execution_count": 326,
   "id": "da4414b7-360b-4dbf-ac9b-c128e3265ad5",
   "metadata": {},
   "outputs": [
    {
     "data": {
      "text/html": [
       "\n",
       "<div class=\"coq_kernel_output_area\">\n",
       "    <pre></pre>\n",
       "</div>\n",
       "\n",
       "<div class=\"coq_kernel_rich_cell_output coq_kernel_status_message_area\" style=\"padding: 5px 0px;\">\n",
       "    <i class=\"fa-check fa text-success\"></i>\n",
       "    <span>Cell evaluated.</span>\n",
       "</div>\n",
       "\n",
       "<div class=\"coq_kernel_rich_cell_output coq_kernel_status_message_area coq_kernel_rolled_back_status_message\" style=\"padding: 5px 0px; display: none;\">\n",
       "    <i class=\"fa-exclamation-circle fa text-info\"></i>\n",
       "    <span>Cell rolled back.</span>\n",
       "</div>\n",
       "\n",
       "<div class=\"coq_kernel_rich_cell_output coq_kernel_roll_back_controls_area\" style=\"display: none; position: relative;\">\n",
       "    <button class=\"btn btn-default btn-xs coq_kernel_roll_back_button\" onclick=\"CoqKernel.roll_back(this)\">\n",
       "        <i class=\"fa-step-backward fa\"></i>\n",
       "        <span class=\"toolbar-btn-label\">Rollback cell</span>\n",
       "    </button>\n",
       "\n",
       "    <div style=\"display: inline-block; vertical-align: middle; padding-left: 0; padding-right: 0;\">\n",
       "      <input class=\"coq_kernel_auto_roll_back_checkbox\" type=\"checkbox\" value=\"\" onchange=\"CoqKernel.toggle_auto_roll_back(this)\" checked>\n",
       "      <label\">Auto rollback</label>\n",
       "    </div>\n",
       "</div>\n"
      ],
      "text/plain": []
     },
     "execution_count": 344,
     "metadata": {
      "coq_kernel_evaluated": true,
      "coq_kernel_execution_id": "03c29263-6b9c-4298-995f-6805c3617c63",
      "coq_kernel_rolled_back": false
     },
     "output_type": "execute_result"
    }
   ],
   "source": [
    "Theorem n_plus_1_neq_0 : forall n : nat,\n",
    "  eqb (n + 1) 0 = false.\n",
    "Proof.\n",
    "  intros n. destruct n as [| n'] eqn:E.\n",
    "  - reflexivity.\n",
    "  - reflexivity. \n",
    "Qed."
   ]
  },
  {
   "cell_type": "markdown",
   "id": "7b920992-b5c7-4d3f-ba27-2bb356597e8a",
   "metadata": {},
   "source": [
    "Regardons directement cet exemple, nous souhaitons prouver que pour tout $n$, entier naturel, nous avons $n + 1 \\neq 0$. Étant donné la construction délicate de nos naturels, il faut séparer en plusieurs cas si nous souhaitons nous en sortir, un simple reflexivity ne marchera pas (essayez !).\n",
    "Pour cela, grâce à la commande destruct, il est possible de séparer $n$ en deux cas, l'un où il est nul, qui est notre premier cas de la construction de $n$, et l'autre où il est supérieur à 0, c'est-à-dire qu'il existe $n'$ un entier naturel tel que $n = Sn'$. Dès lors, nous listons les cas : \n",
    "- Si $n =  0$ alors $0 + 1 =? 0 => 1 =? 0 =>$ Conclusion par réfléxivité.\n",
    "- Si $n = Sn'$ alors $Sn' + 1 =? 0 => S(n' + 1) =? 0$ Conclusion analogue."
   ]
  },
  {
   "cell_type": "code",
   "execution_count": null,
   "id": "a7588523-7ef3-4be4-abd3-cfd8b89ece17",
   "metadata": {},
   "outputs": [],
   "source": []
  }
 ],
 "metadata": {
  "kernelspec": {
   "display_name": "Coq",
   "language": "coq",
   "name": "coq"
  },
  "language_info": {
   "file_extension": ".v",
   "mimetype": "text/x-coq",
   "name": "coq",
   "version": "8.16.1"
  }
 },
 "nbformat": 4,
 "nbformat_minor": 5
}
