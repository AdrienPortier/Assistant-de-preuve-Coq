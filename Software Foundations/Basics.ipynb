{
 "cells": [
  {
   "cell_type": "markdown",
   "id": "64cad4fc-3da4-4ed3-8758-cea437c2ac9e",
   "metadata": {},
   "source": [
    "## Adrien Portier\n",
    "<h1><center>  Software Foundations - Logical Foundations (1) <br>\n",
    " Basics </center></h1>\n"
   ]
  },
  {
   "cell_type": "markdown",
   "id": "113d5535-36ad-4f96-8a89-5c6d73053ea2",
   "metadata": {},
   "source": [
    "Nous pouvons créer le type jour en énumérant tous ses éléments : "
   ]
  },
  {
   "cell_type": "code",
   "execution_count": 1,
   "id": "0b66570b-22e6-45a6-bd56-0d16fbe8abfc",
   "metadata": {},
   "outputs": [
    {
     "data": {
      "text/html": [
       "\n",
       "<div class=\"coq_kernel_output_area\">\n",
       "    <pre></pre>\n",
       "</div>\n",
       "\n",
       "<div class=\"coq_kernel_rich_cell_output coq_kernel_status_message_area\" style=\"padding: 5px 0px;\">\n",
       "    <i class=\"fa-check fa text-success\"></i>\n",
       "    <span>Cell evaluated.</span>\n",
       "</div>\n",
       "\n",
       "<div class=\"coq_kernel_rich_cell_output coq_kernel_status_message_area coq_kernel_rolled_back_status_message\" style=\"padding: 5px 0px; display: none;\">\n",
       "    <i class=\"fa-exclamation-circle fa text-info\"></i>\n",
       "    <span>Cell rolled back.</span>\n",
       "</div>\n",
       "\n",
       "<div class=\"coq_kernel_rich_cell_output coq_kernel_roll_back_controls_area\" style=\"display: none; position: relative;\">\n",
       "    <button class=\"btn btn-default btn-xs coq_kernel_roll_back_button\" onclick=\"CoqKernel.roll_back(this)\">\n",
       "        <i class=\"fa-step-backward fa\"></i>\n",
       "        <span class=\"toolbar-btn-label\">Rollback cell</span>\n",
       "    </button>\n",
       "\n",
       "    <div style=\"display: inline-block; vertical-align: middle; padding-left: 0; padding-right: 0;\">\n",
       "      <input class=\"coq_kernel_auto_roll_back_checkbox\" type=\"checkbox\" value=\"\" onchange=\"CoqKernel.toggle_auto_roll_back(this)\" checked>\n",
       "      <label\">Auto rollback</label>\n",
       "    </div>\n",
       "</div>\n"
      ],
      "text/plain": []
     },
     "execution_count": 2,
     "metadata": {
      "coq_kernel_evaluated": true,
      "coq_kernel_execution_id": "9611e28b-23ab-45f3-9310-e2980c8039e1",
      "coq_kernel_rolled_back": false
     },
     "output_type": "execute_result"
    }
   ],
   "source": [
    "Inductive jour : Type :=\n",
    "| Lundi\n",
    "| Mardi\n",
    "| Mercredi\n",
    "| Jeudi\n",
    "| Vendredi\n",
    "| Samedi\n",
    "| Dimanche."
   ]
  },
  {
   "cell_type": "code",
   "execution_count": null,
   "id": "9afae56a-b288-4c45-b413-0c9feea10e69",
   "metadata": {},
   "outputs": [],
   "source": []
  }
 ],
 "metadata": {
  "kernelspec": {
   "display_name": "Coq",
   "language": "coq",
   "name": "coq"
  },
  "language_info": {
   "file_extension": ".v",
   "mimetype": "text/x-coq",
   "name": "coq",
   "version": "8.16.1"
  }
 },
 "nbformat": 4,
 "nbformat_minor": 5
}
