{
 "cells": [
  {
   "cell_type": "markdown",
   "id": "64cad4fc-3da4-4ed3-8758-cea437c2ac9e",
   "metadata": {},
   "source": [
    "## Adrien Portier\n",
    "<h1><center>  Software Foundations - Logical Foundations (1) <br>\n",
    " Basics </center></h1>\n"
   ]
  },
  {
   "cell_type": "code",
   "execution_count": null,
   "id": "0f4781e4-49aa-4614-bff0-16390391dfdf",
   "metadata": {},
   "outputs": [],
   "source": []
  }
 ],
 "metadata": {
  "kernelspec": {
   "display_name": "Coq",
   "language": "coq",
   "name": "coq"
  },
  "language_info": {
   "file_extension": ".v",
   "mimetype": "text/x-coq",
   "name": "coq",
   "version": "8.16.1"
  }
 },
 "nbformat": 4,
 "nbformat_minor": 5
}
