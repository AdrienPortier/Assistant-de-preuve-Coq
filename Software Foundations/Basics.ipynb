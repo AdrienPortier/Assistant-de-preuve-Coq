{
 "cells": [
  {
   "cell_type": "markdown",
   "id": "64cad4fc-3da4-4ed3-8758-cea437c2ac9e",
   "metadata": {},
   "source": [
    "## Adrien Portier\n",
    "<h1><center>  Software Foundations - Logical Foundations (1) <br>\n",
    " Basics </center></h1>\n"
   ]
  },
  {
   "cell_type": "markdown",
   "id": "e493ccb5-3768-4e54-9b19-cf3598bf63f4",
   "metadata": {},
   "source": [
    "<h1><center>  Table des matières </center></h1>\n",
    "\n",
    "# [Manipulation d'un type inductive de base (jours)](#jours)\n",
    "# [Booléens](#booléens)"
   ]
  },
  {
   "cell_type": "markdown",
   "id": "bd2fd4d4-d624-4ccb-8fdb-3728f7ece9b8",
   "metadata": {},
   "source": [
    "***\n",
    "<a id='jours'></a>\n",
    "# Manipulation d'un type inductive de base (jours)"
   ]
  },
  {
   "cell_type": "markdown",
   "id": "113d5535-36ad-4f96-8a89-5c6d73053ea2",
   "metadata": {},
   "source": [
    "Nous pouvons créer le type jour en énumérant tous ses éléments : "
   ]
  },
  {
   "cell_type": "code",
   "execution_count": 1,
   "id": "0b66570b-22e6-45a6-bd56-0d16fbe8abfc",
   "metadata": {},
   "outputs": [
    {
     "data": {
      "text/html": [
       "\n",
       "<div class=\"coq_kernel_output_area\">\n",
       "    <pre></pre>\n",
       "</div>\n",
       "\n",
       "<div class=\"coq_kernel_rich_cell_output coq_kernel_status_message_area\" style=\"padding: 5px 0px;\">\n",
       "    <i class=\"fa-check fa text-success\"></i>\n",
       "    <span>Cell evaluated.</span>\n",
       "</div>\n",
       "\n",
       "<div class=\"coq_kernel_rich_cell_output coq_kernel_status_message_area coq_kernel_rolled_back_status_message\" style=\"padding: 5px 0px; display: none;\">\n",
       "    <i class=\"fa-exclamation-circle fa text-info\"></i>\n",
       "    <span>Cell rolled back.</span>\n",
       "</div>\n",
       "\n",
       "<div class=\"coq_kernel_rich_cell_output coq_kernel_roll_back_controls_area\" style=\"display: none; position: relative;\">\n",
       "    <button class=\"btn btn-default btn-xs coq_kernel_roll_back_button\" onclick=\"CoqKernel.roll_back(this)\">\n",
       "        <i class=\"fa-step-backward fa\"></i>\n",
       "        <span class=\"toolbar-btn-label\">Rollback cell</span>\n",
       "    </button>\n",
       "\n",
       "    <div style=\"display: inline-block; vertical-align: middle; padding-left: 0; padding-right: 0;\">\n",
       "      <input class=\"coq_kernel_auto_roll_back_checkbox\" type=\"checkbox\" value=\"\" onchange=\"CoqKernel.toggle_auto_roll_back(this)\" checked>\n",
       "      <label\">Auto rollback</label>\n",
       "    </div>\n",
       "</div>\n"
      ],
      "text/plain": []
     },
     "execution_count": 2,
     "metadata": {
      "coq_kernel_evaluated": true,
      "coq_kernel_execution_id": "27fae045-83b9-43b7-80aa-521c532fc88b",
      "coq_kernel_rolled_back": false
     },
     "output_type": "execute_result"
    }
   ],
   "source": [
    "Inductive jour : Type :=\n",
    "| Lundi\n",
    "| Mardi\n",
    "| Mercredi\n",
    "| Jeudi\n",
    "| Vendredi\n",
    "| Samedi\n",
    "| Dimanche."
   ]
  },
  {
   "cell_type": "markdown",
   "id": "5bcd86b5-eaac-4f84-b697-acaae44ff7f3",
   "metadata": {},
   "source": [
    "Avec ce type \"jour\", on peut construire une fonction qui associe à un jour, le prochain jour :"
   ]
  },
  {
   "cell_type": "code",
   "execution_count": 2,
   "id": "b0da7a39-eba9-47ee-91a2-ef921e3f389a",
   "metadata": {},
   "outputs": [
    {
     "data": {
      "text/html": [
       "\n",
       "<div class=\"coq_kernel_output_area\">\n",
       "    <pre></pre>\n",
       "</div>\n",
       "\n",
       "<div class=\"coq_kernel_rich_cell_output coq_kernel_status_message_area\" style=\"padding: 5px 0px;\">\n",
       "    <i class=\"fa-check fa text-success\"></i>\n",
       "    <span>Cell evaluated.</span>\n",
       "</div>\n",
       "\n",
       "<div class=\"coq_kernel_rich_cell_output coq_kernel_status_message_area coq_kernel_rolled_back_status_message\" style=\"padding: 5px 0px; display: none;\">\n",
       "    <i class=\"fa-exclamation-circle fa text-info\"></i>\n",
       "    <span>Cell rolled back.</span>\n",
       "</div>\n",
       "\n",
       "<div class=\"coq_kernel_rich_cell_output coq_kernel_roll_back_controls_area\" style=\"display: none; position: relative;\">\n",
       "    <button class=\"btn btn-default btn-xs coq_kernel_roll_back_button\" onclick=\"CoqKernel.roll_back(this)\">\n",
       "        <i class=\"fa-step-backward fa\"></i>\n",
       "        <span class=\"toolbar-btn-label\">Rollback cell</span>\n",
       "    </button>\n",
       "\n",
       "    <div style=\"display: inline-block; vertical-align: middle; padding-left: 0; padding-right: 0;\">\n",
       "      <input class=\"coq_kernel_auto_roll_back_checkbox\" type=\"checkbox\" value=\"\" onchange=\"CoqKernel.toggle_auto_roll_back(this)\" checked>\n",
       "      <label\">Auto rollback</label>\n",
       "    </div>\n",
       "</div>\n"
      ],
      "text/plain": []
     },
     "execution_count": 3,
     "metadata": {
      "coq_kernel_evaluated": true,
      "coq_kernel_execution_id": "e65f00d7-7cb5-4bda-abe3-dfa5d1f1174f",
      "coq_kernel_rolled_back": false
     },
     "output_type": "execute_result"
    }
   ],
   "source": [
    "Definition prochain(d : jour) : jour :=\n",
    "match d with \n",
    "| Lundi => Mardi\n",
    "| Mardi => Mercredi\n",
    "| Mercredi => Jeudi\n",
    "| Jeudi => Vendredi\n",
    "| Vendredi => Samedi\n",
    "| Samedi => Dimanche\n",
    "| Dimanche => Lundi\n",
    "end."
   ]
  },
  {
   "cell_type": "markdown",
   "id": "739139c9-8d57-4656-a8a2-04ff8e1511f8",
   "metadata": {},
   "source": [
    "Quel est le jour qui vient après Lundi ?"
   ]
  },
  {
   "cell_type": "code",
   "execution_count": 3,
   "id": "3a4d51ad-5dc3-4c8a-8142-ea111bb98329",
   "metadata": {},
   "outputs": [
    {
     "data": {
      "text/html": [
       "\n",
       "<div class=\"coq_kernel_output_area\">\n",
       "    <pre>     = Mardi\n",
       "     : jour</pre>\n",
       "</div>\n",
       "\n",
       "<div class=\"coq_kernel_rich_cell_output coq_kernel_status_message_area\" style=\"padding: 5px 0px;\">\n",
       "    <i class=\"fa-check fa text-success\"></i>\n",
       "    <span>Cell evaluated.</span>\n",
       "</div>\n",
       "\n",
       "<div class=\"coq_kernel_rich_cell_output coq_kernel_status_message_area coq_kernel_rolled_back_status_message\" style=\"padding: 5px 0px; display: none;\">\n",
       "    <i class=\"fa-exclamation-circle fa text-info\"></i>\n",
       "    <span>Cell rolled back.</span>\n",
       "</div>\n",
       "\n",
       "<div class=\"coq_kernel_rich_cell_output coq_kernel_roll_back_controls_area\" style=\"display: none; position: relative;\">\n",
       "    <button class=\"btn btn-default btn-xs coq_kernel_roll_back_button\" onclick=\"CoqKernel.roll_back(this)\">\n",
       "        <i class=\"fa-step-backward fa\"></i>\n",
       "        <span class=\"toolbar-btn-label\">Rollback cell</span>\n",
       "    </button>\n",
       "\n",
       "    <div style=\"display: inline-block; vertical-align: middle; padding-left: 0; padding-right: 0;\">\n",
       "      <input class=\"coq_kernel_auto_roll_back_checkbox\" type=\"checkbox\" value=\"\" onchange=\"CoqKernel.toggle_auto_roll_back(this)\" checked>\n",
       "      <label\">Auto rollback</label>\n",
       "    </div>\n",
       "</div>\n"
      ],
      "text/plain": [
       "     = Mardi\n",
       "     : jour"
      ]
     },
     "execution_count": 4,
     "metadata": {
      "coq_kernel_evaluated": true,
      "coq_kernel_execution_id": "57ab9d87-2fcb-487a-8c94-3b1569f1951a",
      "coq_kernel_rolled_back": false
     },
     "output_type": "execute_result"
    }
   ],
   "source": [
    "Compute(prochain Lundi)."
   ]
  },
  {
   "cell_type": "markdown",
   "id": "217bf94d-9a5c-470d-b575-e2a716bc0e05",
   "metadata": {},
   "source": [
    "Quel est le jour après celui qui vient après Mercredi ?"
   ]
  },
  {
   "cell_type": "code",
   "execution_count": 4,
   "id": "4f21e0c9-13d0-45a0-ae8f-4e562fed4fb8",
   "metadata": {},
   "outputs": [
    {
     "data": {
      "text/html": [
       "\n",
       "<div class=\"coq_kernel_output_area\">\n",
       "    <pre>     = Vendredi\n",
       "     : jour</pre>\n",
       "</div>\n",
       "\n",
       "<div class=\"coq_kernel_rich_cell_output coq_kernel_status_message_area\" style=\"padding: 5px 0px;\">\n",
       "    <i class=\"fa-check fa text-success\"></i>\n",
       "    <span>Cell evaluated.</span>\n",
       "</div>\n",
       "\n",
       "<div class=\"coq_kernel_rich_cell_output coq_kernel_status_message_area coq_kernel_rolled_back_status_message\" style=\"padding: 5px 0px; display: none;\">\n",
       "    <i class=\"fa-exclamation-circle fa text-info\"></i>\n",
       "    <span>Cell rolled back.</span>\n",
       "</div>\n",
       "\n",
       "<div class=\"coq_kernel_rich_cell_output coq_kernel_roll_back_controls_area\" style=\"display: none; position: relative;\">\n",
       "    <button class=\"btn btn-default btn-xs coq_kernel_roll_back_button\" onclick=\"CoqKernel.roll_back(this)\">\n",
       "        <i class=\"fa-step-backward fa\"></i>\n",
       "        <span class=\"toolbar-btn-label\">Rollback cell</span>\n",
       "    </button>\n",
       "\n",
       "    <div style=\"display: inline-block; vertical-align: middle; padding-left: 0; padding-right: 0;\">\n",
       "      <input class=\"coq_kernel_auto_roll_back_checkbox\" type=\"checkbox\" value=\"\" onchange=\"CoqKernel.toggle_auto_roll_back(this)\" checked>\n",
       "      <label\">Auto rollback</label>\n",
       "    </div>\n",
       "</div>\n"
      ],
      "text/plain": [
       "     = Vendredi\n",
       "     : jour"
      ]
     },
     "execution_count": 5,
     "metadata": {
      "coq_kernel_evaluated": true,
      "coq_kernel_execution_id": "8454def6-b188-46d3-b086-79c66d7fc8a1",
      "coq_kernel_rolled_back": false
     },
     "output_type": "execute_result"
    }
   ],
   "source": [
    "Compute(prochain(prochain(Mercredi)))."
   ]
  },
  {
   "cell_type": "markdown",
   "id": "79261d83-f394-4056-a3f8-28378056e7b6",
   "metadata": {},
   "source": [
    "Quel est le jour après celui qui vient après celui qui vient après Samedi ?"
   ]
  },
  {
   "cell_type": "code",
   "execution_count": 5,
   "id": "162eff47-a8cf-4fe5-801b-f048df230ea6",
   "metadata": {},
   "outputs": [
    {
     "data": {
      "text/html": [
       "\n",
       "<div class=\"coq_kernel_output_area\">\n",
       "    <pre>     = Mardi\n",
       "     : jour</pre>\n",
       "</div>\n",
       "\n",
       "<div class=\"coq_kernel_rich_cell_output coq_kernel_status_message_area\" style=\"padding: 5px 0px;\">\n",
       "    <i class=\"fa-check fa text-success\"></i>\n",
       "    <span>Cell evaluated.</span>\n",
       "</div>\n",
       "\n",
       "<div class=\"coq_kernel_rich_cell_output coq_kernel_status_message_area coq_kernel_rolled_back_status_message\" style=\"padding: 5px 0px; display: none;\">\n",
       "    <i class=\"fa-exclamation-circle fa text-info\"></i>\n",
       "    <span>Cell rolled back.</span>\n",
       "</div>\n",
       "\n",
       "<div class=\"coq_kernel_rich_cell_output coq_kernel_roll_back_controls_area\" style=\"display: none; position: relative;\">\n",
       "    <button class=\"btn btn-default btn-xs coq_kernel_roll_back_button\" onclick=\"CoqKernel.roll_back(this)\">\n",
       "        <i class=\"fa-step-backward fa\"></i>\n",
       "        <span class=\"toolbar-btn-label\">Rollback cell</span>\n",
       "    </button>\n",
       "\n",
       "    <div style=\"display: inline-block; vertical-align: middle; padding-left: 0; padding-right: 0;\">\n",
       "      <input class=\"coq_kernel_auto_roll_back_checkbox\" type=\"checkbox\" value=\"\" onchange=\"CoqKernel.toggle_auto_roll_back(this)\" checked>\n",
       "      <label\">Auto rollback</label>\n",
       "    </div>\n",
       "</div>\n"
      ],
      "text/plain": [
       "     = Mardi\n",
       "     : jour"
      ]
     },
     "execution_count": 6,
     "metadata": {
      "coq_kernel_evaluated": true,
      "coq_kernel_execution_id": "deca9908-b831-444e-8b22-ef87df331fa6",
      "coq_kernel_rolled_back": false
     },
     "output_type": "execute_result"
    }
   ],
   "source": [
    "Compute(prochain(prochain(prochain(Samedi))))."
   ]
  },
  {
   "cell_type": "markdown",
   "id": "87390fc3-ad37-49bc-8632-c76665482d11",
   "metadata": {},
   "source": [
    "Nous voulons vérifier que si on est Samedi, alors après-demain est Lundi : "
   ]
  },
  {
   "cell_type": "code",
   "execution_count": 6,
   "id": "6b3b28c9-dad9-4716-bee6-2c86d1ce4c36",
   "metadata": {},
   "outputs": [
    {
     "data": {
      "text/html": [
       "\n",
       "<div class=\"coq_kernel_output_area\">\n",
       "    <pre>Proving: test_prochain_jour\n",
       "\n",
       "1 subgoal\n",
       "\n",
       "-------------- (1/1)\n",
       "prochain (prochain Samedi) = Lundi</pre>\n",
       "</div>\n",
       "\n",
       "<div class=\"coq_kernel_rich_cell_output coq_kernel_status_message_area\" style=\"padding: 5px 0px;\">\n",
       "    <i class=\"fa-check fa text-success\"></i>\n",
       "    <span>Cell evaluated.</span>\n",
       "</div>\n",
       "\n",
       "<div class=\"coq_kernel_rich_cell_output coq_kernel_status_message_area coq_kernel_rolled_back_status_message\" style=\"padding: 5px 0px; display: none;\">\n",
       "    <i class=\"fa-exclamation-circle fa text-info\"></i>\n",
       "    <span>Cell rolled back.</span>\n",
       "</div>\n",
       "\n",
       "<div class=\"coq_kernel_rich_cell_output coq_kernel_roll_back_controls_area\" style=\"display: none; position: relative;\">\n",
       "    <button class=\"btn btn-default btn-xs coq_kernel_roll_back_button\" onclick=\"CoqKernel.roll_back(this)\">\n",
       "        <i class=\"fa-step-backward fa\"></i>\n",
       "        <span class=\"toolbar-btn-label\">Rollback cell</span>\n",
       "    </button>\n",
       "\n",
       "    <div style=\"display: inline-block; vertical-align: middle; padding-left: 0; padding-right: 0;\">\n",
       "      <input class=\"coq_kernel_auto_roll_back_checkbox\" type=\"checkbox\" value=\"\" onchange=\"CoqKernel.toggle_auto_roll_back(this)\" checked>\n",
       "      <label\">Auto rollback</label>\n",
       "    </div>\n",
       "</div>\n"
      ],
      "text/plain": [
       "Proving: test_prochain_jour\n",
       "\n",
       "1 subgoal\n",
       "\n",
       "-------------- (1/1)\n",
       "prochain (prochain Samedi) = Lundi"
      ]
     },
     "execution_count": 7,
     "metadata": {
      "coq_kernel_evaluated": true,
      "coq_kernel_execution_id": "801b5a7c-bbdb-4292-a687-c838e37bce4f",
      "coq_kernel_rolled_back": false
     },
     "output_type": "execute_result"
    }
   ],
   "source": [
    "Example test_prochain_jour:\n",
    "  (prochain (prochain Samedi)) = Lundi."
   ]
  },
  {
   "cell_type": "markdown",
   "id": "92fecca9-776d-424c-9923-1b4dd037be1b",
   "metadata": {},
   "source": [
    "Nous simplifions l'expression (prochain (prochain _ ) ) et par réflexivité, nous avons que Lundi = Lundi : "
   ]
  },
  {
   "cell_type": "code",
   "execution_count": 7,
   "id": "4272329c-355a-4ada-996b-6f94f2c1f06b",
   "metadata": {},
   "outputs": [
    {
     "data": {
      "text/html": [
       "\n",
       "<div class=\"coq_kernel_output_area\">\n",
       "    <pre></pre>\n",
       "</div>\n",
       "\n",
       "<div class=\"coq_kernel_rich_cell_output coq_kernel_status_message_area\" style=\"padding: 5px 0px;\">\n",
       "    <i class=\"fa-check fa text-success\"></i>\n",
       "    <span>Cell evaluated.</span>\n",
       "</div>\n",
       "\n",
       "<div class=\"coq_kernel_rich_cell_output coq_kernel_status_message_area coq_kernel_rolled_back_status_message\" style=\"padding: 5px 0px; display: none;\">\n",
       "    <i class=\"fa-exclamation-circle fa text-info\"></i>\n",
       "    <span>Cell rolled back.</span>\n",
       "</div>\n",
       "\n",
       "<div class=\"coq_kernel_rich_cell_output coq_kernel_roll_back_controls_area\" style=\"display: none; position: relative;\">\n",
       "    <button class=\"btn btn-default btn-xs coq_kernel_roll_back_button\" onclick=\"CoqKernel.roll_back(this)\">\n",
       "        <i class=\"fa-step-backward fa\"></i>\n",
       "        <span class=\"toolbar-btn-label\">Rollback cell</span>\n",
       "    </button>\n",
       "\n",
       "    <div style=\"display: inline-block; vertical-align: middle; padding-left: 0; padding-right: 0;\">\n",
       "      <input class=\"coq_kernel_auto_roll_back_checkbox\" type=\"checkbox\" value=\"\" onchange=\"CoqKernel.toggle_auto_roll_back(this)\" checked>\n",
       "      <label\">Auto rollback</label>\n",
       "    </div>\n",
       "</div>\n"
      ],
      "text/plain": []
     },
     "execution_count": 11,
     "metadata": {
      "coq_kernel_evaluated": true,
      "coq_kernel_execution_id": "3c039164-5bf7-44b9-ad3f-a62e19591e91",
      "coq_kernel_rolled_back": false
     },
     "output_type": "execute_result"
    }
   ],
   "source": [
    "Proof. simpl. reflexivity. Qed."
   ]
  },
  {
   "cell_type": "markdown",
   "id": "5bb8d489-9932-4651-b1fa-9d8484f28e9a",
   "metadata": {},
   "source": [
    "***\n",
    "<a id='booléens'></a>\n",
    "# Booléens"
   ]
  },
  {
   "cell_type": "markdown",
   "id": "37dae24e-6a72-49a5-93c2-a7e6619d3707",
   "metadata": {},
   "source": [
    "Créons le type booléen bien qu'il soit déjà implémenté dans certaines librairies,"
   ]
  },
  {
   "cell_type": "code",
   "execution_count": 11,
   "id": "2eec00de-8d84-4032-abd3-cc32202d8e88",
   "metadata": {},
   "outputs": [
    {
     "data": {
      "text/html": [
       "\n",
       "<div class=\"coq_kernel_output_area\">\n",
       "    <pre></pre>\n",
       "</div>\n",
       "\n",
       "<div class=\"coq_kernel_rich_cell_output coq_kernel_status_message_area\" style=\"padding: 5px 0px;\">\n",
       "    <i class=\"fa-check fa text-success\"></i>\n",
       "    <span>Cell evaluated.</span>\n",
       "</div>\n",
       "\n",
       "<div class=\"coq_kernel_rich_cell_output coq_kernel_status_message_area coq_kernel_rolled_back_status_message\" style=\"padding: 5px 0px; display: none;\">\n",
       "    <i class=\"fa-exclamation-circle fa text-info\"></i>\n",
       "    <span>Cell rolled back.</span>\n",
       "</div>\n",
       "\n",
       "<div class=\"coq_kernel_rich_cell_output coq_kernel_roll_back_controls_area\" style=\"display: none; position: relative;\">\n",
       "    <button class=\"btn btn-default btn-xs coq_kernel_roll_back_button\" onclick=\"CoqKernel.roll_back(this)\">\n",
       "        <i class=\"fa-step-backward fa\"></i>\n",
       "        <span class=\"toolbar-btn-label\">Rollback cell</span>\n",
       "    </button>\n",
       "\n",
       "    <div style=\"display: inline-block; vertical-align: middle; padding-left: 0; padding-right: 0;\">\n",
       "      <input class=\"coq_kernel_auto_roll_back_checkbox\" type=\"checkbox\" value=\"\" onchange=\"CoqKernel.toggle_auto_roll_back(this)\" checked>\n",
       "      <label\">Auto rollback</label>\n",
       "    </div>\n",
       "</div>\n"
      ],
      "text/plain": []
     },
     "execution_count": 12,
     "metadata": {
      "coq_kernel_evaluated": true,
      "coq_kernel_execution_id": "324d1ffe-85bc-4808-82e9-7181b18b321d",
      "coq_kernel_rolled_back": false
     },
     "output_type": "execute_result"
    }
   ],
   "source": [
    "Inductive bool : Type := \n",
    "| true\n",
    "| false."
   ]
  },
  {
   "cell_type": "markdown",
   "id": "029c277d-f99a-4f40-8d79-7a9c592c8d9f",
   "metadata": {},
   "source": [
    "et nous définissons la négation $\\neg$ par : "
   ]
  },
  {
   "cell_type": "code",
   "execution_count": 12,
   "id": "79192c3b-0619-4386-9569-92ef6e19e04e",
   "metadata": {},
   "outputs": [
    {
     "data": {
      "text/html": [
       "\n",
       "<div class=\"coq_kernel_output_area\">\n",
       "    <pre></pre>\n",
       "</div>\n",
       "\n",
       "<div class=\"coq_kernel_rich_cell_output coq_kernel_status_message_area\" style=\"padding: 5px 0px;\">\n",
       "    <i class=\"fa-check fa text-success\"></i>\n",
       "    <span>Cell evaluated.</span>\n",
       "</div>\n",
       "\n",
       "<div class=\"coq_kernel_rich_cell_output coq_kernel_status_message_area coq_kernel_rolled_back_status_message\" style=\"padding: 5px 0px; display: none;\">\n",
       "    <i class=\"fa-exclamation-circle fa text-info\"></i>\n",
       "    <span>Cell rolled back.</span>\n",
       "</div>\n",
       "\n",
       "<div class=\"coq_kernel_rich_cell_output coq_kernel_roll_back_controls_area\" style=\"display: none; position: relative;\">\n",
       "    <button class=\"btn btn-default btn-xs coq_kernel_roll_back_button\" onclick=\"CoqKernel.roll_back(this)\">\n",
       "        <i class=\"fa-step-backward fa\"></i>\n",
       "        <span class=\"toolbar-btn-label\">Rollback cell</span>\n",
       "    </button>\n",
       "\n",
       "    <div style=\"display: inline-block; vertical-align: middle; padding-left: 0; padding-right: 0;\">\n",
       "      <input class=\"coq_kernel_auto_roll_back_checkbox\" type=\"checkbox\" value=\"\" onchange=\"CoqKernel.toggle_auto_roll_back(this)\" checked>\n",
       "      <label\">Auto rollback</label>\n",
       "    </div>\n",
       "</div>\n"
      ],
      "text/plain": []
     },
     "execution_count": 13,
     "metadata": {
      "coq_kernel_evaluated": true,
      "coq_kernel_execution_id": "b74591fa-5faf-4382-9ea6-0232777c1713",
      "coq_kernel_rolled_back": false
     },
     "output_type": "execute_result"
    }
   ],
   "source": [
    "Definition negb(b : bool) : bool :=\n",
    "match b with\n",
    "| true => false\n",
    "| false => true\n",
    "end."
   ]
  },
  {
   "cell_type": "markdown",
   "id": "b526e32e-16c7-415d-9bd6-5255b8c52296",
   "metadata": {},
   "source": [
    "que nous pouvons vérifier comme précédemment, "
   ]
  },
  {
   "cell_type": "code",
   "execution_count": 13,
   "id": "91e1f011-f66a-4b67-a9cb-0b59d5381c1f",
   "metadata": {},
   "outputs": [
    {
     "data": {
      "text/html": [
       "\n",
       "<div class=\"coq_kernel_output_area\">\n",
       "    <pre></pre>\n",
       "</div>\n",
       "\n",
       "<div class=\"coq_kernel_rich_cell_output coq_kernel_status_message_area\" style=\"padding: 5px 0px;\">\n",
       "    <i class=\"fa-check fa text-success\"></i>\n",
       "    <span>Cell evaluated.</span>\n",
       "</div>\n",
       "\n",
       "<div class=\"coq_kernel_rich_cell_output coq_kernel_status_message_area coq_kernel_rolled_back_status_message\" style=\"padding: 5px 0px; display: none;\">\n",
       "    <i class=\"fa-exclamation-circle fa text-info\"></i>\n",
       "    <span>Cell rolled back.</span>\n",
       "</div>\n",
       "\n",
       "<div class=\"coq_kernel_rich_cell_output coq_kernel_roll_back_controls_area\" style=\"display: none; position: relative;\">\n",
       "    <button class=\"btn btn-default btn-xs coq_kernel_roll_back_button\" onclick=\"CoqKernel.roll_back(this)\">\n",
       "        <i class=\"fa-step-backward fa\"></i>\n",
       "        <span class=\"toolbar-btn-label\">Rollback cell</span>\n",
       "    </button>\n",
       "\n",
       "    <div style=\"display: inline-block; vertical-align: middle; padding-left: 0; padding-right: 0;\">\n",
       "      <input class=\"coq_kernel_auto_roll_back_checkbox\" type=\"checkbox\" value=\"\" onchange=\"CoqKernel.toggle_auto_roll_back(this)\" checked>\n",
       "      <label\">Auto rollback</label>\n",
       "    </div>\n",
       "</div>\n"
      ],
      "text/plain": []
     },
     "execution_count": 18,
     "metadata": {
      "coq_kernel_evaluated": true,
      "coq_kernel_execution_id": "3d430b60-342b-4301-8e00-9bc6b319ad46",
      "coq_kernel_rolled_back": false
     },
     "output_type": "execute_result"
    }
   ],
   "source": [
    "Example test_negf:\n",
    " negb(false) = true.\n",
    "Proof. simpl. reflexivity. Qed."
   ]
  },
  {
   "cell_type": "markdown",
   "id": "ea62d3af-a978-4841-ae61-a06ef2991f56",
   "metadata": {},
   "source": [
    "En regardant la table de vérité pour \"ou\", $\\lor$, nous arrivons facilement à définir"
   ]
  },
  {
   "cell_type": "code",
   "execution_count": 18,
   "id": "e7a598eb-3c47-4437-bf1a-c768a6be6876",
   "metadata": {},
   "outputs": [
    {
     "data": {
      "text/html": [
       "\n",
       "<div class=\"coq_kernel_output_area\">\n",
       "    <pre></pre>\n",
       "</div>\n",
       "\n",
       "<div class=\"coq_kernel_rich_cell_output coq_kernel_status_message_area\" style=\"padding: 5px 0px;\">\n",
       "    <i class=\"fa-check fa text-success\"></i>\n",
       "    <span>Cell evaluated.</span>\n",
       "</div>\n",
       "\n",
       "<div class=\"coq_kernel_rich_cell_output coq_kernel_status_message_area coq_kernel_rolled_back_status_message\" style=\"padding: 5px 0px; display: none;\">\n",
       "    <i class=\"fa-exclamation-circle fa text-info\"></i>\n",
       "    <span>Cell rolled back.</span>\n",
       "</div>\n",
       "\n",
       "<div class=\"coq_kernel_rich_cell_output coq_kernel_roll_back_controls_area\" style=\"display: none; position: relative;\">\n",
       "    <button class=\"btn btn-default btn-xs coq_kernel_roll_back_button\" onclick=\"CoqKernel.roll_back(this)\">\n",
       "        <i class=\"fa-step-backward fa\"></i>\n",
       "        <span class=\"toolbar-btn-label\">Rollback cell</span>\n",
       "    </button>\n",
       "\n",
       "    <div style=\"display: inline-block; vertical-align: middle; padding-left: 0; padding-right: 0;\">\n",
       "      <input class=\"coq_kernel_auto_roll_back_checkbox\" type=\"checkbox\" value=\"\" onchange=\"CoqKernel.toggle_auto_roll_back(this)\" checked>\n",
       "      <label\">Auto rollback</label>\n",
       "    </div>\n",
       "</div>\n"
      ],
      "text/plain": []
     },
     "execution_count": 19,
     "metadata": {
      "coq_kernel_evaluated": true,
      "coq_kernel_execution_id": "bf634907-e317-46bc-a668-d1e6b00f6956",
      "coq_kernel_rolled_back": false
     },
     "output_type": "execute_result"
    }
   ],
   "source": [
    "Definition orb(b1 : bool) (b2 : bool) : bool :=\n",
    "match b1 with\n",
    "| true => true\n",
    "| false => b2\n",
    "end."
   ]
  },
  {
   "cell_type": "markdown",
   "id": "87e834d5-712b-4a12-9586-6b4b0ec7106e",
   "metadata": {},
   "source": [
    "que nous pouvons vérifier par la table complète :"
   ]
  },
  {
   "cell_type": "code",
   "execution_count": 19,
   "id": "2d586310-9dca-4aa9-9cb1-1a00fa715140",
   "metadata": {},
   "outputs": [
    {
     "data": {
      "text/html": [
       "\n",
       "<div class=\"coq_kernel_output_area\">\n",
       "    <pre></pre>\n",
       "</div>\n",
       "\n",
       "<div class=\"coq_kernel_rich_cell_output coq_kernel_status_message_area\" style=\"padding: 5px 0px;\">\n",
       "    <i class=\"fa-check fa text-success\"></i>\n",
       "    <span>Cell evaluated.</span>\n",
       "</div>\n",
       "\n",
       "<div class=\"coq_kernel_rich_cell_output coq_kernel_status_message_area coq_kernel_rolled_back_status_message\" style=\"padding: 5px 0px; display: none;\">\n",
       "    <i class=\"fa-exclamation-circle fa text-info\"></i>\n",
       "    <span>Cell rolled back.</span>\n",
       "</div>\n",
       "\n",
       "<div class=\"coq_kernel_rich_cell_output coq_kernel_roll_back_controls_area\" style=\"display: none; position: relative;\">\n",
       "    <button class=\"btn btn-default btn-xs coq_kernel_roll_back_button\" onclick=\"CoqKernel.roll_back(this)\">\n",
       "        <i class=\"fa-step-backward fa\"></i>\n",
       "        <span class=\"toolbar-btn-label\">Rollback cell</span>\n",
       "    </button>\n",
       "\n",
       "    <div style=\"display: inline-block; vertical-align: middle; padding-left: 0; padding-right: 0;\">\n",
       "      <input class=\"coq_kernel_auto_roll_back_checkbox\" type=\"checkbox\" value=\"\" onchange=\"CoqKernel.toggle_auto_roll_back(this)\" checked>\n",
       "      <label\">Auto rollback</label>\n",
       "    </div>\n",
       "</div>\n"
      ],
      "text/plain": []
     },
     "execution_count": 39,
     "metadata": {
      "coq_kernel_evaluated": true,
      "coq_kernel_execution_id": "aca31e2f-6311-4aee-8797-995c5dff5175",
      "coq_kernel_rolled_back": false
     },
     "output_type": "execute_result"
    }
   ],
   "source": [
    "Example TrueOrFalse:\n",
    "  orb(true)(false) = true.\n",
    "Proof. simpl. reflexivity. Qed.\n",
    "\n",
    "Example TrueOrTrue:\n",
    "  orb(true)(true) = true.\n",
    "Proof. simpl. reflexivity. Qed.\n",
    "\n",
    "Example FalseOrFalse:\n",
    "  orb(false)(false) = false.\n",
    "Proof. simpl. reflexivity. Qed.\n",
    "\n",
    "Example FalseOrTrue:\n",
    "  orb(false)(true) = true.\n",
    "Proof. simpl. reflexivity. Qed."
   ]
  },
  {
   "cell_type": "markdown",
   "id": "35a85936-e2a1-4d99-8e90-198852a95b7c",
   "metadata": {},
   "source": [
    "Nous faisons de même pour \"et\", $\\land$, que nous définissons par "
   ]
  },
  {
   "cell_type": "code",
   "execution_count": 39,
   "id": "ca1dead2-4fd5-44e3-9b1b-2e9e5461fce7",
   "metadata": {},
   "outputs": [
    {
     "data": {
      "text/html": [
       "\n",
       "<div class=\"coq_kernel_output_area\">\n",
       "    <pre></pre>\n",
       "</div>\n",
       "\n",
       "<div class=\"coq_kernel_rich_cell_output coq_kernel_status_message_area\" style=\"padding: 5px 0px;\">\n",
       "    <i class=\"fa-check fa text-success\"></i>\n",
       "    <span>Cell evaluated.</span>\n",
       "</div>\n",
       "\n",
       "<div class=\"coq_kernel_rich_cell_output coq_kernel_status_message_area coq_kernel_rolled_back_status_message\" style=\"padding: 5px 0px; display: none;\">\n",
       "    <i class=\"fa-exclamation-circle fa text-info\"></i>\n",
       "    <span>Cell rolled back.</span>\n",
       "</div>\n",
       "\n",
       "<div class=\"coq_kernel_rich_cell_output coq_kernel_roll_back_controls_area\" style=\"display: none; position: relative;\">\n",
       "    <button class=\"btn btn-default btn-xs coq_kernel_roll_back_button\" onclick=\"CoqKernel.roll_back(this)\">\n",
       "        <i class=\"fa-step-backward fa\"></i>\n",
       "        <span class=\"toolbar-btn-label\">Rollback cell</span>\n",
       "    </button>\n",
       "\n",
       "    <div style=\"display: inline-block; vertical-align: middle; padding-left: 0; padding-right: 0;\">\n",
       "      <input class=\"coq_kernel_auto_roll_back_checkbox\" type=\"checkbox\" value=\"\" onchange=\"CoqKernel.toggle_auto_roll_back(this)\" checked>\n",
       "      <label\">Auto rollback</label>\n",
       "    </div>\n",
       "</div>\n"
      ],
      "text/plain": []
     },
     "execution_count": 40,
     "metadata": {
      "coq_kernel_evaluated": true,
      "coq_kernel_execution_id": "75064c56-81c8-44fd-9a20-e8ea3c9eca32",
      "coq_kernel_rolled_back": false
     },
     "output_type": "execute_result"
    }
   ],
   "source": [
    "Definition andb(b1:bool)(b2:bool):bool:=\n",
    "match b1 with\n",
    "| true => b2\n",
    "| false => false\n",
    "end."
   ]
  },
  {
   "cell_type": "markdown",
   "id": "ea9755cb-06dd-43b1-a181-3d07c6b031d3",
   "metadata": {},
   "source": [
    "nous vérifions la table de vérité : "
   ]
  },
  {
   "cell_type": "code",
   "execution_count": 40,
   "id": "effb3402-6a0e-4ba1-b851-f0610677e2ac",
   "metadata": {},
   "outputs": [
    {
     "data": {
      "text/html": [
       "\n",
       "<div class=\"coq_kernel_output_area\">\n",
       "    <pre></pre>\n",
       "</div>\n",
       "\n",
       "<div class=\"coq_kernel_rich_cell_output coq_kernel_status_message_area\" style=\"padding: 5px 0px;\">\n",
       "    <i class=\"fa-check fa text-success\"></i>\n",
       "    <span>Cell evaluated.</span>\n",
       "</div>\n",
       "\n",
       "<div class=\"coq_kernel_rich_cell_output coq_kernel_status_message_area coq_kernel_rolled_back_status_message\" style=\"padding: 5px 0px; display: none;\">\n",
       "    <i class=\"fa-exclamation-circle fa text-info\"></i>\n",
       "    <span>Cell rolled back.</span>\n",
       "</div>\n",
       "\n",
       "<div class=\"coq_kernel_rich_cell_output coq_kernel_roll_back_controls_area\" style=\"display: none; position: relative;\">\n",
       "    <button class=\"btn btn-default btn-xs coq_kernel_roll_back_button\" onclick=\"CoqKernel.roll_back(this)\">\n",
       "        <i class=\"fa-step-backward fa\"></i>\n",
       "        <span class=\"toolbar-btn-label\">Rollback cell</span>\n",
       "    </button>\n",
       "\n",
       "    <div style=\"display: inline-block; vertical-align: middle; padding-left: 0; padding-right: 0;\">\n",
       "      <input class=\"coq_kernel_auto_roll_back_checkbox\" type=\"checkbox\" value=\"\" onchange=\"CoqKernel.toggle_auto_roll_back(this)\" checked>\n",
       "      <label\">Auto rollback</label>\n",
       "    </div>\n",
       "</div>\n"
      ],
      "text/plain": []
     },
     "execution_count": 60,
     "metadata": {
      "coq_kernel_evaluated": true,
      "coq_kernel_execution_id": "d6ce2344-0c9a-4614-b935-ffd14422290c",
      "coq_kernel_rolled_back": false
     },
     "output_type": "execute_result"
    }
   ],
   "source": [
    "Example and1:\n",
    "  andb(true)(false) = false.\n",
    "Proof. simpl. reflexivity. Qed.\n",
    "\n",
    "Example and2:\n",
    "  andb(true)(true) = true.\n",
    "Proof. simpl. reflexivity. Qed.\n",
    "\n",
    "Example and3:\n",
    "  andb(false)(false) = false.\n",
    "Proof. simpl. reflexivity. Qed.\n",
    "\n",
    "Example and4:\n",
    "  andb(false)(true) = false.\n",
    "Proof. simpl. reflexivity. Qed."
   ]
  },
  {
   "cell_type": "markdown",
   "id": "7c45d226-92ff-4228-a7e0-be691e65f555",
   "metadata": {},
   "source": [
    "Au lieu de devoir utiliser ces définitions assez pénibles, peu pratiques, nous pouvons définir des notations pour utiliser orb ET andb ! "
   ]
  },
  {
   "cell_type": "code",
   "execution_count": 60,
   "id": "2cf9e455-3f69-4f15-beca-8111668db618",
   "metadata": {},
   "outputs": [
    {
     "data": {
      "text/html": [
       "\n",
       "<div class=\"coq_kernel_output_area\">\n",
       "    <pre></pre>\n",
       "</div>\n",
       "\n",
       "<div class=\"coq_kernel_rich_cell_output coq_kernel_status_message_area\" style=\"padding: 5px 0px;\">\n",
       "    <i class=\"fa-check fa text-success\"></i>\n",
       "    <span>Cell evaluated.</span>\n",
       "</div>\n",
       "\n",
       "<div class=\"coq_kernel_rich_cell_output coq_kernel_status_message_area coq_kernel_rolled_back_status_message\" style=\"padding: 5px 0px; display: none;\">\n",
       "    <i class=\"fa-exclamation-circle fa text-info\"></i>\n",
       "    <span>Cell rolled back.</span>\n",
       "</div>\n",
       "\n",
       "<div class=\"coq_kernel_rich_cell_output coq_kernel_roll_back_controls_area\" style=\"display: none; position: relative;\">\n",
       "    <button class=\"btn btn-default btn-xs coq_kernel_roll_back_button\" onclick=\"CoqKernel.roll_back(this)\">\n",
       "        <i class=\"fa-step-backward fa\"></i>\n",
       "        <span class=\"toolbar-btn-label\">Rollback cell</span>\n",
       "    </button>\n",
       "\n",
       "    <div style=\"display: inline-block; vertical-align: middle; padding-left: 0; padding-right: 0;\">\n",
       "      <input class=\"coq_kernel_auto_roll_back_checkbox\" type=\"checkbox\" value=\"\" onchange=\"CoqKernel.toggle_auto_roll_back(this)\" checked>\n",
       "      <label\">Auto rollback</label>\n",
       "    </div>\n",
       "</div>\n"
      ],
      "text/plain": []
     },
     "execution_count": 62,
     "metadata": {
      "coq_kernel_evaluated": true,
      "coq_kernel_execution_id": "20644ade-533f-46f6-86d9-51967bc26344",
      "coq_kernel_rolled_back": false
     },
     "output_type": "execute_result"
    }
   ],
   "source": [
    "Notation \"x && y\" := (andb x y).\n",
    "Notation \"x || y\" := (orb x y )."
   ]
  },
  {
   "cell_type": "markdown",
   "id": "6c1a50d1-6379-45e7-b70e-a836e7dd3dd1",
   "metadata": {},
   "source": [
    "Nous pouvons prendre quelques exemples : "
   ]
  },
  {
   "cell_type": "code",
   "execution_count": 62,
   "id": "06f9685f-3891-4ccb-b832-ffe9ba377965",
   "metadata": {},
   "outputs": [
    {
     "data": {
      "text/html": [
       "\n",
       "<div class=\"coq_kernel_output_area\">\n",
       "    <pre></pre>\n",
       "</div>\n",
       "\n",
       "<div class=\"coq_kernel_rich_cell_output coq_kernel_status_message_area\" style=\"padding: 5px 0px;\">\n",
       "    <i class=\"fa-check fa text-success\"></i>\n",
       "    <span>Cell evaluated.</span>\n",
       "</div>\n",
       "\n",
       "<div class=\"coq_kernel_rich_cell_output coq_kernel_status_message_area coq_kernel_rolled_back_status_message\" style=\"padding: 5px 0px; display: none;\">\n",
       "    <i class=\"fa-exclamation-circle fa text-info\"></i>\n",
       "    <span>Cell rolled back.</span>\n",
       "</div>\n",
       "\n",
       "<div class=\"coq_kernel_rich_cell_output coq_kernel_roll_back_controls_area\" style=\"display: none; position: relative;\">\n",
       "    <button class=\"btn btn-default btn-xs coq_kernel_roll_back_button\" onclick=\"CoqKernel.roll_back(this)\">\n",
       "        <i class=\"fa-step-backward fa\"></i>\n",
       "        <span class=\"toolbar-btn-label\">Rollback cell</span>\n",
       "    </button>\n",
       "\n",
       "    <div style=\"display: inline-block; vertical-align: middle; padding-left: 0; padding-right: 0;\">\n",
       "      <input class=\"coq_kernel_auto_roll_back_checkbox\" type=\"checkbox\" value=\"\" onchange=\"CoqKernel.toggle_auto_roll_back(this)\" checked>\n",
       "      <label\">Auto rollback</label>\n",
       "    </div>\n",
       "</div>\n"
      ],
      "text/plain": []
     },
     "execution_count": 77,
     "metadata": {
      "coq_kernel_evaluated": true,
      "coq_kernel_execution_id": "2f35d550-b269-4192-a824-e885cd71c7c3",
      "coq_kernel_rolled_back": false
     },
     "output_type": "execute_result"
    }
   ],
   "source": [
    "Example FalseOrFalseOrFalseOrTrue:\n",
    "  false || false || false || true = true.\n",
    "Proof. simpl. reflexivity. Qed.\n",
    "\n",
    "Example TrueAndTrueAndTrueAndFalse:\n",
    "  true && true && true && false = false.\n",
    "Proof. simpl. reflexivity. Qed.\n",
    "\n",
    "Example TrueAndTrue_OrFalse:\n",
    "  (true && true) || false = true.\n",
    "Proof. simpl. reflexivity. Qed."
   ]
  },
  {
   "cell_type": "markdown",
   "id": "fc9ece8f-8154-4965-b623-bff366929aaa",
   "metadata": {},
   "source": [
    "Nous pouvons aussi définir une fonction nand, \"$\\neg \\land$\","
   ]
  },
  {
   "cell_type": "code",
   "execution_count": 77,
   "id": "7d9336d5-3a6a-4cee-a915-9f804e91ba2e",
   "metadata": {},
   "outputs": [
    {
     "data": {
      "text/html": [
       "\n",
       "<div class=\"coq_kernel_output_area\">\n",
       "    <pre></pre>\n",
       "</div>\n",
       "\n",
       "<div class=\"coq_kernel_rich_cell_output coq_kernel_status_message_area\" style=\"padding: 5px 0px;\">\n",
       "    <i class=\"fa-check fa text-success\"></i>\n",
       "    <span>Cell evaluated.</span>\n",
       "</div>\n",
       "\n",
       "<div class=\"coq_kernel_rich_cell_output coq_kernel_status_message_area coq_kernel_rolled_back_status_message\" style=\"padding: 5px 0px; display: none;\">\n",
       "    <i class=\"fa-exclamation-circle fa text-info\"></i>\n",
       "    <span>Cell rolled back.</span>\n",
       "</div>\n",
       "\n",
       "<div class=\"coq_kernel_rich_cell_output coq_kernel_roll_back_controls_area\" style=\"display: none; position: relative;\">\n",
       "    <button class=\"btn btn-default btn-xs coq_kernel_roll_back_button\" onclick=\"CoqKernel.roll_back(this)\">\n",
       "        <i class=\"fa-step-backward fa\"></i>\n",
       "        <span class=\"toolbar-btn-label\">Rollback cell</span>\n",
       "    </button>\n",
       "\n",
       "    <div style=\"display: inline-block; vertical-align: middle; padding-left: 0; padding-right: 0;\">\n",
       "      <input class=\"coq_kernel_auto_roll_back_checkbox\" type=\"checkbox\" value=\"\" onchange=\"CoqKernel.toggle_auto_roll_back(this)\" checked>\n",
       "      <label\">Auto rollback</label>\n",
       "    </div>\n",
       "</div>\n"
      ],
      "text/plain": []
     },
     "execution_count": 78,
     "metadata": {
      "coq_kernel_evaluated": true,
      "coq_kernel_execution_id": "bf55dc2b-c06c-4eec-be48-5e1536e43648",
      "coq_kernel_rolled_back": false
     },
     "output_type": "execute_result"
    }
   ],
   "source": [
    "Definition nandb (b1:bool) (b2:bool) : bool :=\n",
    "match b1 with\n",
    "| true => negb(b2)\n",
    "| false => true\n",
    "end."
   ]
  },
  {
   "cell_type": "markdown",
   "id": "3c399b52-f770-41e5-8985-906dfe88bede",
   "metadata": {},
   "source": [
    "qu'on vérifie facilement par un exemple,"
   ]
  },
  {
   "cell_type": "code",
   "execution_count": 95,
   "id": "02c2903b-f5d1-4e58-b9c9-f889aa4c649f",
   "metadata": {},
   "outputs": [
    {
     "data": {
      "text/html": [
       "\n",
       "<div class=\"coq_kernel_output_area\">\n",
       "    <pre></pre>\n",
       "</div>\n",
       "\n",
       "<div class=\"coq_kernel_rich_cell_output coq_kernel_status_message_area\" style=\"padding: 5px 0px;\">\n",
       "    <i class=\"fa-check fa text-success\"></i>\n",
       "    <span>Cell evaluated.</span>\n",
       "</div>\n",
       "\n",
       "<div class=\"coq_kernel_rich_cell_output coq_kernel_status_message_area coq_kernel_rolled_back_status_message\" style=\"padding: 5px 0px; display: none;\">\n",
       "    <i class=\"fa-exclamation-circle fa text-info\"></i>\n",
       "    <span>Cell rolled back.</span>\n",
       "</div>\n",
       "\n",
       "<div class=\"coq_kernel_rich_cell_output coq_kernel_roll_back_controls_area\" style=\"display: none; position: relative;\">\n",
       "    <button class=\"btn btn-default btn-xs coq_kernel_roll_back_button\" onclick=\"CoqKernel.roll_back(this)\">\n",
       "        <i class=\"fa-step-backward fa\"></i>\n",
       "        <span class=\"toolbar-btn-label\">Rollback cell</span>\n",
       "    </button>\n",
       "\n",
       "    <div style=\"display: inline-block; vertical-align: middle; padding-left: 0; padding-right: 0;\">\n",
       "      <input class=\"coq_kernel_auto_roll_back_checkbox\" type=\"checkbox\" value=\"\" onchange=\"CoqKernel.toggle_auto_roll_back(this)\" checked>\n",
       "      <label\">Auto rollback</label>\n",
       "    </div>\n",
       "</div>\n"
      ],
      "text/plain": []
     },
     "execution_count": 121,
     "metadata": {
      "coq_kernel_evaluated": true,
      "coq_kernel_execution_id": "eca0b49c-86b9-4ccd-8c80-16a6e10741d6",
      "coq_kernel_rolled_back": false
     },
     "output_type": "execute_result"
    }
   ],
   "source": [
    "Example NandbTrueFalse: (nandb true false) = negb (andb(true)(false)).B\n",
    "Proof. simpl. reflexivity. Qed.\n",
    "Example NandbFalseFalse: (nandb false false) = negb (andb(false)(false)).\n",
    "Proof. simpl. reflexivity. Qed.\n",
    "Example NandbFalseTrue: (nandb false true) = negb (andb(false)(false)).\n",
    "Proof. simpl. reflexivity. Qed.\n",
    "Example NandbTrueTrue: (nandb true true) = negb (andb(true)(true)).\n",
    "Proof. simpl. reflexivity. Qed."
   ]
  },
  {
   "cell_type": "markdown",
   "id": "786d7610-82c6-4f10-a4d3-e5e25f8892cf",
   "metadata": {},
   "source": [
    "Bien évidemment, le choix des noms attirés aux exemples est libre, si on remplaçait \"NandbTrueTrue\" par \"Tomate\" cela fonctionnerait tout autant."
   ]
  },
  {
   "cell_type": "markdown",
   "id": "de4063f5-c999-42a4-a06d-770bc171f970",
   "metadata": {},
   "source": [
    "Nous pouvons fournir une définition alternative aux définitions sur les booléens en utilisant des instructions conditionnelles : "
   ]
  },
  {
   "cell_type": "code",
   "execution_count": 78,
   "id": "f83ab2a2-9f81-4cc7-8c5b-bc0d8e344785",
   "metadata": {},
   "outputs": [
    {
     "data": {
      "text/html": [
       "\n",
       "<div class=\"coq_kernel_output_area\">\n",
       "    <pre></pre>\n",
       "</div>\n",
       "\n",
       "<div class=\"coq_kernel_rich_cell_output coq_kernel_status_message_area\" style=\"padding: 5px 0px;\">\n",
       "    <i class=\"fa-check fa text-success\"></i>\n",
       "    <span>Cell evaluated.</span>\n",
       "</div>\n",
       "\n",
       "<div class=\"coq_kernel_rich_cell_output coq_kernel_status_message_area coq_kernel_rolled_back_status_message\" style=\"padding: 5px 0px; display: none;\">\n",
       "    <i class=\"fa-exclamation-circle fa text-info\"></i>\n",
       "    <span>Cell rolled back.</span>\n",
       "</div>\n",
       "\n",
       "<div class=\"coq_kernel_rich_cell_output coq_kernel_roll_back_controls_area\" style=\"display: none; position: relative;\">\n",
       "    <button class=\"btn btn-default btn-xs coq_kernel_roll_back_button\" onclick=\"CoqKernel.roll_back(this)\">\n",
       "        <i class=\"fa-step-backward fa\"></i>\n",
       "        <span class=\"toolbar-btn-label\">Rollback cell</span>\n",
       "    </button>\n",
       "\n",
       "    <div style=\"display: inline-block; vertical-align: middle; padding-left: 0; padding-right: 0;\">\n",
       "      <input class=\"coq_kernel_auto_roll_back_checkbox\" type=\"checkbox\" value=\"\" onchange=\"CoqKernel.toggle_auto_roll_back(this)\" checked>\n",
       "      <label\">Auto rollback</label>\n",
       "    </div>\n",
       "</div>\n"
      ],
      "text/plain": []
     },
     "execution_count": 85,
     "metadata": {
      "coq_kernel_evaluated": true,
      "coq_kernel_execution_id": "aaabe4df-5fa1-47a8-af1b-8a67a5893173",
      "coq_kernel_rolled_back": false
     },
     "output_type": "execute_result"
    }
   ],
   "source": [
    "Definition negb' (b : bool) : bool :=\n",
    "if b then false\n",
    "else true.\n",
    "\n",
    "Definition andb' (b1:bool)(b2:bool) : bool :=\n",
    "if b1 then b2\n",
    "else false.\n",
    "\n",
    "Definition orb' (b1:bool)(b2:bool) : bool :=\n",
    "if b1 then true\n",
    "else false."
   ]
  },
  {
   "cell_type": "markdown",
   "id": "1b454670-1b8a-48f8-8a4f-4bb1f21d6e43",
   "metadata": {},
   "source": [
    "> Plus compact, mais plus dur à comprendre dès la première lecture du code"
   ]
  },
  {
   "cell_type": "code",
   "execution_count": null,
   "id": "b8547e19-ed65-46b8-99c6-cf20cc67917a",
   "metadata": {},
   "outputs": [],
   "source": []
  }
 ],
 "metadata": {
  "kernelspec": {
   "display_name": "Coq",
   "language": "coq",
   "name": "coq"
  },
  "language_info": {
   "file_extension": ".v",
   "mimetype": "text/x-coq",
   "name": "coq",
   "version": "8.16.1"
  }
 },
 "nbformat": 4,
 "nbformat_minor": 5
}
